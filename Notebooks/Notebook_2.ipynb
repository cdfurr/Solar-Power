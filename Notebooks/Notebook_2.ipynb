{
 "cells": [
  {
   "cell_type": "markdown",
   "metadata": {},
   "source": [
    "# Solar Power"
   ]
  },
  {
   "cell_type": "markdown",
   "metadata": {},
   "source": [
    "## Business Understanding"
   ]
  },
  {
   "cell_type": "markdown",
   "metadata": {},
   "source": [
    "### Stakeholder:\n",
    "- \n",
    "-\n",
    "-"
   ]
  },
  {
   "cell_type": "markdown",
   "metadata": {},
   "source": [
    "### True Business Problem:\n",
    "With a recent push for cleaner renewable energy (company name) is seeing an increase in solar panel request. (company name) is looking the potential of solar power and how it can meet the demands of the current power consumption. "
   ]
  },
  {
   "cell_type": "markdown",
   "metadata": {},
   "source": [
    "# Data Understanding"
   ]
  },
  {
   "cell_type": "code",
   "execution_count": 1,
   "metadata": {},
   "outputs": [],
   "source": [
    "# imports\n",
    "import pandas as pd\n",
    "import numpy as np\n",
    "\n",
    "from datetime import datetime as dt\n",
    "import requests \n",
    "from secret import keys\n",
    "\n",
    "import matplotlib\n",
    "import matplotlib.pyplot as plt\n",
    "import seaborn as sns"
   ]
  },
  {
   "cell_type": "code",
   "execution_count": 2,
   "metadata": {},
   "outputs": [],
   "source": [
    "api_key = keys.API_KEY\n",
    "# pulling in the API key from the website"
   ]
  },
  {
   "cell_type": "markdown",
   "metadata": {},
   "source": [
    "### Params \n",
    "- Below I will set the parameters and pull in data from three different time frames until I get a reasonable amount of data"
   ]
  },
  {
   "cell_type": "code",
   "execution_count": 3,
   "metadata": {},
   "outputs": [],
   "source": [
    "base_url = 'https://api.eia.gov/v2/electricity/rto/fuel-type-data/data'"
   ]
  },
  {
   "cell_type": "code",
   "execution_count": 45,
   "metadata": {},
   "outputs": [],
   "source": [
    "params = {\n",
    "    'api_key': api_key,\n",
    "    \"frequency\": \"hourly\", # pulling data in hourly.\n",
    "    \"data[]\": \"value\", # amount of energy produced or consumed?\n",
    "    \"facets[fueltype][]\":[\"SUN\", \"WND\", \"NG\", \"OIL\"], # energy source (solar)\n",
    "    \"facets[respondent][]\": \"SOCO\", # recording location of data (Southern Company)\n",
    "    \"start\": \"2022-07-01\", # Time frame to pull data (start and end date)\n",
    "    \"end\": \"2022-07-29\"\n",
    "}\n",
    "\n",
    "# the exact same parameters will be used for future data acquisitions. \n",
    "            ## The time frame will be the only change within the code. "
   ]
  },
  {
   "cell_type": "code",
   "execution_count": 5,
   "metadata": {},
   "outputs": [],
   "source": [
    "resp = requests.get(base_url, params = params)"
   ]
  },
  {
   "cell_type": "code",
   "execution_count": 6,
   "metadata": {},
   "outputs": [
    {
     "data": {
      "text/plain": [
       "200"
      ]
     },
     "execution_count": 6,
     "metadata": {},
     "output_type": "execute_result"
    }
   ],
   "source": [
    "resp.status_code\n",
    "# receiving a 200 means a successful response from the `base_url`"
   ]
  },
  {
   "cell_type": "code",
   "execution_count": 7,
   "metadata": {
    "scrolled": false
   },
   "outputs": [],
   "source": [
    "data = resp.json()\n"
   ]
  },
  {
   "cell_type": "code",
   "execution_count": 8,
   "metadata": {},
   "outputs": [
    {
     "data": {
      "text/plain": [
       "dict_keys(['query execution', 'count query execution', 'total', 'dateFormat', 'frequency', 'data', 'description'])"
      ]
     },
     "execution_count": 8,
     "metadata": {},
     "output_type": "execute_result"
    }
   ],
   "source": [
    "data['response'].keys()"
   ]
  },
  {
   "cell_type": "code",
   "execution_count": 9,
   "metadata": {
    "scrolled": false
   },
   "outputs": [
    {
     "data": {
      "text/html": [
       "<div>\n",
       "<style scoped>\n",
       "    .dataframe tbody tr th:only-of-type {\n",
       "        vertical-align: middle;\n",
       "    }\n",
       "\n",
       "    .dataframe tbody tr th {\n",
       "        vertical-align: top;\n",
       "    }\n",
       "\n",
       "    .dataframe thead th {\n",
       "        text-align: right;\n",
       "    }\n",
       "</style>\n",
       "<table border=\"1\" class=\"dataframe\">\n",
       "  <thead>\n",
       "    <tr style=\"text-align: right;\">\n",
       "      <th></th>\n",
       "      <th>period</th>\n",
       "      <th>respondent</th>\n",
       "      <th>respondent-name</th>\n",
       "      <th>fueltype</th>\n",
       "      <th>type-name</th>\n",
       "      <th>value</th>\n",
       "      <th>value-units</th>\n",
       "    </tr>\n",
       "  </thead>\n",
       "  <tbody>\n",
       "    <tr>\n",
       "      <th>0</th>\n",
       "      <td>2022-07-01T00</td>\n",
       "      <td>SOCO</td>\n",
       "      <td>Southern Company Services, Inc. - Trans</td>\n",
       "      <td>WND</td>\n",
       "      <td>Wind</td>\n",
       "      <td>0</td>\n",
       "      <td>megawatthours</td>\n",
       "    </tr>\n",
       "    <tr>\n",
       "      <th>1</th>\n",
       "      <td>2022-07-01T01</td>\n",
       "      <td>SOCO</td>\n",
       "      <td>Southern Company Services, Inc. - Trans</td>\n",
       "      <td>WND</td>\n",
       "      <td>Wind</td>\n",
       "      <td>0</td>\n",
       "      <td>megawatthours</td>\n",
       "    </tr>\n",
       "    <tr>\n",
       "      <th>2</th>\n",
       "      <td>2022-07-01T02</td>\n",
       "      <td>SOCO</td>\n",
       "      <td>Southern Company Services, Inc. - Trans</td>\n",
       "      <td>WND</td>\n",
       "      <td>Wind</td>\n",
       "      <td>0</td>\n",
       "      <td>megawatthours</td>\n",
       "    </tr>\n",
       "    <tr>\n",
       "      <th>3</th>\n",
       "      <td>2022-07-01T03</td>\n",
       "      <td>SOCO</td>\n",
       "      <td>Southern Company Services, Inc. - Trans</td>\n",
       "      <td>WND</td>\n",
       "      <td>Wind</td>\n",
       "      <td>0</td>\n",
       "      <td>megawatthours</td>\n",
       "    </tr>\n",
       "    <tr>\n",
       "      <th>4</th>\n",
       "      <td>2022-07-01T04</td>\n",
       "      <td>SOCO</td>\n",
       "      <td>Southern Company Services, Inc. - Trans</td>\n",
       "      <td>WND</td>\n",
       "      <td>Wind</td>\n",
       "      <td>0</td>\n",
       "      <td>megawatthours</td>\n",
       "    </tr>\n",
       "    <tr>\n",
       "      <th>...</th>\n",
       "      <td>...</td>\n",
       "      <td>...</td>\n",
       "      <td>...</td>\n",
       "      <td>...</td>\n",
       "      <td>...</td>\n",
       "      <td>...</td>\n",
       "      <td>...</td>\n",
       "    </tr>\n",
       "    <tr>\n",
       "      <th>2683</th>\n",
       "      <td>2022-07-28T19</td>\n",
       "      <td>SOCO</td>\n",
       "      <td>Southern Company Services, Inc. - Trans</td>\n",
       "      <td>SUN</td>\n",
       "      <td>Solar</td>\n",
       "      <td>1099</td>\n",
       "      <td>megawatthours</td>\n",
       "    </tr>\n",
       "    <tr>\n",
       "      <th>2684</th>\n",
       "      <td>2022-07-28T20</td>\n",
       "      <td>SOCO</td>\n",
       "      <td>Southern Company Services, Inc. - Trans</td>\n",
       "      <td>SUN</td>\n",
       "      <td>Solar</td>\n",
       "      <td>1006</td>\n",
       "      <td>megawatthours</td>\n",
       "    </tr>\n",
       "    <tr>\n",
       "      <th>2685</th>\n",
       "      <td>2022-07-28T21</td>\n",
       "      <td>SOCO</td>\n",
       "      <td>Southern Company Services, Inc. - Trans</td>\n",
       "      <td>SUN</td>\n",
       "      <td>Solar</td>\n",
       "      <td>798</td>\n",
       "      <td>megawatthours</td>\n",
       "    </tr>\n",
       "    <tr>\n",
       "      <th>2686</th>\n",
       "      <td>2022-07-28T22</td>\n",
       "      <td>SOCO</td>\n",
       "      <td>Southern Company Services, Inc. - Trans</td>\n",
       "      <td>SUN</td>\n",
       "      <td>Solar</td>\n",
       "      <td>765</td>\n",
       "      <td>megawatthours</td>\n",
       "    </tr>\n",
       "    <tr>\n",
       "      <th>2687</th>\n",
       "      <td>2022-07-28T23</td>\n",
       "      <td>SOCO</td>\n",
       "      <td>Southern Company Services, Inc. - Trans</td>\n",
       "      <td>SUN</td>\n",
       "      <td>Solar</td>\n",
       "      <td>484</td>\n",
       "      <td>megawatthours</td>\n",
       "    </tr>\n",
       "  </tbody>\n",
       "</table>\n",
       "<p>2688 rows × 7 columns</p>\n",
       "</div>"
      ],
      "text/plain": [
       "             period respondent                          respondent-name  \\\n",
       "0     2022-07-01T00       SOCO  Southern Company Services, Inc. - Trans   \n",
       "1     2022-07-01T01       SOCO  Southern Company Services, Inc. - Trans   \n",
       "2     2022-07-01T02       SOCO  Southern Company Services, Inc. - Trans   \n",
       "3     2022-07-01T03       SOCO  Southern Company Services, Inc. - Trans   \n",
       "4     2022-07-01T04       SOCO  Southern Company Services, Inc. - Trans   \n",
       "...             ...        ...                                      ...   \n",
       "2683  2022-07-28T19       SOCO  Southern Company Services, Inc. - Trans   \n",
       "2684  2022-07-28T20       SOCO  Southern Company Services, Inc. - Trans   \n",
       "2685  2022-07-28T21       SOCO  Southern Company Services, Inc. - Trans   \n",
       "2686  2022-07-28T22       SOCO  Southern Company Services, Inc. - Trans   \n",
       "2687  2022-07-28T23       SOCO  Southern Company Services, Inc. - Trans   \n",
       "\n",
       "     fueltype type-name  value    value-units  \n",
       "0         WND      Wind      0  megawatthours  \n",
       "1         WND      Wind      0  megawatthours  \n",
       "2         WND      Wind      0  megawatthours  \n",
       "3         WND      Wind      0  megawatthours  \n",
       "4         WND      Wind      0  megawatthours  \n",
       "...       ...       ...    ...            ...  \n",
       "2683      SUN     Solar   1099  megawatthours  \n",
       "2684      SUN     Solar   1006  megawatthours  \n",
       "2685      SUN     Solar    798  megawatthours  \n",
       "2686      SUN     Solar    765  megawatthours  \n",
       "2687      SUN     Solar    484  megawatthours  \n",
       "\n",
       "[2688 rows x 7 columns]"
      ]
     },
     "execution_count": 9,
     "metadata": {},
     "output_type": "execute_result"
    }
   ],
   "source": [
    "df_1 = pd.DataFrame(data['response']['data'])\n",
    "df_1"
   ]
  },
  {
   "cell_type": "code",
   "execution_count": 10,
   "metadata": {},
   "outputs": [],
   "source": [
    "params_2 = {\n",
    "    'api_key': api_key,\n",
    "    \"frequency\": \"hourly\",\n",
    "    \"data[]\": \"value\",\n",
    "    \"facets[fueltype][]\": [\"SUN\", \"WND\", \"NG\", \"OIL\"],\n",
    "    \"facets[respondent][]\": \"SOCO\",\n",
    "    \"start\": \"2021-07-01\",\n",
    "    \"end\": \"2021-12-31\"\n",
    "}"
   ]
  },
  {
   "cell_type": "code",
   "execution_count": 11,
   "metadata": {},
   "outputs": [],
   "source": [
    "resp_2 = requests.get(base_url, params = params_2)"
   ]
  },
  {
   "cell_type": "code",
   "execution_count": 12,
   "metadata": {},
   "outputs": [
    {
     "data": {
      "text/plain": [
       "200"
      ]
     },
     "execution_count": 12,
     "metadata": {},
     "output_type": "execute_result"
    }
   ],
   "source": [
    "resp_2.status_code"
   ]
  },
  {
   "cell_type": "code",
   "execution_count": 13,
   "metadata": {},
   "outputs": [],
   "source": [
    "data_2 = resp_2.json()"
   ]
  },
  {
   "cell_type": "code",
   "execution_count": 14,
   "metadata": {},
   "outputs": [
    {
     "data": {
      "text/html": [
       "<div>\n",
       "<style scoped>\n",
       "    .dataframe tbody tr th:only-of-type {\n",
       "        vertical-align: middle;\n",
       "    }\n",
       "\n",
       "    .dataframe tbody tr th {\n",
       "        vertical-align: top;\n",
       "    }\n",
       "\n",
       "    .dataframe thead th {\n",
       "        text-align: right;\n",
       "    }\n",
       "</style>\n",
       "<table border=\"1\" class=\"dataframe\">\n",
       "  <thead>\n",
       "    <tr style=\"text-align: right;\">\n",
       "      <th></th>\n",
       "      <th>period</th>\n",
       "      <th>respondent</th>\n",
       "      <th>respondent-name</th>\n",
       "      <th>fueltype</th>\n",
       "      <th>type-name</th>\n",
       "      <th>value</th>\n",
       "      <th>value-units</th>\n",
       "    </tr>\n",
       "  </thead>\n",
       "  <tbody>\n",
       "    <tr>\n",
       "      <th>0</th>\n",
       "      <td>2021-07-01T00</td>\n",
       "      <td>SOCO</td>\n",
       "      <td>Southern Company Services, Inc. - Trans</td>\n",
       "      <td>WND</td>\n",
       "      <td>Wind</td>\n",
       "      <td>0</td>\n",
       "      <td>megawatthours</td>\n",
       "    </tr>\n",
       "    <tr>\n",
       "      <th>1</th>\n",
       "      <td>2021-07-01T01</td>\n",
       "      <td>SOCO</td>\n",
       "      <td>Southern Company Services, Inc. - Trans</td>\n",
       "      <td>WND</td>\n",
       "      <td>Wind</td>\n",
       "      <td>0</td>\n",
       "      <td>megawatthours</td>\n",
       "    </tr>\n",
       "    <tr>\n",
       "      <th>2</th>\n",
       "      <td>2021-07-01T02</td>\n",
       "      <td>SOCO</td>\n",
       "      <td>Southern Company Services, Inc. - Trans</td>\n",
       "      <td>WND</td>\n",
       "      <td>Wind</td>\n",
       "      <td>0</td>\n",
       "      <td>megawatthours</td>\n",
       "    </tr>\n",
       "    <tr>\n",
       "      <th>3</th>\n",
       "      <td>2021-07-01T03</td>\n",
       "      <td>SOCO</td>\n",
       "      <td>Southern Company Services, Inc. - Trans</td>\n",
       "      <td>WND</td>\n",
       "      <td>Wind</td>\n",
       "      <td>0</td>\n",
       "      <td>megawatthours</td>\n",
       "    </tr>\n",
       "    <tr>\n",
       "      <th>4</th>\n",
       "      <td>2021-07-01T04</td>\n",
       "      <td>SOCO</td>\n",
       "      <td>Southern Company Services, Inc. - Trans</td>\n",
       "      <td>WND</td>\n",
       "      <td>Wind</td>\n",
       "      <td>0</td>\n",
       "      <td>megawatthours</td>\n",
       "    </tr>\n",
       "    <tr>\n",
       "      <th>...</th>\n",
       "      <td>...</td>\n",
       "      <td>...</td>\n",
       "      <td>...</td>\n",
       "      <td>...</td>\n",
       "      <td>...</td>\n",
       "      <td>...</td>\n",
       "      <td>...</td>\n",
       "    </tr>\n",
       "    <tr>\n",
       "      <th>4995</th>\n",
       "      <td>2021-07-26T03</td>\n",
       "      <td>SOCO</td>\n",
       "      <td>Southern Company Services, Inc. - Trans</td>\n",
       "      <td>NG</td>\n",
       "      <td>Natural gas</td>\n",
       "      <td>17422</td>\n",
       "      <td>megawatthours</td>\n",
       "    </tr>\n",
       "    <tr>\n",
       "      <th>4996</th>\n",
       "      <td>2021-07-26T04</td>\n",
       "      <td>SOCO</td>\n",
       "      <td>Southern Company Services, Inc. - Trans</td>\n",
       "      <td>NG</td>\n",
       "      <td>Natural gas</td>\n",
       "      <td>15280</td>\n",
       "      <td>megawatthours</td>\n",
       "    </tr>\n",
       "    <tr>\n",
       "      <th>4997</th>\n",
       "      <td>2021-07-26T05</td>\n",
       "      <td>SOCO</td>\n",
       "      <td>Southern Company Services, Inc. - Trans</td>\n",
       "      <td>NG</td>\n",
       "      <td>Natural gas</td>\n",
       "      <td>13216</td>\n",
       "      <td>megawatthours</td>\n",
       "    </tr>\n",
       "    <tr>\n",
       "      <th>4998</th>\n",
       "      <td>2021-07-26T06</td>\n",
       "      <td>SOCO</td>\n",
       "      <td>Southern Company Services, Inc. - Trans</td>\n",
       "      <td>NG</td>\n",
       "      <td>Natural gas</td>\n",
       "      <td>12665</td>\n",
       "      <td>megawatthours</td>\n",
       "    </tr>\n",
       "    <tr>\n",
       "      <th>4999</th>\n",
       "      <td>2021-07-26T07</td>\n",
       "      <td>SOCO</td>\n",
       "      <td>Southern Company Services, Inc. - Trans</td>\n",
       "      <td>NG</td>\n",
       "      <td>Natural gas</td>\n",
       "      <td>12613</td>\n",
       "      <td>megawatthours</td>\n",
       "    </tr>\n",
       "  </tbody>\n",
       "</table>\n",
       "<p>5000 rows × 7 columns</p>\n",
       "</div>"
      ],
      "text/plain": [
       "             period respondent                          respondent-name  \\\n",
       "0     2021-07-01T00       SOCO  Southern Company Services, Inc. - Trans   \n",
       "1     2021-07-01T01       SOCO  Southern Company Services, Inc. - Trans   \n",
       "2     2021-07-01T02       SOCO  Southern Company Services, Inc. - Trans   \n",
       "3     2021-07-01T03       SOCO  Southern Company Services, Inc. - Trans   \n",
       "4     2021-07-01T04       SOCO  Southern Company Services, Inc. - Trans   \n",
       "...             ...        ...                                      ...   \n",
       "4995  2021-07-26T03       SOCO  Southern Company Services, Inc. - Trans   \n",
       "4996  2021-07-26T04       SOCO  Southern Company Services, Inc. - Trans   \n",
       "4997  2021-07-26T05       SOCO  Southern Company Services, Inc. - Trans   \n",
       "4998  2021-07-26T06       SOCO  Southern Company Services, Inc. - Trans   \n",
       "4999  2021-07-26T07       SOCO  Southern Company Services, Inc. - Trans   \n",
       "\n",
       "     fueltype    type-name  value    value-units  \n",
       "0         WND         Wind      0  megawatthours  \n",
       "1         WND         Wind      0  megawatthours  \n",
       "2         WND         Wind      0  megawatthours  \n",
       "3         WND         Wind      0  megawatthours  \n",
       "4         WND         Wind      0  megawatthours  \n",
       "...       ...          ...    ...            ...  \n",
       "4995       NG  Natural gas  17422  megawatthours  \n",
       "4996       NG  Natural gas  15280  megawatthours  \n",
       "4997       NG  Natural gas  13216  megawatthours  \n",
       "4998       NG  Natural gas  12665  megawatthours  \n",
       "4999       NG  Natural gas  12613  megawatthours  \n",
       "\n",
       "[5000 rows x 7 columns]"
      ]
     },
     "execution_count": 14,
     "metadata": {},
     "output_type": "execute_result"
    }
   ],
   "source": [
    "df_2 = pd.DataFrame(data_2['response']['data'])\n",
    "df_2"
   ]
  },
  {
   "cell_type": "code",
   "execution_count": 15,
   "metadata": {},
   "outputs": [],
   "source": [
    "params_3 = {\n",
    "    'api_key': api_key,\n",
    "    \"frequency\": \"hourly\",\n",
    "    \"data[]\": \"value\",\n",
    "    \"facets[fueltype][]\": [\"SUN\", \"WND\", \"NG\", \"OIL\"],\n",
    "    \"facets[respondent][]\": \"SOCO\",\n",
    "    \"start\": \"2022-01-01\",\n",
    "    \"end\": \"2022-06-30\"\n",
    "}"
   ]
  },
  {
   "cell_type": "code",
   "execution_count": 16,
   "metadata": {},
   "outputs": [],
   "source": [
    "resp_3 = requests.get(base_url, params = params_3)"
   ]
  },
  {
   "cell_type": "code",
   "execution_count": 17,
   "metadata": {},
   "outputs": [
    {
     "data": {
      "text/plain": [
       "200"
      ]
     },
     "execution_count": 17,
     "metadata": {},
     "output_type": "execute_result"
    }
   ],
   "source": [
    "resp_3.status_code"
   ]
  },
  {
   "cell_type": "code",
   "execution_count": 18,
   "metadata": {},
   "outputs": [],
   "source": [
    "data_3 = resp_3.json()"
   ]
  },
  {
   "cell_type": "code",
   "execution_count": 19,
   "metadata": {},
   "outputs": [
    {
     "data": {
      "text/html": [
       "<div>\n",
       "<style scoped>\n",
       "    .dataframe tbody tr th:only-of-type {\n",
       "        vertical-align: middle;\n",
       "    }\n",
       "\n",
       "    .dataframe tbody tr th {\n",
       "        vertical-align: top;\n",
       "    }\n",
       "\n",
       "    .dataframe thead th {\n",
       "        text-align: right;\n",
       "    }\n",
       "</style>\n",
       "<table border=\"1\" class=\"dataframe\">\n",
       "  <thead>\n",
       "    <tr style=\"text-align: right;\">\n",
       "      <th></th>\n",
       "      <th>period</th>\n",
       "      <th>respondent</th>\n",
       "      <th>respondent-name</th>\n",
       "      <th>fueltype</th>\n",
       "      <th>type-name</th>\n",
       "      <th>value</th>\n",
       "      <th>value-units</th>\n",
       "    </tr>\n",
       "  </thead>\n",
       "  <tbody>\n",
       "    <tr>\n",
       "      <th>0</th>\n",
       "      <td>2022-01-01T00</td>\n",
       "      <td>SOCO</td>\n",
       "      <td>Southern Company Services, Inc. - Trans</td>\n",
       "      <td>WND</td>\n",
       "      <td>Wind</td>\n",
       "      <td>0</td>\n",
       "      <td>megawatthours</td>\n",
       "    </tr>\n",
       "    <tr>\n",
       "      <th>1</th>\n",
       "      <td>2022-01-01T01</td>\n",
       "      <td>SOCO</td>\n",
       "      <td>Southern Company Services, Inc. - Trans</td>\n",
       "      <td>WND</td>\n",
       "      <td>Wind</td>\n",
       "      <td>0</td>\n",
       "      <td>megawatthours</td>\n",
       "    </tr>\n",
       "    <tr>\n",
       "      <th>2</th>\n",
       "      <td>2022-01-01T02</td>\n",
       "      <td>SOCO</td>\n",
       "      <td>Southern Company Services, Inc. - Trans</td>\n",
       "      <td>WND</td>\n",
       "      <td>Wind</td>\n",
       "      <td>0</td>\n",
       "      <td>megawatthours</td>\n",
       "    </tr>\n",
       "    <tr>\n",
       "      <th>3</th>\n",
       "      <td>2022-01-01T03</td>\n",
       "      <td>SOCO</td>\n",
       "      <td>Southern Company Services, Inc. - Trans</td>\n",
       "      <td>WND</td>\n",
       "      <td>Wind</td>\n",
       "      <td>0</td>\n",
       "      <td>megawatthours</td>\n",
       "    </tr>\n",
       "    <tr>\n",
       "      <th>4</th>\n",
       "      <td>2022-01-01T04</td>\n",
       "      <td>SOCO</td>\n",
       "      <td>Southern Company Services, Inc. - Trans</td>\n",
       "      <td>WND</td>\n",
       "      <td>Wind</td>\n",
       "      <td>0</td>\n",
       "      <td>megawatthours</td>\n",
       "    </tr>\n",
       "    <tr>\n",
       "      <th>...</th>\n",
       "      <td>...</td>\n",
       "      <td>...</td>\n",
       "      <td>...</td>\n",
       "      <td>...</td>\n",
       "      <td>...</td>\n",
       "      <td>...</td>\n",
       "      <td>...</td>\n",
       "    </tr>\n",
       "    <tr>\n",
       "      <th>4995</th>\n",
       "      <td>2022-01-29T03</td>\n",
       "      <td>SOCO</td>\n",
       "      <td>Southern Company Services, Inc. - Trans</td>\n",
       "      <td>NG</td>\n",
       "      <td>Natural gas</td>\n",
       "      <td>17075</td>\n",
       "      <td>megawatthours</td>\n",
       "    </tr>\n",
       "    <tr>\n",
       "      <th>4996</th>\n",
       "      <td>2022-01-29T04</td>\n",
       "      <td>SOCO</td>\n",
       "      <td>Southern Company Services, Inc. - Trans</td>\n",
       "      <td>NG</td>\n",
       "      <td>Natural gas</td>\n",
       "      <td>17120</td>\n",
       "      <td>megawatthours</td>\n",
       "    </tr>\n",
       "    <tr>\n",
       "      <th>4997</th>\n",
       "      <td>2022-01-29T05</td>\n",
       "      <td>SOCO</td>\n",
       "      <td>Southern Company Services, Inc. - Trans</td>\n",
       "      <td>NG</td>\n",
       "      <td>Natural gas</td>\n",
       "      <td>16740</td>\n",
       "      <td>megawatthours</td>\n",
       "    </tr>\n",
       "    <tr>\n",
       "      <th>4998</th>\n",
       "      <td>2022-01-29T06</td>\n",
       "      <td>SOCO</td>\n",
       "      <td>Southern Company Services, Inc. - Trans</td>\n",
       "      <td>NG</td>\n",
       "      <td>Natural gas</td>\n",
       "      <td>16093</td>\n",
       "      <td>megawatthours</td>\n",
       "    </tr>\n",
       "    <tr>\n",
       "      <th>4999</th>\n",
       "      <td>2022-01-29T07</td>\n",
       "      <td>SOCO</td>\n",
       "      <td>Southern Company Services, Inc. - Trans</td>\n",
       "      <td>NG</td>\n",
       "      <td>Natural gas</td>\n",
       "      <td>16345</td>\n",
       "      <td>megawatthours</td>\n",
       "    </tr>\n",
       "  </tbody>\n",
       "</table>\n",
       "<p>5000 rows × 7 columns</p>\n",
       "</div>"
      ],
      "text/plain": [
       "             period respondent                          respondent-name  \\\n",
       "0     2022-01-01T00       SOCO  Southern Company Services, Inc. - Trans   \n",
       "1     2022-01-01T01       SOCO  Southern Company Services, Inc. - Trans   \n",
       "2     2022-01-01T02       SOCO  Southern Company Services, Inc. - Trans   \n",
       "3     2022-01-01T03       SOCO  Southern Company Services, Inc. - Trans   \n",
       "4     2022-01-01T04       SOCO  Southern Company Services, Inc. - Trans   \n",
       "...             ...        ...                                      ...   \n",
       "4995  2022-01-29T03       SOCO  Southern Company Services, Inc. - Trans   \n",
       "4996  2022-01-29T04       SOCO  Southern Company Services, Inc. - Trans   \n",
       "4997  2022-01-29T05       SOCO  Southern Company Services, Inc. - Trans   \n",
       "4998  2022-01-29T06       SOCO  Southern Company Services, Inc. - Trans   \n",
       "4999  2022-01-29T07       SOCO  Southern Company Services, Inc. - Trans   \n",
       "\n",
       "     fueltype    type-name  value    value-units  \n",
       "0         WND         Wind      0  megawatthours  \n",
       "1         WND         Wind      0  megawatthours  \n",
       "2         WND         Wind      0  megawatthours  \n",
       "3         WND         Wind      0  megawatthours  \n",
       "4         WND         Wind      0  megawatthours  \n",
       "...       ...          ...    ...            ...  \n",
       "4995       NG  Natural gas  17075  megawatthours  \n",
       "4996       NG  Natural gas  17120  megawatthours  \n",
       "4997       NG  Natural gas  16740  megawatthours  \n",
       "4998       NG  Natural gas  16093  megawatthours  \n",
       "4999       NG  Natural gas  16345  megawatthours  \n",
       "\n",
       "[5000 rows x 7 columns]"
      ]
     },
     "execution_count": 19,
     "metadata": {},
     "output_type": "execute_result"
    }
   ],
   "source": [
    "df_3 = pd.DataFrame(data_3['response']['data'])\n",
    "df_3"
   ]
  },
  {
   "cell_type": "markdown",
   "metadata": {},
   "source": [
    "### Creating the dataframe\n",
    "- I will take the three groups of data from of above and pull them into one dataframe using the `concatenate` method."
   ]
  },
  {
   "cell_type": "code",
   "execution_count": 20,
   "metadata": {},
   "outputs": [],
   "source": [
    "frames = [df_1, df_2, df_3]"
   ]
  },
  {
   "cell_type": "code",
   "execution_count": 21,
   "metadata": {},
   "outputs": [],
   "source": [
    "result = pd.concat(frames)"
   ]
  },
  {
   "cell_type": "code",
   "execution_count": 22,
   "metadata": {},
   "outputs": [
    {
     "data": {
      "text/html": [
       "<div>\n",
       "<style scoped>\n",
       "    .dataframe tbody tr th:only-of-type {\n",
       "        vertical-align: middle;\n",
       "    }\n",
       "\n",
       "    .dataframe tbody tr th {\n",
       "        vertical-align: top;\n",
       "    }\n",
       "\n",
       "    .dataframe thead th {\n",
       "        text-align: right;\n",
       "    }\n",
       "</style>\n",
       "<table border=\"1\" class=\"dataframe\">\n",
       "  <thead>\n",
       "    <tr style=\"text-align: right;\">\n",
       "      <th></th>\n",
       "      <th>period</th>\n",
       "      <th>respondent</th>\n",
       "      <th>respondent-name</th>\n",
       "      <th>fueltype</th>\n",
       "      <th>type-name</th>\n",
       "      <th>value</th>\n",
       "      <th>value-units</th>\n",
       "    </tr>\n",
       "  </thead>\n",
       "  <tbody>\n",
       "    <tr>\n",
       "      <th>0</th>\n",
       "      <td>2022-07-01T00</td>\n",
       "      <td>SOCO</td>\n",
       "      <td>Southern Company Services, Inc. - Trans</td>\n",
       "      <td>WND</td>\n",
       "      <td>Wind</td>\n",
       "      <td>0</td>\n",
       "      <td>megawatthours</td>\n",
       "    </tr>\n",
       "    <tr>\n",
       "      <th>1</th>\n",
       "      <td>2022-07-01T01</td>\n",
       "      <td>SOCO</td>\n",
       "      <td>Southern Company Services, Inc. - Trans</td>\n",
       "      <td>WND</td>\n",
       "      <td>Wind</td>\n",
       "      <td>0</td>\n",
       "      <td>megawatthours</td>\n",
       "    </tr>\n",
       "    <tr>\n",
       "      <th>2</th>\n",
       "      <td>2022-07-01T02</td>\n",
       "      <td>SOCO</td>\n",
       "      <td>Southern Company Services, Inc. - Trans</td>\n",
       "      <td>WND</td>\n",
       "      <td>Wind</td>\n",
       "      <td>0</td>\n",
       "      <td>megawatthours</td>\n",
       "    </tr>\n",
       "    <tr>\n",
       "      <th>3</th>\n",
       "      <td>2022-07-01T03</td>\n",
       "      <td>SOCO</td>\n",
       "      <td>Southern Company Services, Inc. - Trans</td>\n",
       "      <td>WND</td>\n",
       "      <td>Wind</td>\n",
       "      <td>0</td>\n",
       "      <td>megawatthours</td>\n",
       "    </tr>\n",
       "    <tr>\n",
       "      <th>4</th>\n",
       "      <td>2022-07-01T04</td>\n",
       "      <td>SOCO</td>\n",
       "      <td>Southern Company Services, Inc. - Trans</td>\n",
       "      <td>WND</td>\n",
       "      <td>Wind</td>\n",
       "      <td>0</td>\n",
       "      <td>megawatthours</td>\n",
       "    </tr>\n",
       "    <tr>\n",
       "      <th>...</th>\n",
       "      <td>...</td>\n",
       "      <td>...</td>\n",
       "      <td>...</td>\n",
       "      <td>...</td>\n",
       "      <td>...</td>\n",
       "      <td>...</td>\n",
       "      <td>...</td>\n",
       "    </tr>\n",
       "    <tr>\n",
       "      <th>4995</th>\n",
       "      <td>2022-01-29T03</td>\n",
       "      <td>SOCO</td>\n",
       "      <td>Southern Company Services, Inc. - Trans</td>\n",
       "      <td>NG</td>\n",
       "      <td>Natural gas</td>\n",
       "      <td>17075</td>\n",
       "      <td>megawatthours</td>\n",
       "    </tr>\n",
       "    <tr>\n",
       "      <th>4996</th>\n",
       "      <td>2022-01-29T04</td>\n",
       "      <td>SOCO</td>\n",
       "      <td>Southern Company Services, Inc. - Trans</td>\n",
       "      <td>NG</td>\n",
       "      <td>Natural gas</td>\n",
       "      <td>17120</td>\n",
       "      <td>megawatthours</td>\n",
       "    </tr>\n",
       "    <tr>\n",
       "      <th>4997</th>\n",
       "      <td>2022-01-29T05</td>\n",
       "      <td>SOCO</td>\n",
       "      <td>Southern Company Services, Inc. - Trans</td>\n",
       "      <td>NG</td>\n",
       "      <td>Natural gas</td>\n",
       "      <td>16740</td>\n",
       "      <td>megawatthours</td>\n",
       "    </tr>\n",
       "    <tr>\n",
       "      <th>4998</th>\n",
       "      <td>2022-01-29T06</td>\n",
       "      <td>SOCO</td>\n",
       "      <td>Southern Company Services, Inc. - Trans</td>\n",
       "      <td>NG</td>\n",
       "      <td>Natural gas</td>\n",
       "      <td>16093</td>\n",
       "      <td>megawatthours</td>\n",
       "    </tr>\n",
       "    <tr>\n",
       "      <th>4999</th>\n",
       "      <td>2022-01-29T07</td>\n",
       "      <td>SOCO</td>\n",
       "      <td>Southern Company Services, Inc. - Trans</td>\n",
       "      <td>NG</td>\n",
       "      <td>Natural gas</td>\n",
       "      <td>16345</td>\n",
       "      <td>megawatthours</td>\n",
       "    </tr>\n",
       "  </tbody>\n",
       "</table>\n",
       "<p>12688 rows × 7 columns</p>\n",
       "</div>"
      ],
      "text/plain": [
       "             period respondent                          respondent-name  \\\n",
       "0     2022-07-01T00       SOCO  Southern Company Services, Inc. - Trans   \n",
       "1     2022-07-01T01       SOCO  Southern Company Services, Inc. - Trans   \n",
       "2     2022-07-01T02       SOCO  Southern Company Services, Inc. - Trans   \n",
       "3     2022-07-01T03       SOCO  Southern Company Services, Inc. - Trans   \n",
       "4     2022-07-01T04       SOCO  Southern Company Services, Inc. - Trans   \n",
       "...             ...        ...                                      ...   \n",
       "4995  2022-01-29T03       SOCO  Southern Company Services, Inc. - Trans   \n",
       "4996  2022-01-29T04       SOCO  Southern Company Services, Inc. - Trans   \n",
       "4997  2022-01-29T05       SOCO  Southern Company Services, Inc. - Trans   \n",
       "4998  2022-01-29T06       SOCO  Southern Company Services, Inc. - Trans   \n",
       "4999  2022-01-29T07       SOCO  Southern Company Services, Inc. - Trans   \n",
       "\n",
       "     fueltype    type-name  value    value-units  \n",
       "0         WND         Wind      0  megawatthours  \n",
       "1         WND         Wind      0  megawatthours  \n",
       "2         WND         Wind      0  megawatthours  \n",
       "3         WND         Wind      0  megawatthours  \n",
       "4         WND         Wind      0  megawatthours  \n",
       "...       ...          ...    ...            ...  \n",
       "4995       NG  Natural gas  17075  megawatthours  \n",
       "4996       NG  Natural gas  17120  megawatthours  \n",
       "4997       NG  Natural gas  16740  megawatthours  \n",
       "4998       NG  Natural gas  16093  megawatthours  \n",
       "4999       NG  Natural gas  16345  megawatthours  \n",
       "\n",
       "[12688 rows x 7 columns]"
      ]
     },
     "execution_count": 22,
     "metadata": {},
     "output_type": "execute_result"
    }
   ],
   "source": [
    "df = pd.concat(frames)\n",
    "df"
   ]
  },
  {
   "cell_type": "code",
   "execution_count": 33,
   "metadata": {},
   "outputs": [
    {
     "data": {
      "text/html": [
       "<div>\n",
       "<style scoped>\n",
       "    .dataframe tbody tr th:only-of-type {\n",
       "        vertical-align: middle;\n",
       "    }\n",
       "\n",
       "    .dataframe tbody tr th {\n",
       "        vertical-align: top;\n",
       "    }\n",
       "\n",
       "    .dataframe thead th {\n",
       "        text-align: right;\n",
       "    }\n",
       "</style>\n",
       "<table border=\"1\" class=\"dataframe\">\n",
       "  <thead>\n",
       "    <tr style=\"text-align: right;\">\n",
       "      <th></th>\n",
       "      <th>period</th>\n",
       "      <th>respondent</th>\n",
       "      <th>respondent-name</th>\n",
       "      <th>fueltype</th>\n",
       "      <th>type-name</th>\n",
       "      <th>value</th>\n",
       "      <th>value-units</th>\n",
       "    </tr>\n",
       "  </thead>\n",
       "  <tbody>\n",
       "    <tr>\n",
       "      <th>0</th>\n",
       "      <td>2021-07-01T00</td>\n",
       "      <td>SOCO</td>\n",
       "      <td>Southern Company Services, Inc. - Trans</td>\n",
       "      <td>WND</td>\n",
       "      <td>Wind</td>\n",
       "      <td>0</td>\n",
       "      <td>megawatthours</td>\n",
       "    </tr>\n",
       "    <tr>\n",
       "      <th>4392</th>\n",
       "      <td>2021-07-01T00</td>\n",
       "      <td>SOCO</td>\n",
       "      <td>Southern Company Services, Inc. - Trans</td>\n",
       "      <td>NG</td>\n",
       "      <td>Natural gas</td>\n",
       "      <td>20540</td>\n",
       "      <td>megawatthours</td>\n",
       "    </tr>\n",
       "  </tbody>\n",
       "</table>\n",
       "</div>"
      ],
      "text/plain": [
       "             period respondent                          respondent-name  \\\n",
       "0     2021-07-01T00       SOCO  Southern Company Services, Inc. - Trans   \n",
       "4392  2021-07-01T00       SOCO  Southern Company Services, Inc. - Trans   \n",
       "\n",
       "     fueltype    type-name  value    value-units  \n",
       "0         WND         Wind      0  megawatthours  \n",
       "4392       NG  Natural gas  20540  megawatthours  "
      ]
     },
     "execution_count": 33,
     "metadata": {},
     "output_type": "execute_result"
    }
   ],
   "source": [
    "df.loc[df['period'] == '2021-07-01T00']"
   ]
  },
  {
   "cell_type": "code",
   "execution_count": 25,
   "metadata": {},
   "outputs": [
    {
     "data": {
      "text/plain": [
       "period             0\n",
       "respondent         0\n",
       "respondent-name    0\n",
       "fueltype           0\n",
       "type-name          0\n",
       "value              0\n",
       "value-units        0\n",
       "dtype: int64"
      ]
     },
     "execution_count": 25,
     "metadata": {},
     "output_type": "execute_result"
    }
   ],
   "source": [
    "df.isna().sum()"
   ]
  },
  {
   "cell_type": "code",
   "execution_count": 40,
   "metadata": {},
   "outputs": [
    {
     "data": {
      "text/plain": [
       "fueltype\n",
       "NG     7424\n",
       "OIL    8712\n",
       "SUN    8712\n",
       "WND       0\n",
       "dtype: int64"
      ]
     },
     "execution_count": 40,
     "metadata": {},
     "output_type": "execute_result"
    }
   ],
   "source": [
    "pd.pivot(data = df, index = 'period', columns = 'fueltype', values = 'value').isna().sum()"
   ]
  },
  {
   "cell_type": "code",
   "execution_count": 43,
   "metadata": {},
   "outputs": [
    {
     "data": {
      "text/html": [
       "<div>\n",
       "<style scoped>\n",
       "    .dataframe tbody tr th:only-of-type {\n",
       "        vertical-align: middle;\n",
       "    }\n",
       "\n",
       "    .dataframe tbody tr th {\n",
       "        vertical-align: top;\n",
       "    }\n",
       "\n",
       "    .dataframe thead th {\n",
       "        text-align: right;\n",
       "    }\n",
       "</style>\n",
       "<table border=\"1\" class=\"dataframe\">\n",
       "  <thead>\n",
       "    <tr style=\"text-align: right;\">\n",
       "      <th></th>\n",
       "      <th>period</th>\n",
       "      <th>respondent</th>\n",
       "      <th>respondent-name</th>\n",
       "      <th>fueltype</th>\n",
       "      <th>type-name</th>\n",
       "      <th>value</th>\n",
       "      <th>value-units</th>\n",
       "    </tr>\n",
       "  </thead>\n",
       "  <tbody>\n",
       "    <tr>\n",
       "      <th>3624</th>\n",
       "      <td>2022-06-01T00</td>\n",
       "      <td>SOCO</td>\n",
       "      <td>Southern Company Services, Inc. - Trans</td>\n",
       "      <td>WND</td>\n",
       "      <td>Wind</td>\n",
       "      <td>0</td>\n",
       "      <td>megawatthours</td>\n",
       "    </tr>\n",
       "    <tr>\n",
       "      <th>3625</th>\n",
       "      <td>2022-06-01T01</td>\n",
       "      <td>SOCO</td>\n",
       "      <td>Southern Company Services, Inc. - Trans</td>\n",
       "      <td>WND</td>\n",
       "      <td>Wind</td>\n",
       "      <td>0</td>\n",
       "      <td>megawatthours</td>\n",
       "    </tr>\n",
       "    <tr>\n",
       "      <th>3626</th>\n",
       "      <td>2022-06-01T02</td>\n",
       "      <td>SOCO</td>\n",
       "      <td>Southern Company Services, Inc. - Trans</td>\n",
       "      <td>WND</td>\n",
       "      <td>Wind</td>\n",
       "      <td>0</td>\n",
       "      <td>megawatthours</td>\n",
       "    </tr>\n",
       "    <tr>\n",
       "      <th>3627</th>\n",
       "      <td>2022-06-01T03</td>\n",
       "      <td>SOCO</td>\n",
       "      <td>Southern Company Services, Inc. - Trans</td>\n",
       "      <td>WND</td>\n",
       "      <td>Wind</td>\n",
       "      <td>0</td>\n",
       "      <td>megawatthours</td>\n",
       "    </tr>\n",
       "    <tr>\n",
       "      <th>3628</th>\n",
       "      <td>2022-06-01T04</td>\n",
       "      <td>SOCO</td>\n",
       "      <td>Southern Company Services, Inc. - Trans</td>\n",
       "      <td>WND</td>\n",
       "      <td>Wind</td>\n",
       "      <td>0</td>\n",
       "      <td>megawatthours</td>\n",
       "    </tr>\n",
       "    <tr>\n",
       "      <th>3629</th>\n",
       "      <td>2022-06-01T05</td>\n",
       "      <td>SOCO</td>\n",
       "      <td>Southern Company Services, Inc. - Trans</td>\n",
       "      <td>WND</td>\n",
       "      <td>Wind</td>\n",
       "      <td>0</td>\n",
       "      <td>megawatthours</td>\n",
       "    </tr>\n",
       "    <tr>\n",
       "      <th>3630</th>\n",
       "      <td>2022-06-01T06</td>\n",
       "      <td>SOCO</td>\n",
       "      <td>Southern Company Services, Inc. - Trans</td>\n",
       "      <td>WND</td>\n",
       "      <td>Wind</td>\n",
       "      <td>0</td>\n",
       "      <td>megawatthours</td>\n",
       "    </tr>\n",
       "    <tr>\n",
       "      <th>3631</th>\n",
       "      <td>2022-06-01T07</td>\n",
       "      <td>SOCO</td>\n",
       "      <td>Southern Company Services, Inc. - Trans</td>\n",
       "      <td>WND</td>\n",
       "      <td>Wind</td>\n",
       "      <td>0</td>\n",
       "      <td>megawatthours</td>\n",
       "    </tr>\n",
       "    <tr>\n",
       "      <th>3632</th>\n",
       "      <td>2022-06-01T08</td>\n",
       "      <td>SOCO</td>\n",
       "      <td>Southern Company Services, Inc. - Trans</td>\n",
       "      <td>WND</td>\n",
       "      <td>Wind</td>\n",
       "      <td>0</td>\n",
       "      <td>megawatthours</td>\n",
       "    </tr>\n",
       "    <tr>\n",
       "      <th>3633</th>\n",
       "      <td>2022-06-01T09</td>\n",
       "      <td>SOCO</td>\n",
       "      <td>Southern Company Services, Inc. - Trans</td>\n",
       "      <td>WND</td>\n",
       "      <td>Wind</td>\n",
       "      <td>0</td>\n",
       "      <td>megawatthours</td>\n",
       "    </tr>\n",
       "    <tr>\n",
       "      <th>3634</th>\n",
       "      <td>2022-06-01T10</td>\n",
       "      <td>SOCO</td>\n",
       "      <td>Southern Company Services, Inc. - Trans</td>\n",
       "      <td>WND</td>\n",
       "      <td>Wind</td>\n",
       "      <td>0</td>\n",
       "      <td>megawatthours</td>\n",
       "    </tr>\n",
       "    <tr>\n",
       "      <th>3635</th>\n",
       "      <td>2022-06-01T11</td>\n",
       "      <td>SOCO</td>\n",
       "      <td>Southern Company Services, Inc. - Trans</td>\n",
       "      <td>WND</td>\n",
       "      <td>Wind</td>\n",
       "      <td>0</td>\n",
       "      <td>megawatthours</td>\n",
       "    </tr>\n",
       "    <tr>\n",
       "      <th>3636</th>\n",
       "      <td>2022-06-01T12</td>\n",
       "      <td>SOCO</td>\n",
       "      <td>Southern Company Services, Inc. - Trans</td>\n",
       "      <td>WND</td>\n",
       "      <td>Wind</td>\n",
       "      <td>0</td>\n",
       "      <td>megawatthours</td>\n",
       "    </tr>\n",
       "    <tr>\n",
       "      <th>3637</th>\n",
       "      <td>2022-06-01T13</td>\n",
       "      <td>SOCO</td>\n",
       "      <td>Southern Company Services, Inc. - Trans</td>\n",
       "      <td>WND</td>\n",
       "      <td>Wind</td>\n",
       "      <td>0</td>\n",
       "      <td>megawatthours</td>\n",
       "    </tr>\n",
       "    <tr>\n",
       "      <th>3638</th>\n",
       "      <td>2022-06-01T14</td>\n",
       "      <td>SOCO</td>\n",
       "      <td>Southern Company Services, Inc. - Trans</td>\n",
       "      <td>WND</td>\n",
       "      <td>Wind</td>\n",
       "      <td>0</td>\n",
       "      <td>megawatthours</td>\n",
       "    </tr>\n",
       "    <tr>\n",
       "      <th>3639</th>\n",
       "      <td>2022-06-01T15</td>\n",
       "      <td>SOCO</td>\n",
       "      <td>Southern Company Services, Inc. - Trans</td>\n",
       "      <td>WND</td>\n",
       "      <td>Wind</td>\n",
       "      <td>0</td>\n",
       "      <td>megawatthours</td>\n",
       "    </tr>\n",
       "    <tr>\n",
       "      <th>3640</th>\n",
       "      <td>2022-06-01T16</td>\n",
       "      <td>SOCO</td>\n",
       "      <td>Southern Company Services, Inc. - Trans</td>\n",
       "      <td>WND</td>\n",
       "      <td>Wind</td>\n",
       "      <td>0</td>\n",
       "      <td>megawatthours</td>\n",
       "    </tr>\n",
       "    <tr>\n",
       "      <th>3641</th>\n",
       "      <td>2022-06-01T17</td>\n",
       "      <td>SOCO</td>\n",
       "      <td>Southern Company Services, Inc. - Trans</td>\n",
       "      <td>WND</td>\n",
       "      <td>Wind</td>\n",
       "      <td>0</td>\n",
       "      <td>megawatthours</td>\n",
       "    </tr>\n",
       "    <tr>\n",
       "      <th>3642</th>\n",
       "      <td>2022-06-01T18</td>\n",
       "      <td>SOCO</td>\n",
       "      <td>Southern Company Services, Inc. - Trans</td>\n",
       "      <td>WND</td>\n",
       "      <td>Wind</td>\n",
       "      <td>0</td>\n",
       "      <td>megawatthours</td>\n",
       "    </tr>\n",
       "    <tr>\n",
       "      <th>3643</th>\n",
       "      <td>2022-06-01T19</td>\n",
       "      <td>SOCO</td>\n",
       "      <td>Southern Company Services, Inc. - Trans</td>\n",
       "      <td>WND</td>\n",
       "      <td>Wind</td>\n",
       "      <td>0</td>\n",
       "      <td>megawatthours</td>\n",
       "    </tr>\n",
       "    <tr>\n",
       "      <th>3644</th>\n",
       "      <td>2022-06-01T20</td>\n",
       "      <td>SOCO</td>\n",
       "      <td>Southern Company Services, Inc. - Trans</td>\n",
       "      <td>WND</td>\n",
       "      <td>Wind</td>\n",
       "      <td>0</td>\n",
       "      <td>megawatthours</td>\n",
       "    </tr>\n",
       "    <tr>\n",
       "      <th>3645</th>\n",
       "      <td>2022-06-01T21</td>\n",
       "      <td>SOCO</td>\n",
       "      <td>Southern Company Services, Inc. - Trans</td>\n",
       "      <td>WND</td>\n",
       "      <td>Wind</td>\n",
       "      <td>0</td>\n",
       "      <td>megawatthours</td>\n",
       "    </tr>\n",
       "    <tr>\n",
       "      <th>3646</th>\n",
       "      <td>2022-06-01T22</td>\n",
       "      <td>SOCO</td>\n",
       "      <td>Southern Company Services, Inc. - Trans</td>\n",
       "      <td>WND</td>\n",
       "      <td>Wind</td>\n",
       "      <td>0</td>\n",
       "      <td>megawatthours</td>\n",
       "    </tr>\n",
       "    <tr>\n",
       "      <th>3647</th>\n",
       "      <td>2022-06-01T23</td>\n",
       "      <td>SOCO</td>\n",
       "      <td>Southern Company Services, Inc. - Trans</td>\n",
       "      <td>WND</td>\n",
       "      <td>Wind</td>\n",
       "      <td>0</td>\n",
       "      <td>megawatthours</td>\n",
       "    </tr>\n",
       "  </tbody>\n",
       "</table>\n",
       "</div>"
      ],
      "text/plain": [
       "             period respondent                          respondent-name  \\\n",
       "3624  2022-06-01T00       SOCO  Southern Company Services, Inc. - Trans   \n",
       "3625  2022-06-01T01       SOCO  Southern Company Services, Inc. - Trans   \n",
       "3626  2022-06-01T02       SOCO  Southern Company Services, Inc. - Trans   \n",
       "3627  2022-06-01T03       SOCO  Southern Company Services, Inc. - Trans   \n",
       "3628  2022-06-01T04       SOCO  Southern Company Services, Inc. - Trans   \n",
       "3629  2022-06-01T05       SOCO  Southern Company Services, Inc. - Trans   \n",
       "3630  2022-06-01T06       SOCO  Southern Company Services, Inc. - Trans   \n",
       "3631  2022-06-01T07       SOCO  Southern Company Services, Inc. - Trans   \n",
       "3632  2022-06-01T08       SOCO  Southern Company Services, Inc. - Trans   \n",
       "3633  2022-06-01T09       SOCO  Southern Company Services, Inc. - Trans   \n",
       "3634  2022-06-01T10       SOCO  Southern Company Services, Inc. - Trans   \n",
       "3635  2022-06-01T11       SOCO  Southern Company Services, Inc. - Trans   \n",
       "3636  2022-06-01T12       SOCO  Southern Company Services, Inc. - Trans   \n",
       "3637  2022-06-01T13       SOCO  Southern Company Services, Inc. - Trans   \n",
       "3638  2022-06-01T14       SOCO  Southern Company Services, Inc. - Trans   \n",
       "3639  2022-06-01T15       SOCO  Southern Company Services, Inc. - Trans   \n",
       "3640  2022-06-01T16       SOCO  Southern Company Services, Inc. - Trans   \n",
       "3641  2022-06-01T17       SOCO  Southern Company Services, Inc. - Trans   \n",
       "3642  2022-06-01T18       SOCO  Southern Company Services, Inc. - Trans   \n",
       "3643  2022-06-01T19       SOCO  Southern Company Services, Inc. - Trans   \n",
       "3644  2022-06-01T20       SOCO  Southern Company Services, Inc. - Trans   \n",
       "3645  2022-06-01T21       SOCO  Southern Company Services, Inc. - Trans   \n",
       "3646  2022-06-01T22       SOCO  Southern Company Services, Inc. - Trans   \n",
       "3647  2022-06-01T23       SOCO  Southern Company Services, Inc. - Trans   \n",
       "\n",
       "     fueltype type-name  value    value-units  \n",
       "3624      WND      Wind      0  megawatthours  \n",
       "3625      WND      Wind      0  megawatthours  \n",
       "3626      WND      Wind      0  megawatthours  \n",
       "3627      WND      Wind      0  megawatthours  \n",
       "3628      WND      Wind      0  megawatthours  \n",
       "3629      WND      Wind      0  megawatthours  \n",
       "3630      WND      Wind      0  megawatthours  \n",
       "3631      WND      Wind      0  megawatthours  \n",
       "3632      WND      Wind      0  megawatthours  \n",
       "3633      WND      Wind      0  megawatthours  \n",
       "3634      WND      Wind      0  megawatthours  \n",
       "3635      WND      Wind      0  megawatthours  \n",
       "3636      WND      Wind      0  megawatthours  \n",
       "3637      WND      Wind      0  megawatthours  \n",
       "3638      WND      Wind      0  megawatthours  \n",
       "3639      WND      Wind      0  megawatthours  \n",
       "3640      WND      Wind      0  megawatthours  \n",
       "3641      WND      Wind      0  megawatthours  \n",
       "3642      WND      Wind      0  megawatthours  \n",
       "3643      WND      Wind      0  megawatthours  \n",
       "3644      WND      Wind      0  megawatthours  \n",
       "3645      WND      Wind      0  megawatthours  \n",
       "3646      WND      Wind      0  megawatthours  \n",
       "3647      WND      Wind      0  megawatthours  "
      ]
     },
     "execution_count": 43,
     "metadata": {},
     "output_type": "execute_result"
    }
   ],
   "source": [
    "df_3.loc[df_3['period'].str.contains('2022-06-01')]"
   ]
  },
  {
   "cell_type": "markdown",
   "metadata": {},
   "source": [
    "## Data Exploring and Cleaning"
   ]
  },
  {
   "cell_type": "code",
   "execution_count": 24,
   "metadata": {},
   "outputs": [
    {
     "name": "stdout",
     "output_type": "stream",
     "text": [
      "<class 'pandas.core.frame.DataFrame'>\n",
      "Int64Index: 12688 entries, 0 to 4999\n",
      "Data columns (total 7 columns):\n",
      " #   Column           Non-Null Count  Dtype \n",
      "---  ------           --------------  ----- \n",
      " 0   period           12688 non-null  object\n",
      " 1   respondent       12688 non-null  object\n",
      " 2   respondent-name  12688 non-null  object\n",
      " 3   fueltype         12688 non-null  object\n",
      " 4   type-name        12688 non-null  object\n",
      " 5   value            12688 non-null  int64 \n",
      " 6   value-units      12688 non-null  object\n",
      "dtypes: int64(1), object(6)\n",
      "memory usage: 793.0+ KB\n"
     ]
    }
   ],
   "source": [
    "df.info()"
   ]
  },
  {
   "cell_type": "code",
   "execution_count": 25,
   "metadata": {},
   "outputs": [
    {
     "data": {
      "text/plain": [
       "<bound method IndexOpsMixin.value_counts of 0       WND\n",
       "1       WND\n",
       "2       WND\n",
       "3       WND\n",
       "4       WND\n",
       "       ... \n",
       "4995     NG\n",
       "4996     NG\n",
       "4997     NG\n",
       "4998     NG\n",
       "4999     NG\n",
       "Name: fueltype, Length: 12688, dtype: object>"
      ]
     },
     "execution_count": 25,
     "metadata": {},
     "output_type": "execute_result"
    }
   ],
   "source": [
    "df['fueltype'].value_counts"
   ]
  },
  {
   "cell_type": "code",
   "execution_count": 26,
   "metadata": {},
   "outputs": [
    {
     "data": {
      "text/plain": [
       "'2022-07-28T23'"
      ]
     },
     "execution_count": 26,
     "metadata": {},
     "output_type": "execute_result"
    }
   ],
   "source": [
    "df['period'].max()"
   ]
  },
  {
   "cell_type": "code",
   "execution_count": 27,
   "metadata": {},
   "outputs": [
    {
     "data": {
      "text/plain": [
       "'2021-07-01T00'"
      ]
     },
     "execution_count": 27,
     "metadata": {},
     "output_type": "execute_result"
    }
   ],
   "source": [
    "df['period'].min()"
   ]
  },
  {
   "cell_type": "code",
   "execution_count": 28,
   "metadata": {},
   "outputs": [
    {
     "data": {
      "text/plain": [
       "array(['WND', 'NG', 'OIL', 'SUN'], dtype=object)"
      ]
     },
     "execution_count": 28,
     "metadata": {},
     "output_type": "execute_result"
    }
   ],
   "source": [
    "df['fueltype'].unique()"
   ]
  },
  {
   "cell_type": "code",
   "execution_count": 29,
   "metadata": {},
   "outputs": [
    {
     "data": {
      "text/plain": [
       "array(['Wind', 'Natural gas', 'Petroleum', 'Solar'], dtype=object)"
      ]
     },
     "execution_count": 29,
     "metadata": {},
     "output_type": "execute_result"
    }
   ],
   "source": [
    "df['type-name'].unique()"
   ]
  },
  {
   "cell_type": "code",
   "execution_count": 30,
   "metadata": {},
   "outputs": [
    {
     "data": {
      "text/plain": [
       "period             0\n",
       "respondent         0\n",
       "respondent-name    0\n",
       "fueltype           0\n",
       "type-name          0\n",
       "value              0\n",
       "value-units        0\n",
       "dtype: int64"
      ]
     },
     "execution_count": 30,
     "metadata": {},
     "output_type": "execute_result"
    }
   ],
   "source": [
    "df.isna().sum()"
   ]
  },
  {
   "cell_type": "code",
   "execution_count": 31,
   "metadata": {},
   "outputs": [],
   "source": [
    "df['period'] = pd.to_datetime(df['period'])\n",
    "# used the pandas to_datetime funtion switch the Dtype of the period column"
   ]
  },
  {
   "cell_type": "code",
   "execution_count": 32,
   "metadata": {},
   "outputs": [
    {
     "name": "stdout",
     "output_type": "stream",
     "text": [
      "<class 'pandas.core.frame.DataFrame'>\n",
      "Int64Index: 12688 entries, 0 to 4999\n",
      "Data columns (total 7 columns):\n",
      " #   Column           Non-Null Count  Dtype         \n",
      "---  ------           --------------  -----         \n",
      " 0   period           12688 non-null  datetime64[ns]\n",
      " 1   respondent       12688 non-null  object        \n",
      " 2   respondent-name  12688 non-null  object        \n",
      " 3   fueltype         12688 non-null  object        \n",
      " 4   type-name        12688 non-null  object        \n",
      " 5   value            12688 non-null  int64         \n",
      " 6   value-units      12688 non-null  object        \n",
      "dtypes: datetime64[ns](1), int64(1), object(5)\n",
      "memory usage: 793.0+ KB\n"
     ]
    }
   ],
   "source": [
    "df.info()"
   ]
  },
  {
   "cell_type": "code",
   "execution_count": 33,
   "metadata": {},
   "outputs": [
    {
     "data": {
      "text/html": [
       "<div>\n",
       "<style scoped>\n",
       "    .dataframe tbody tr th:only-of-type {\n",
       "        vertical-align: middle;\n",
       "    }\n",
       "\n",
       "    .dataframe tbody tr th {\n",
       "        vertical-align: top;\n",
       "    }\n",
       "\n",
       "    .dataframe thead th {\n",
       "        text-align: right;\n",
       "    }\n",
       "</style>\n",
       "<table border=\"1\" class=\"dataframe\">\n",
       "  <thead>\n",
       "    <tr style=\"text-align: right;\">\n",
       "      <th></th>\n",
       "      <th>respondent</th>\n",
       "      <th>respondent-name</th>\n",
       "      <th>fueltype</th>\n",
       "      <th>type-name</th>\n",
       "      <th>value</th>\n",
       "      <th>value-units</th>\n",
       "    </tr>\n",
       "    <tr>\n",
       "      <th>period</th>\n",
       "      <th></th>\n",
       "      <th></th>\n",
       "      <th></th>\n",
       "      <th></th>\n",
       "      <th></th>\n",
       "      <th></th>\n",
       "    </tr>\n",
       "  </thead>\n",
       "  <tbody>\n",
       "    <tr>\n",
       "      <th>2022-07-01 00:00:00</th>\n",
       "      <td>SOCO</td>\n",
       "      <td>Southern Company Services, Inc. - Trans</td>\n",
       "      <td>WND</td>\n",
       "      <td>Wind</td>\n",
       "      <td>0</td>\n",
       "      <td>megawatthours</td>\n",
       "    </tr>\n",
       "    <tr>\n",
       "      <th>2022-07-01 01:00:00</th>\n",
       "      <td>SOCO</td>\n",
       "      <td>Southern Company Services, Inc. - Trans</td>\n",
       "      <td>WND</td>\n",
       "      <td>Wind</td>\n",
       "      <td>0</td>\n",
       "      <td>megawatthours</td>\n",
       "    </tr>\n",
       "    <tr>\n",
       "      <th>2022-07-01 02:00:00</th>\n",
       "      <td>SOCO</td>\n",
       "      <td>Southern Company Services, Inc. - Trans</td>\n",
       "      <td>WND</td>\n",
       "      <td>Wind</td>\n",
       "      <td>0</td>\n",
       "      <td>megawatthours</td>\n",
       "    </tr>\n",
       "    <tr>\n",
       "      <th>2022-07-01 03:00:00</th>\n",
       "      <td>SOCO</td>\n",
       "      <td>Southern Company Services, Inc. - Trans</td>\n",
       "      <td>WND</td>\n",
       "      <td>Wind</td>\n",
       "      <td>0</td>\n",
       "      <td>megawatthours</td>\n",
       "    </tr>\n",
       "    <tr>\n",
       "      <th>2022-07-01 04:00:00</th>\n",
       "      <td>SOCO</td>\n",
       "      <td>Southern Company Services, Inc. - Trans</td>\n",
       "      <td>WND</td>\n",
       "      <td>Wind</td>\n",
       "      <td>0</td>\n",
       "      <td>megawatthours</td>\n",
       "    </tr>\n",
       "  </tbody>\n",
       "</table>\n",
       "</div>"
      ],
      "text/plain": [
       "                    respondent                          respondent-name  \\\n",
       "period                                                                    \n",
       "2022-07-01 00:00:00       SOCO  Southern Company Services, Inc. - Trans   \n",
       "2022-07-01 01:00:00       SOCO  Southern Company Services, Inc. - Trans   \n",
       "2022-07-01 02:00:00       SOCO  Southern Company Services, Inc. - Trans   \n",
       "2022-07-01 03:00:00       SOCO  Southern Company Services, Inc. - Trans   \n",
       "2022-07-01 04:00:00       SOCO  Southern Company Services, Inc. - Trans   \n",
       "\n",
       "                    fueltype type-name  value    value-units  \n",
       "period                                                        \n",
       "2022-07-01 00:00:00      WND      Wind      0  megawatthours  \n",
       "2022-07-01 01:00:00      WND      Wind      0  megawatthours  \n",
       "2022-07-01 02:00:00      WND      Wind      0  megawatthours  \n",
       "2022-07-01 03:00:00      WND      Wind      0  megawatthours  \n",
       "2022-07-01 04:00:00      WND      Wind      0  megawatthours  "
      ]
     },
     "execution_count": 33,
     "metadata": {},
     "output_type": "execute_result"
    }
   ],
   "source": [
    "df = df.set_index('period')\n",
    "df.head()"
   ]
  },
  {
   "cell_type": "markdown",
   "metadata": {},
   "source": [
    "Now I want to explore and see if the Datetime index worked."
   ]
  },
  {
   "cell_type": "code",
   "execution_count": 34,
   "metadata": {},
   "outputs": [
    {
     "data": {
      "text/plain": [
       "Southern Company Services, Inc. - Trans    12688\n",
       "Name: respondent-name, dtype: int64"
      ]
     },
     "execution_count": 34,
     "metadata": {},
     "output_type": "execute_result"
    }
   ],
   "source": [
    "df['respondent-name'].value_counts()"
   ]
  },
  {
   "cell_type": "code",
   "execution_count": 35,
   "metadata": {},
   "outputs": [
    {
     "data": {
      "text/plain": [
       "Timestamp('2022-07-01 00:00:00')"
      ]
     },
     "execution_count": 35,
     "metadata": {},
     "output_type": "execute_result"
    }
   ],
   "source": [
    "df.index[0]"
   ]
  },
  {
   "cell_type": "code",
   "execution_count": 36,
   "metadata": {},
   "outputs": [
    {
     "data": {
      "text/plain": [
       "7"
      ]
     },
     "execution_count": 36,
     "metadata": {},
     "output_type": "execute_result"
    }
   ],
   "source": [
    "df.index[0].month"
   ]
  },
  {
   "cell_type": "code",
   "execution_count": 37,
   "metadata": {},
   "outputs": [
    {
     "data": {
      "text/plain": [
       "2022"
      ]
     },
     "execution_count": 37,
     "metadata": {},
     "output_type": "execute_result"
    }
   ],
   "source": [
    "df.index[0].year"
   ]
  },
  {
   "cell_type": "code",
   "execution_count": 38,
   "metadata": {},
   "outputs": [
    {
     "data": {
      "text/plain": [
       "1"
      ]
     },
     "execution_count": 38,
     "metadata": {},
     "output_type": "execute_result"
    }
   ],
   "source": [
    "df.index[0].day"
   ]
  },
  {
   "cell_type": "code",
   "execution_count": 39,
   "metadata": {},
   "outputs": [],
   "source": [
    "df = df.sort_index()\n",
    "# sorting the data by date using sort_index"
   ]
  },
  {
   "cell_type": "code",
   "execution_count": 40,
   "metadata": {},
   "outputs": [],
   "source": [
    "df_resampled = df.resample('D').sum()"
   ]
  },
  {
   "cell_type": "code",
   "execution_count": 41,
   "metadata": {},
   "outputs": [
    {
     "data": {
      "text/html": [
       "<div>\n",
       "<style scoped>\n",
       "    .dataframe tbody tr th:only-of-type {\n",
       "        vertical-align: middle;\n",
       "    }\n",
       "\n",
       "    .dataframe tbody tr th {\n",
       "        vertical-align: top;\n",
       "    }\n",
       "\n",
       "    .dataframe thead th {\n",
       "        text-align: right;\n",
       "    }\n",
       "</style>\n",
       "<table border=\"1\" class=\"dataframe\">\n",
       "  <thead>\n",
       "    <tr style=\"text-align: right;\">\n",
       "      <th></th>\n",
       "      <th>value</th>\n",
       "    </tr>\n",
       "    <tr>\n",
       "      <th>period</th>\n",
       "      <th></th>\n",
       "    </tr>\n",
       "  </thead>\n",
       "  <tbody>\n",
       "    <tr>\n",
       "      <th>2021-07-01</th>\n",
       "      <td>393574</td>\n",
       "    </tr>\n",
       "    <tr>\n",
       "      <th>2021-07-02</th>\n",
       "      <td>370842</td>\n",
       "    </tr>\n",
       "    <tr>\n",
       "      <th>2021-07-03</th>\n",
       "      <td>331165</td>\n",
       "    </tr>\n",
       "    <tr>\n",
       "      <th>2021-07-04</th>\n",
       "      <td>312014</td>\n",
       "    </tr>\n",
       "    <tr>\n",
       "      <th>2021-07-05</th>\n",
       "      <td>350574</td>\n",
       "    </tr>\n",
       "    <tr>\n",
       "      <th>...</th>\n",
       "      <td>...</td>\n",
       "    </tr>\n",
       "    <tr>\n",
       "      <th>2022-07-24</th>\n",
       "      <td>460483</td>\n",
       "    </tr>\n",
       "    <tr>\n",
       "      <th>2022-07-25</th>\n",
       "      <td>443328</td>\n",
       "    </tr>\n",
       "    <tr>\n",
       "      <th>2022-07-26</th>\n",
       "      <td>501879</td>\n",
       "    </tr>\n",
       "    <tr>\n",
       "      <th>2022-07-27</th>\n",
       "      <td>453442</td>\n",
       "    </tr>\n",
       "    <tr>\n",
       "      <th>2022-07-28</th>\n",
       "      <td>461233</td>\n",
       "    </tr>\n",
       "  </tbody>\n",
       "</table>\n",
       "<p>393 rows × 1 columns</p>\n",
       "</div>"
      ],
      "text/plain": [
       "             value\n",
       "period            \n",
       "2021-07-01  393574\n",
       "2021-07-02  370842\n",
       "2021-07-03  331165\n",
       "2021-07-04  312014\n",
       "2021-07-05  350574\n",
       "...            ...\n",
       "2022-07-24  460483\n",
       "2022-07-25  443328\n",
       "2022-07-26  501879\n",
       "2022-07-27  453442\n",
       "2022-07-28  461233\n",
       "\n",
       "[393 rows x 1 columns]"
      ]
     },
     "execution_count": 41,
     "metadata": {},
     "output_type": "execute_result"
    }
   ],
   "source": [
    "df_resampled"
   ]
  },
  {
   "cell_type": "code",
   "execution_count": 42,
   "metadata": {},
   "outputs": [
    {
     "data": {
      "image/png": "[encoded data removed]",
      "text/plain": [
       "<Figure size 720x360 with 1 Axes>"
      ]
     },
     "metadata": {
      "needs_background": "light"
     },
     "output_type": "display_data"
    }
   ],
   "source": [
    "# Plot our new df_resampled\n",
    "fig, ax = plt.subplots(figsize=(10, 5))\n",
    "ax.plot(df_resampled)\n",
    "ax.set_title('Daily consumption')\n",
    "ax.set_ylabel('value');"
   ]
  },
  {
   "cell_type": "code",
   "execution_count": 52,
   "metadata": {},
   "outputs": [
    {
     "data": {
      "text/html": [
       "<div>\n",
       "<style scoped>\n",
       "    .dataframe tbody tr th:only-of-type {\n",
       "        vertical-align: middle;\n",
       "    }\n",
       "\n",
       "    .dataframe tbody tr th {\n",
       "        vertical-align: top;\n",
       "    }\n",
       "\n",
       "    .dataframe thead th {\n",
       "        text-align: right;\n",
       "    }\n",
       "</style>\n",
       "<table border=\"1\" class=\"dataframe\">\n",
       "  <thead>\n",
       "    <tr style=\"text-align: right;\">\n",
       "      <th></th>\n",
       "      <th>respondent</th>\n",
       "      <th>respondent-name</th>\n",
       "      <th>type-name</th>\n",
       "      <th>value</th>\n",
       "      <th>value-units</th>\n",
       "    </tr>\n",
       "    <tr>\n",
       "      <th>fueltype</th>\n",
       "      <th></th>\n",
       "      <th></th>\n",
       "      <th></th>\n",
       "      <th></th>\n",
       "      <th></th>\n",
       "    </tr>\n",
       "  </thead>\n",
       "  <tbody>\n",
       "    <tr>\n",
       "      <th>NG</th>\n",
       "      <td>SOCO</td>\n",
       "      <td>Southern Company Services, Inc. - Trans</td>\n",
       "      <td>Natural gas</td>\n",
       "      <td>20540</td>\n",
       "      <td>megawatthours</td>\n",
       "    </tr>\n",
       "    <tr>\n",
       "      <th>OIL</th>\n",
       "      <td>SOCO</td>\n",
       "      <td>Southern Company Services, Inc. - Trans</td>\n",
       "      <td>Petroleum</td>\n",
       "      <td>0</td>\n",
       "      <td>megawatthours</td>\n",
       "    </tr>\n",
       "    <tr>\n",
       "      <th>SUN</th>\n",
       "      <td>SOCO</td>\n",
       "      <td>Southern Company Services, Inc. - Trans</td>\n",
       "      <td>Solar</td>\n",
       "      <td>249</td>\n",
       "      <td>megawatthours</td>\n",
       "    </tr>\n",
       "    <tr>\n",
       "      <th>WND</th>\n",
       "      <td>SOCO</td>\n",
       "      <td>Southern Company Services, Inc. - Trans</td>\n",
       "      <td>Wind</td>\n",
       "      <td>0</td>\n",
       "      <td>megawatthours</td>\n",
       "    </tr>\n",
       "  </tbody>\n",
       "</table>\n",
       "</div>"
      ],
      "text/plain": [
       "         respondent                          respondent-name    type-name  \\\n",
       "fueltype                                                                    \n",
       "NG             SOCO  Southern Company Services, Inc. - Trans  Natural gas   \n",
       "OIL            SOCO  Southern Company Services, Inc. - Trans    Petroleum   \n",
       "SUN            SOCO  Southern Company Services, Inc. - Trans        Solar   \n",
       "WND            SOCO  Southern Company Services, Inc. - Trans         Wind   \n",
       "\n",
       "          value    value-units  \n",
       "fueltype                        \n",
       "NG        20540  megawatthours  \n",
       "OIL           0  megawatthours  \n",
       "SUN         249  megawatthours  \n",
       "WND           0  megawatthours  "
      ]
     },
     "execution_count": 52,
     "metadata": {},
     "output_type": "execute_result"
    }
   ],
   "source": [
    "group = df.groupby('fueltype')\n",
    "group.first()"
   ]
  },
  {
   "cell_type": "code",
   "execution_count": 55,
   "metadata": {},
   "outputs": [],
   "source": [
    "ng_gr = group.get_group('NG')"
   ]
  },
  {
   "cell_type": "code",
   "execution_count": 57,
   "metadata": {},
   "outputs": [
    {
     "data": {
      "text/plain": [
       "pandas.core.frame.DataFrame"
      ]
     },
     "execution_count": 57,
     "metadata": {},
     "output_type": "execute_result"
    }
   ],
   "source": [
    "type(ng_gr)"
   ]
  },
  {
   "cell_type": "code",
   "execution_count": 59,
   "metadata": {},
   "outputs": [],
   "source": [
    "ng_diff = ng_gr['value'].diff().dropna()"
   ]
  },
  {
   "cell_type": "code",
   "execution_count": 71,
   "metadata": {},
   "outputs": [
    {
     "data": {
      "image/png": "[encoded data removed]",
      "text/plain": [
       "<Figure size 864x216 with 1 Axes>"
      ]
     },
     "metadata": {
      "needs_background": "light"
     },
     "output_type": "display_data"
    }
   ],
   "source": [
    "# Plot the ACF\n",
    "from statsmodels.graphics.tsaplots import plot_acf\n",
    "\n",
    "fig, ax = plt.subplots(figsize=(12,3))\n",
    "plot_acf(ng_diff,ax=ax, lags=12);"
   ]
  },
  {
   "cell_type": "code",
   "execution_count": null,
   "metadata": {},
   "outputs": [],
   "source": []
  },
  {
   "cell_type": "code",
   "execution_count": null,
   "metadata": {},
   "outputs": [],
   "source": []
  },
  {
   "cell_type": "code",
   "execution_count": null,
   "metadata": {},
   "outputs": [],
   "source": []
  },
  {
   "cell_type": "code",
   "execution_count": 62,
   "metadata": {},
   "outputs": [],
   "source": [
    "oil_gr = group.get_group('OIL')"
   ]
  },
  {
   "cell_type": "code",
   "execution_count": 63,
   "metadata": {},
   "outputs": [],
   "source": [
    "oil_diff = oil_gr['value'].diff().dropna()"
   ]
  },
  {
   "cell_type": "code",
   "execution_count": 70,
   "metadata": {},
   "outputs": [
    {
     "data": {
      "image/png": "[encoded data removed]",
      "text/plain": [
       "<Figure size 864x216 with 1 Axes>"
      ]
     },
     "metadata": {
      "needs_background": "light"
     },
     "output_type": "display_data"
    }
   ],
   "source": [
    "# Plot the ACF\n",
    "from statsmodels.graphics.tsaplots import plot_acf\n",
    "\n",
    "fig, ax = plt.subplots(figsize=(12,3))\n",
    "plot_acf(oil_diff,ax=ax, lags=12);"
   ]
  },
  {
   "cell_type": "code",
   "execution_count": null,
   "metadata": {},
   "outputs": [],
   "source": []
  },
  {
   "cell_type": "code",
   "execution_count": null,
   "metadata": {},
   "outputs": [],
   "source": []
  },
  {
   "cell_type": "code",
   "execution_count": null,
   "metadata": {},
   "outputs": [],
   "source": []
  },
  {
   "cell_type": "code",
   "execution_count": 65,
   "metadata": {},
   "outputs": [],
   "source": [
    "sun_gr = group.get_group('SUN')"
   ]
  },
  {
   "cell_type": "code",
   "execution_count": 66,
   "metadata": {},
   "outputs": [],
   "source": [
    "sun_diff = sun_gr['value'].diff().dropna()"
   ]
  },
  {
   "cell_type": "code",
   "execution_count": 69,
   "metadata": {},
   "outputs": [
    {
     "data": {
      "image/png": "[encoded data removed]",
      "text/plain": [
       "<Figure size 864x216 with 1 Axes>"
      ]
     },
     "metadata": {
      "needs_background": "light"
     },
     "output_type": "display_data"
    }
   ],
   "source": [
    "# Plot the ACF\n",
    "from statsmodels.graphics.tsaplots import plot_acf\n",
    "\n",
    "fig, ax = plt.subplots(figsize=(12,3))\n",
    "plot_acf(sun_diff,ax=ax, lags=12);"
   ]
  },
  {
   "cell_type": "code",
   "execution_count": null,
   "metadata": {},
   "outputs": [],
   "source": []
  },
  {
   "cell_type": "code",
   "execution_count": null,
   "metadata": {},
   "outputs": [],
   "source": []
  },
  {
   "cell_type": "code",
   "execution_count": null,
   "metadata": {},
   "outputs": [],
   "source": []
  },
  {
   "cell_type": "code",
   "execution_count": 72,
   "metadata": {},
   "outputs": [],
   "source": [
    "wnd_gr = group.get_group('WND')"
   ]
  },
  {
   "cell_type": "code",
   "execution_count": 73,
   "metadata": {},
   "outputs": [],
   "source": [
    "wnd_diff = wnd_gr['value'].diff().dropna()"
   ]
  },
  {
   "cell_type": "code",
   "execution_count": 74,
   "metadata": {},
   "outputs": [
    {
     "name": "stderr",
     "output_type": "stream",
     "text": [
      "C:\\Users\\FFF\\anaconda3\\envs\\learn-env\\lib\\site-packages\\statsmodels\\tsa\\stattools.py:672: RuntimeWarning: invalid value encountered in true_divide\n",
      "  acf = avf[: nlags + 1] / avf[0]\n",
      "C:\\Users\\FFF\\anaconda3\\envs\\learn-env\\lib\\site-packages\\numpy\\core\\_asarray.py:83: UserWarning: Warning: converting a masked element to nan.\n",
      "  return array(a, dtype, copy=False, order=order)\n"
     ]
    },
    {
     "data": {
      "image/png": "[encoded data removed]",
      "text/plain": [
       "<Figure size 864x216 with 1 Axes>"
      ]
     },
     "metadata": {
      "needs_background": "light"
     },
     "output_type": "display_data"
    }
   ],
   "source": [
    "# Plot the ACF\n",
    "from statsmodels.graphics.tsaplots import plot_acf\n",
    "\n",
    "fig, ax = plt.subplots(figsize=(12,3))\n",
    "plot_acf(wnd_diff,ax=ax, lags=12);"
   ]
  },
  {
   "cell_type": "code",
   "execution_count": 83,
   "metadata": {},
   "outputs": [],
   "source": [
    "from statsmodels.tsa.seasonal import seasonal_decompose"
   ]
  },
  {
   "cell_type": "code",
   "execution_count": 82,
   "metadata": {},
   "outputs": [],
   "source": [
    "sun_loc = df.loc[df['fueltype'] == 'SUN']['value']"
   ]
  },
  {
   "cell_type": "code",
   "execution_count": 86,
   "metadata": {},
   "outputs": [
    {
     "data": {
      "image/png": "[encoded data removed]",
      "text/plain": [
       "<Figure size 432x288 with 4 Axes>"
      ]
     },
     "metadata": {
      "needs_background": "light"
     },
     "output_type": "display_data"
    }
   ],
   "source": [
    "sun_decomp = seasonal_decompose(sun_loc)\n",
    "sun_decomp.plot();"
   ]
  },
  {
   "cell_type": "code",
   "execution_count": null,
   "metadata": {},
   "outputs": [],
   "source": []
  }
 ],
 "metadata": {
  "kernelspec": {
   "display_name": "Python (learn-env)",
   "language": "python",
   "name": "learn-env"
  },
  "language_info": {
   "codemirror_mode": {
    "name": "ipython",
    "version": 3
   },
   "file_extension": ".py",
   "mimetype": "text/x-python",
   "name": "python",
   "nbconvert_exporter": "python",
   "pygments_lexer": "ipython3",
   "version": "3.8.5"
  }
 },
 "nbformat": 4,
 "nbformat_minor": 4
}
