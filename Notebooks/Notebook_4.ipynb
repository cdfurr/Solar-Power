{
 "cells": [
  {
   "cell_type": "markdown",
   "metadata": {},
   "source": [
    "# Solar Power"
   ]
  },
  {
   "cell_type": "markdown",
   "metadata": {},
   "source": [
    "## Business Understanding"
   ]
  },
  {
   "cell_type": "markdown",
   "metadata": {},
   "source": [
    "### Stakeholder:\n",
    "- \n",
    "-\n",
    "-"
   ]
  },
  {
   "cell_type": "markdown",
   "metadata": {},
   "source": [
    "### True Business Problem:\n",
    "With a recent push for cleaner renewable energy (company name) is seeing an increase in solar panel request. (company name) is looking the potential of solar power and how it can meet the demands of the current power consumption. "
   ]
  },
  {
   "cell_type": "markdown",
   "metadata": {},
   "source": [
    "# Data Understanding"
   ]
  },
  {
   "cell_type": "code",
   "execution_count": 3,
   "metadata": {},
   "outputs": [
    {
     "name": "stdout",
     "output_type": "stream",
     "text": [
      "Collecting sktime\n",
      "  Using cached sktime-0.13.0-py3-none-any.whl (6.8 MB)\n",
      "Collecting scikit-learn<1.2.0,>=0.24.0\n",
      "  Using cached scikit_learn-1.1.1-cp38-cp38-win_amd64.whl (7.3 MB)\n",
      "Collecting deprecated>=1.2.13\n",
      "  Using cached Deprecated-1.2.13-py2.py3-none-any.whl (9.6 kB)\n",
      "Requirement already satisfied: pandas<1.5.0,>=1.1.0 in c:\\users\\fff\\anaconda3\\envs\\learn-env\\lib\\site-packages (from sktime) (1.1.3)\n",
      "Requirement already satisfied: numba>=0.53 in c:\\users\\fff\\anaconda3\\envs\\learn-env\\lib\\site-packages (from sktime) (0.55.1)\n",
      "Requirement already satisfied: scipy<1.9.0 in c:\\users\\fff\\anaconda3\\envs\\learn-env\\lib\\site-packages (from sktime) (1.5.0)\n",
      "Requirement already satisfied: statsmodels>=0.12.1 in c:\\users\\fff\\anaconda3\\envs\\learn-env\\lib\\site-packages (from sktime) (0.13.2)\n",
      "Requirement already satisfied: numpy<1.23,>=1.21.0 in c:\\users\\fff\\anaconda3\\envs\\learn-env\\lib\\site-packages (from sktime) (1.22.4)\n",
      "Collecting joblib>=1.0.0\n",
      "  Using cached joblib-1.1.0-py2.py3-none-any.whl (306 kB)\n",
      "Requirement already satisfied: threadpoolctl>=2.0.0 in c:\\users\\fff\\anaconda3\\envs\\learn-env\\lib\\site-packages (from scikit-learn<1.2.0,>=0.24.0->sktime) (2.1.0)\n",
      "Requirement already satisfied: wrapt<2,>=1.10 in c:\\users\\fff\\anaconda3\\envs\\learn-env\\lib\\site-packages (from deprecated>=1.2.13->sktime) (1.12.1)\n",
      "Requirement already satisfied: python-dateutil>=2.7.3 in c:\\users\\fff\\anaconda3\\envs\\learn-env\\lib\\site-packages (from pandas<1.5.0,>=1.1.0->sktime) (2.8.1)\n",
      "Requirement already satisfied: pytz>=2017.2 in c:\\users\\fff\\anaconda3\\envs\\learn-env\\lib\\site-packages (from pandas<1.5.0,>=1.1.0->sktime) (2020.1)\n",
      "Requirement already satisfied: llvmlite<0.39,>=0.38.0rc1 in c:\\users\\fff\\anaconda3\\envs\\learn-env\\lib\\site-packages (from numba>=0.53->sktime) (0.38.0)\n",
      "Requirement already satisfied: setuptools in c:\\users\\fff\\anaconda3\\envs\\learn-env\\lib\\site-packages (from numba>=0.53->sktime) (50.3.0.post20201103)\n",
      "Requirement already satisfied: patsy>=0.5.2 in c:\\users\\fff\\anaconda3\\envs\\learn-env\\lib\\site-packages (from statsmodels>=0.12.1->sktime) (0.5.2)\n",
      "Requirement already satisfied: packaging>=21.3 in c:\\users\\fff\\anaconda3\\envs\\learn-env\\lib\\site-packages (from statsmodels>=0.12.1->sktime) (21.3)\n",
      "Requirement already satisfied: six>=1.5 in c:\\users\\fff\\anaconda3\\envs\\learn-env\\lib\\site-packages (from python-dateutil>=2.7.3->pandas<1.5.0,>=1.1.0->sktime) (1.15.0)\n",
      "Requirement already satisfied: pyparsing!=3.0.5,>=2.0.2 in c:\\users\\fff\\anaconda3\\envs\\learn-env\\lib\\site-packages (from packaging>=21.3->statsmodels>=0.12.1->sktime) (2.4.7)\n",
      "Installing collected packages: joblib, scikit-learn, deprecated, sktime\n",
      "  Attempting uninstall: joblib\n",
      "    Found existing installation: joblib 0.17.0\n",
      "    Uninstalling joblib-0.17.0:\n",
      "      Successfully uninstalled joblib-0.17.0"
     ]
    },
    {
     "name": "stderr",
     "output_type": "stream",
     "text": [
      "ERROR: Could not install packages due to an EnvironmentError: [WinError 5] Access is denied: 'C:\\\\Users\\\\FFF\\\\anaconda3\\\\envs\\\\learn-env\\\\Lib\\\\site-packages\\\\~klearn\\\\metrics\\\\cluster\\\\_expected_mutual_info_fast.cp38-win_amd64.pyd'\n",
      "Consider using the `--user` option or check the permissions.\n",
      "\n"
     ]
    },
    {
     "name": "stdout",
     "output_type": "stream",
     "text": [
      "\n",
      "  Attempting uninstall: scikit-learn\n",
      "    Found existing installation: scikit-learn 0.23.2\n",
      "    Uninstalling scikit-learn-0.23.2:\n",
      "      Successfully uninstalled scikit-learn-0.23.2\n",
      "Requirement already satisfied: pmdarima in c:\\users\\fff\\anaconda3\\envs\\learn-env\\lib\\site-packages (1.8.5)\n",
      "Requirement already satisfied: scikit-learn>=0.22 in c:\\users\\fff\\anaconda3\\envs\\learn-env\\lib\\site-packages (from pmdarima) (1.1.1)\n",
      "Requirement already satisfied: pandas>=0.19 in c:\\users\\fff\\anaconda3\\envs\\learn-env\\lib\\site-packages (from pmdarima) (1.1.3)\n",
      "Requirement already satisfied: Cython!=0.29.18,>=0.29 in c:\\users\\fff\\anaconda3\\envs\\learn-env\\lib\\site-packages (from pmdarima) (0.29.21)\n",
      "Requirement already satisfied: joblib>=0.11 in c:\\users\\fff\\anaconda3\\envs\\learn-env\\lib\\site-packages (from pmdarima) (1.1.0)\n",
      "Requirement already satisfied: urllib3 in c:\\users\\fff\\anaconda3\\envs\\learn-env\\lib\\site-packages (from pmdarima) (1.25.10)\n",
      "Requirement already satisfied: scipy>=1.3.2 in c:\\users\\fff\\anaconda3\\envs\\learn-env\\lib\\site-packages (from pmdarima) (1.5.0)\n",
      "Requirement already satisfied: numpy>=1.19.3 in c:\\users\\fff\\anaconda3\\envs\\learn-env\\lib\\site-packages (from pmdarima) (1.22.4)\n",
      "Requirement already satisfied: setuptools!=50.0.0,>=38.6.0 in c:\\users\\fff\\anaconda3\\envs\\learn-env\\lib\\site-packages (from pmdarima) (50.3.0.post20201103)\n",
      "Requirement already satisfied: statsmodels!=0.12.0,>=0.11 in c:\\users\\fff\\anaconda3\\envs\\learn-env\\lib\\site-packages (from pmdarima) (0.13.2)\n",
      "Requirement already satisfied: threadpoolctl>=2.0.0 in c:\\users\\fff\\anaconda3\\envs\\learn-env\\lib\\site-packages (from scikit-learn>=0.22->pmdarima) (2.1.0)\n",
      "Requirement already satisfied: pytz>=2017.2 in c:\\users\\fff\\anaconda3\\envs\\learn-env\\lib\\site-packages (from pandas>=0.19->pmdarima) (2020.1)\n",
      "Requirement already satisfied: python-dateutil>=2.7.3 in c:\\users\\fff\\anaconda3\\envs\\learn-env\\lib\\site-packages (from pandas>=0.19->pmdarima) (2.8.1)\n",
      "Requirement already satisfied: patsy>=0.5.2 in c:\\users\\fff\\anaconda3\\envs\\learn-env\\lib\\site-packages (from statsmodels!=0.12.0,>=0.11->pmdarima) (0.5.2)\n",
      "Requirement already satisfied: packaging>=21.3 in c:\\users\\fff\\anaconda3\\envs\\learn-env\\lib\\site-packages (from statsmodels!=0.12.0,>=0.11->pmdarima) (21.3)\n",
      "Requirement already satisfied: six>=1.5 in c:\\users\\fff\\anaconda3\\envs\\learn-env\\lib\\site-packages (from python-dateutil>=2.7.3->pandas>=0.19->pmdarima) (1.15.0)\n",
      "Requirement already satisfied: pyparsing!=3.0.5,>=2.0.2 in c:\\users\\fff\\anaconda3\\envs\\learn-env\\lib\\site-packages (from packaging>=21.3->statsmodels!=0.12.0,>=0.11->pmdarima) (2.4.7)\n",
      "Requirement already satisfied: pystan in c:\\users\\fff\\anaconda3\\envs\\learn-env\\lib\\site-packages (2.19.1.1)\n",
      "Requirement already satisfied: Cython!=0.25.1,>=0.22 in c:\\users\\fff\\anaconda3\\envs\\learn-env\\lib\\site-packages (from pystan) (0.29.21)\n",
      "Requirement already satisfied: numpy>=1.7 in c:\\users\\fff\\anaconda3\\envs\\learn-env\\lib\\site-packages (from pystan) (1.22.4)\n",
      "Requirement already satisfied: fbprophet in c:\\users\\fff\\anaconda3\\envs\\learn-env\\lib\\site-packages (0.7.1)\n",
      "Requirement already satisfied: Cython>=0.22 in c:\\users\\fff\\anaconda3\\envs\\learn-env\\lib\\site-packages (from fbprophet) (0.29.21)\n",
      "Requirement already satisfied: convertdate>=2.1.2 in c:\\users\\fff\\anaconda3\\envs\\learn-env\\lib\\site-packages (from fbprophet) (2.2.2)\n",
      "Requirement already satisfied: holidays>=0.10.2 in c:\\users\\fff\\anaconda3\\envs\\learn-env\\lib\\site-packages (from fbprophet) (0.10.3)\n",
      "Requirement already satisfied: matplotlib>=2.0.0 in c:\\users\\fff\\anaconda3\\envs\\learn-env\\lib\\site-packages (from fbprophet) (3.3.1)\n",
      "Requirement already satisfied: setuptools-git>=1.2 in c:\\users\\fff\\anaconda3\\envs\\learn-env\\lib\\site-packages (from fbprophet) (1.2)\n",
      "Requirement already satisfied: pandas>=1.0.4 in c:\\users\\fff\\anaconda3\\envs\\learn-env\\lib\\site-packages (from fbprophet) (1.1.3)\n",
      "Requirement already satisfied: python-dateutil>=2.8.0 in c:\\users\\fff\\anaconda3\\envs\\learn-env\\lib\\site-packages (from fbprophet) (2.8.1)\n",
      "Requirement already satisfied: tqdm>=4.36.1 in c:\\users\\fff\\anaconda3\\envs\\learn-env\\lib\\site-packages (from fbprophet) (4.50.2)\n",
      "Requirement already satisfied: LunarCalendar>=0.0.9 in c:\\users\\fff\\anaconda3\\envs\\learn-env\\lib\\site-packages (from fbprophet) (0.0.9)\n",
      "Requirement already satisfied: numpy>=1.15.4 in c:\\users\\fff\\anaconda3\\envs\\learn-env\\lib\\site-packages (from fbprophet) (1.22.4)\n",
      "Requirement already satisfied: cmdstanpy==0.9.5 in c:\\users\\fff\\anaconda3\\envs\\learn-env\\lib\\site-packages (from fbprophet) (0.9.5)\n",
      "Requirement already satisfied: pystan>=2.14 in c:\\users\\fff\\anaconda3\\envs\\learn-env\\lib\\site-packages (from fbprophet) (2.19.1.1)\n",
      "Requirement already satisfied: pymeeus<=1,>=0.3.6 in c:\\users\\fff\\anaconda3\\envs\\learn-env\\lib\\site-packages (from convertdate>=2.1.2->fbprophet) (0.3.7)\n",
      "Requirement already satisfied: pytz>=2014.10 in c:\\users\\fff\\anaconda3\\envs\\learn-env\\lib\\site-packages (from convertdate>=2.1.2->fbprophet) (2020.1)\n",
      "Requirement already satisfied: korean-lunar-calendar in c:\\users\\fff\\anaconda3\\envs\\learn-env\\lib\\site-packages (from holidays>=0.10.2->fbprophet) (0.2.1)\n",
      "Requirement already satisfied: six in c:\\users\\fff\\anaconda3\\envs\\learn-env\\lib\\site-packages (from holidays>=0.10.2->fbprophet) (1.15.0)\n",
      "Requirement already satisfied: pillow>=6.2.0 in c:\\users\\fff\\anaconda3\\envs\\learn-env\\lib\\site-packages (from matplotlib>=2.0.0->fbprophet) (8.0.0)\n",
      "Requirement already satisfied: cycler>=0.10 in c:\\users\\fff\\anaconda3\\envs\\learn-env\\lib\\site-packages (from matplotlib>=2.0.0->fbprophet) (0.10.0)\n",
      "Requirement already satisfied: kiwisolver>=1.0.1 in c:\\users\\fff\\anaconda3\\envs\\learn-env\\lib\\site-packages (from matplotlib>=2.0.0->fbprophet) (1.2.0)\n",
      "Requirement already satisfied: pyparsing!=2.0.4,!=2.1.2,!=2.1.6,>=2.0.3 in c:\\users\\fff\\anaconda3\\envs\\learn-env\\lib\\site-packages (from matplotlib>=2.0.0->fbprophet) (2.4.7)\n",
      "Requirement already satisfied: certifi>=2020.06.20 in c:\\users\\fff\\anaconda3\\envs\\learn-env\\lib\\site-packages (from matplotlib>=2.0.0->fbprophet) (2022.6.15)\n",
      "Requirement already satisfied: ephem>=3.7.5.3 in c:\\users\\fff\\anaconda3\\envs\\learn-env\\lib\\site-packages (from LunarCalendar>=0.0.9->fbprophet) (3.7.7.1)\n"
     ]
    }
   ],
   "source": [
    "# imports\n",
    "import pandas as pd\n",
    "import numpy as np\n",
    "import requests \n",
    "\n",
    "from datetime import datetime as dt\n",
    "from secret import keys\n",
    "from sklearn.model_selection import train_test_split\n",
    "\n",
    "import matplotlib\n",
    "import matplotlib.pyplot as plt\n",
    "import seaborn as sns\n",
    "\n",
    "!pip install sktime\n",
    "!pip install pmdarima\n",
    "!pip install pystan\n",
    "!pip install fbprophet"
   ]
  },
  {
   "cell_type": "code",
   "execution_count": 9,
   "metadata": {},
   "outputs": [
    {
     "name": "stdout",
     "output_type": "stream",
     "text": [
      "df2.csv\n"
     ]
    }
   ],
   "source": [
    "!ls ../data"
   ]
  },
  {
   "cell_type": "code",
   "execution_count": 15,
   "metadata": {},
   "outputs": [
    {
     "data": {
      "text/html": [
       "<div>\n",
       "<style scoped>\n",
       "    .dataframe tbody tr th:only-of-type {\n",
       "        vertical-align: middle;\n",
       "    }\n",
       "\n",
       "    .dataframe tbody tr th {\n",
       "        vertical-align: top;\n",
       "    }\n",
       "\n",
       "    .dataframe thead th {\n",
       "        text-align: right;\n",
       "    }\n",
       "</style>\n",
       "<table border=\"1\" class=\"dataframe\">\n",
       "  <thead>\n",
       "    <tr style=\"text-align: right;\">\n",
       "      <th></th>\n",
       "      <th>period</th>\n",
       "      <th>NG</th>\n",
       "      <th>OIL</th>\n",
       "      <th>SUN</th>\n",
       "    </tr>\n",
       "  </thead>\n",
       "  <tbody>\n",
       "    <tr>\n",
       "      <th>0</th>\n",
       "      <td>2021-07-01 00:00:00</td>\n",
       "      <td>20540</td>\n",
       "      <td>-1</td>\n",
       "      <td>177</td>\n",
       "    </tr>\n",
       "    <tr>\n",
       "      <th>1</th>\n",
       "      <td>2021-07-01 01:00:00</td>\n",
       "      <td>19923</td>\n",
       "      <td>0</td>\n",
       "      <td>32</td>\n",
       "    </tr>\n",
       "    <tr>\n",
       "      <th>2</th>\n",
       "      <td>2021-07-01 02:00:00</td>\n",
       "      <td>18983</td>\n",
       "      <td>0</td>\n",
       "      <td>0</td>\n",
       "    </tr>\n",
       "    <tr>\n",
       "      <th>3</th>\n",
       "      <td>2021-07-01 03:00:00</td>\n",
       "      <td>17476</td>\n",
       "      <td>-1</td>\n",
       "      <td>0</td>\n",
       "    </tr>\n",
       "    <tr>\n",
       "      <th>4</th>\n",
       "      <td>2021-07-01 04:00:00</td>\n",
       "      <td>15457</td>\n",
       "      <td>0</td>\n",
       "      <td>0</td>\n",
       "    </tr>\n",
       "  </tbody>\n",
       "</table>\n",
       "</div>"
      ],
      "text/plain": [
       "                period     NG  OIL  SUN\n",
       "0  2021-07-01 00:00:00  20540   -1  177\n",
       "1  2021-07-01 01:00:00  19923    0   32\n",
       "2  2021-07-01 02:00:00  18983    0    0\n",
       "3  2021-07-01 03:00:00  17476   -1    0\n",
       "4  2021-07-01 04:00:00  15457    0    0"
      ]
     },
     "execution_count": 15,
     "metadata": {},
     "output_type": "execute_result"
    }
   ],
   "source": [
    "df = pd.read_csv('../data/df2.csv')\n",
    "df.head()"
   ]
  },
  {
   "cell_type": "code",
   "execution_count": 16,
   "metadata": {},
   "outputs": [
    {
     "data": {
      "text/plain": [
       "0        177\n",
       "1         32\n",
       "2          0\n",
       "3          0\n",
       "4          0\n",
       "        ... \n",
       "9427    1099\n",
       "9428    1006\n",
       "9429     798\n",
       "9430     765\n",
       "9431     484\n",
       "Name: SUN, Length: 9432, dtype: int64"
      ]
     },
     "execution_count": 16,
     "metadata": {},
     "output_type": "execute_result"
    }
   ],
   "source": []
  },
  {
   "cell_type": "code",
   "execution_count": null,
   "metadata": {},
   "outputs": [],
   "source": []
  },
  {
   "cell_type": "code",
   "execution_count": null,
   "metadata": {},
   "outputs": [],
   "source": []
  },
  {
   "cell_type": "code",
   "execution_count": null,
   "metadata": {},
   "outputs": [],
   "source": []
  },
  {
   "cell_type": "code",
   "execution_count": null,
   "metadata": {},
   "outputs": [],
   "source": []
  },
  {
   "cell_type": "code",
   "execution_count": null,
   "metadata": {},
   "outputs": [],
   "source": []
  },
  {
   "cell_type": "code",
   "execution_count": null,
   "metadata": {},
   "outputs": [],
   "source": []
  },
  {
   "cell_type": "code",
   "execution_count": null,
   "metadata": {},
   "outputs": [],
   "source": []
  },
  {
   "cell_type": "code",
   "execution_count": null,
   "metadata": {},
   "outputs": [],
   "source": []
  },
  {
   "cell_type": "code",
   "execution_count": null,
   "metadata": {},
   "outputs": [],
   "source": []
  },
  {
   "cell_type": "code",
   "execution_count": null,
   "metadata": {},
   "outputs": [],
   "source": []
  },
  {
   "cell_type": "code",
   "execution_count": null,
   "metadata": {},
   "outputs": [],
   "source": []
  },
  {
   "cell_type": "code",
   "execution_count": null,
   "metadata": {},
   "outputs": [],
   "source": []
  },
  {
   "cell_type": "code",
   "execution_count": null,
   "metadata": {},
   "outputs": [],
   "source": []
  },
  {
   "cell_type": "code",
   "execution_count": null,
   "metadata": {},
   "outputs": [],
   "source": []
  },
  {
   "cell_type": "code",
   "execution_count": null,
   "metadata": {},
   "outputs": [],
   "source": []
  },
  {
   "cell_type": "code",
   "execution_count": null,
   "metadata": {},
   "outputs": [],
   "source": []
  },
  {
   "cell_type": "code",
   "execution_count": null,
   "metadata": {},
   "outputs": [],
   "source": []
  },
  {
   "cell_type": "code",
   "execution_count": null,
   "metadata": {},
   "outputs": [],
   "source": []
  },
  {
   "cell_type": "code",
   "execution_count": null,
   "metadata": {},
   "outputs": [],
   "source": []
  },
  {
   "cell_type": "code",
   "execution_count": null,
   "metadata": {},
   "outputs": [],
   "source": []
  },
  {
   "cell_type": "code",
   "execution_count": null,
   "metadata": {},
   "outputs": [],
   "source": []
  },
  {
   "cell_type": "code",
   "execution_count": null,
   "metadata": {},
   "outputs": [],
   "source": []
  },
  {
   "cell_type": "code",
   "execution_count": null,
   "metadata": {},
   "outputs": [],
   "source": []
  },
  {
   "cell_type": "code",
   "execution_count": null,
   "metadata": {},
   "outputs": [],
   "source": []
  },
  {
   "cell_type": "code",
   "execution_count": null,
   "metadata": {},
   "outputs": [],
   "source": []
  },
  {
   "cell_type": "code",
   "execution_count": null,
   "metadata": {},
   "outputs": [],
   "source": []
  },
  {
   "cell_type": "code",
   "execution_count": null,
   "metadata": {},
   "outputs": [],
   "source": []
  }
 ],
 "metadata": {
  "kernelspec": {
   "display_name": "Python (learn-env)",
   "language": "python",
   "name": "learn-env"
  },
  "language_info": {
   "codemirror_mode": {
    "name": "ipython",
    "version": 3
   },
   "file_extension": ".py",
   "mimetype": "text/x-python",
   "name": "python",
   "nbconvert_exporter": "python",
   "pygments_lexer": "ipython3",
   "version": "3.8.5"
  }
 },
 "nbformat": 4,
 "nbformat_minor": 4
}
