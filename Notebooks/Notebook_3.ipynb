{
 "cells": [
  {
   "cell_type": "code",
   "execution_count": 1,
   "metadata": {},
   "outputs": [
    {
     "name": "stderr",
     "output_type": "stream",
     "text": [
      "C:\\Users\\FFF\\anaconda3\\envs\\learn-env\\lib\\site-packages\\numpy\\_distributor_init.py:30: UserWarning: loaded more than 1 DLL from .libs:\n",
      "C:\\Users\\FFF\\anaconda3\\envs\\learn-env\\lib\\site-packages\\numpy\\.libs\\libopenblas.EL2C6PLE4ZYW3ECEVIV3OXXGRN2NRFM2.gfortran-win_amd64.dll\n",
      "C:\\Users\\FFF\\anaconda3\\envs\\learn-env\\lib\\site-packages\\numpy\\.libs\\libopenblas.PYQHXLVVQ7VESDPUVUADXEVJOBGHJPAY.gfortran-win_amd64.dll\n",
      "  warnings.warn(\"loaded more than 1 DLL from .libs:\"\n"
     ]
    }
   ],
   "source": [
    "import requests\n",
    "import pandas as pd\n",
    "from secret import keys"
   ]
  },
  {
   "cell_type": "code",
   "execution_count": 2,
   "metadata": {},
   "outputs": [],
   "source": [
    "api_key = keys.API_KEY"
   ]
  },
  {
   "cell_type": "code",
   "execution_count": 3,
   "metadata": {},
   "outputs": [],
   "source": [
    "base_url = 'https://api.eia.gov/v2/electricity/rto/fuel-type-data/data'"
   ]
  },
  {
   "cell_type": "code",
   "execution_count": 4,
   "metadata": {},
   "outputs": [],
   "source": [
    "params = {\n",
    "    'api_key': api_key,\n",
    "    \"frequency\": \"hourly\", # pulling data in hourly.\n",
    "    \"data[]\": \"value\", # amount of energy produced or consumed?\n",
    "    \"facets[fueltype][]\":[\"SUN\", \"NG\", \"OIL\"], # energy source (solar)\n",
    "    \"facets[respondent][]\": \"SOCO\", # recording location of data (Southern Company)\n",
    "    \"start\": \"2021-07-01\", # Time frame to pull data (start and end date)\n",
    "    \"end\": \"2022-07-29\",\n",
    "    \"offset\": 0\n",
    "}"
   ]
  },
  {
   "cell_type": "code",
   "execution_count": 5,
   "metadata": {},
   "outputs": [],
   "source": [
    "dfs = []\n",
    "for off in range(0, 30000, 5000):\n",
    "    \n",
    "    params[\"offset\"] = off\n",
    "    \n",
    "    resp = requests.get(base_url, params=params)\n",
    "    \n",
    "    data = resp.json()\n",
    "    \n",
    "    df = pd.DataFrame(data['response']['data'])\n",
    "    \n",
    "    dfs.append(df)"
   ]
  },
  {
   "cell_type": "code",
   "execution_count": 6,
   "metadata": {
    "scrolled": false
   },
   "outputs": [
    {
     "data": {
      "text/html": [
       "<div>\n",
       "<style scoped>\n",
       "    .dataframe tbody tr th:only-of-type {\n",
       "        vertical-align: middle;\n",
       "    }\n",
       "\n",
       "    .dataframe tbody tr th {\n",
       "        vertical-align: top;\n",
       "    }\n",
       "\n",
       "    .dataframe thead th {\n",
       "        text-align: right;\n",
       "    }\n",
       "</style>\n",
       "<table border=\"1\" class=\"dataframe\">\n",
       "  <thead>\n",
       "    <tr style=\"text-align: right;\">\n",
       "      <th>fueltype</th>\n",
       "      <th>NG</th>\n",
       "      <th>OIL</th>\n",
       "      <th>SUN</th>\n",
       "    </tr>\n",
       "    <tr>\n",
       "      <th>period</th>\n",
       "      <th></th>\n",
       "      <th></th>\n",
       "      <th></th>\n",
       "    </tr>\n",
       "  </thead>\n",
       "  <tbody>\n",
       "    <tr>\n",
       "      <th>2021-07-01T00</th>\n",
       "      <td>20540</td>\n",
       "      <td>-1</td>\n",
       "      <td>177</td>\n",
       "    </tr>\n",
       "    <tr>\n",
       "      <th>2021-07-01T01</th>\n",
       "      <td>19923</td>\n",
       "      <td>0</td>\n",
       "      <td>32</td>\n",
       "    </tr>\n",
       "    <tr>\n",
       "      <th>2021-07-01T02</th>\n",
       "      <td>18983</td>\n",
       "      <td>0</td>\n",
       "      <td>0</td>\n",
       "    </tr>\n",
       "    <tr>\n",
       "      <th>2021-07-01T03</th>\n",
       "      <td>17476</td>\n",
       "      <td>-1</td>\n",
       "      <td>0</td>\n",
       "    </tr>\n",
       "    <tr>\n",
       "      <th>2021-07-01T04</th>\n",
       "      <td>15457</td>\n",
       "      <td>0</td>\n",
       "      <td>0</td>\n",
       "    </tr>\n",
       "    <tr>\n",
       "      <th>...</th>\n",
       "      <td>...</td>\n",
       "      <td>...</td>\n",
       "      <td>...</td>\n",
       "    </tr>\n",
       "    <tr>\n",
       "      <th>2022-07-28T19</th>\n",
       "      <td>22715</td>\n",
       "      <td>0</td>\n",
       "      <td>1099</td>\n",
       "    </tr>\n",
       "    <tr>\n",
       "      <th>2022-07-28T20</th>\n",
       "      <td>23071</td>\n",
       "      <td>-1</td>\n",
       "      <td>1006</td>\n",
       "    </tr>\n",
       "    <tr>\n",
       "      <th>2022-07-28T21</th>\n",
       "      <td>23724</td>\n",
       "      <td>0</td>\n",
       "      <td>798</td>\n",
       "    </tr>\n",
       "    <tr>\n",
       "      <th>2022-07-28T22</th>\n",
       "      <td>23025</td>\n",
       "      <td>0</td>\n",
       "      <td>765</td>\n",
       "    </tr>\n",
       "    <tr>\n",
       "      <th>2022-07-28T23</th>\n",
       "      <td>23101</td>\n",
       "      <td>0</td>\n",
       "      <td>484</td>\n",
       "    </tr>\n",
       "  </tbody>\n",
       "</table>\n",
       "<p>9432 rows × 3 columns</p>\n",
       "</div>"
      ],
      "text/plain": [
       "fueltype          NG  OIL   SUN\n",
       "period                         \n",
       "2021-07-01T00  20540   -1   177\n",
       "2021-07-01T01  19923    0    32\n",
       "2021-07-01T02  18983    0     0\n",
       "2021-07-01T03  17476   -1     0\n",
       "2021-07-01T04  15457    0     0\n",
       "...              ...  ...   ...\n",
       "2022-07-28T19  22715    0  1099\n",
       "2022-07-28T20  23071   -1  1006\n",
       "2022-07-28T21  23724    0   798\n",
       "2022-07-28T22  23025    0   765\n",
       "2022-07-28T23  23101    0   484\n",
       "\n",
       "[9432 rows x 3 columns]"
      ]
     },
     "execution_count": 6,
     "metadata": {},
     "output_type": "execute_result"
    }
   ],
   "source": [
    "df2 = pd.pivot(data=pd.concat(dfs), index='period', columns='fueltype', values='value')\n",
    "df2"
   ]
  },
  {
   "cell_type": "code",
   "execution_count": 8,
   "metadata": {},
   "outputs": [],
   "source": [
    "df2.index = pd.to_datetime(df2.index)"
   ]
  },
  {
   "cell_type": "code",
   "execution_count": 9,
   "metadata": {},
   "outputs": [
    {
     "data": {
      "text/plain": [
       "period\n",
       "2021-07-01 00:00:00     177\n",
       "2021-07-01 01:00:00      32\n",
       "2021-07-01 02:00:00       0\n",
       "2021-07-01 03:00:00       0\n",
       "2021-07-01 04:00:00       0\n",
       "                       ... \n",
       "2022-07-28 19:00:00    1099\n",
       "2022-07-28 20:00:00    1006\n",
       "2022-07-28 21:00:00     798\n",
       "2022-07-28 22:00:00     765\n",
       "2022-07-28 23:00:00     484\n",
       "Name: SUN, Length: 9432, dtype: int64"
      ]
     },
     "execution_count": 9,
     "metadata": {},
     "output_type": "execute_result"
    }
   ],
   "source": [
    "df2['SUN']"
   ]
  },
  {
   "cell_type": "code",
   "execution_count": 38,
   "metadata": {},
   "outputs": [
    {
     "name": "stdout",
     "output_type": "stream",
     "text": [
      "/c/Users/FFF/Desktop/Flatiron/Projects/phase_4_solar_power/Notebooks\n"
     ]
    }
   ],
   "source": [
    "!pwd"
   ]
  },
  {
   "cell_type": "code",
   "execution_count": 10,
   "metadata": {},
   "outputs": [],
   "source": [
    "df2.to_csv('../data/df2.csv')"
   ]
  },
  {
   "cell_type": "code",
   "execution_count": null,
   "metadata": {},
   "outputs": [],
   "source": []
  }
 ],
 "metadata": {
  "kernelspec": {
   "display_name": "Python (learn-env)",
   "language": "python",
   "name": "learn-env"
  },
  "language_info": {
   "codemirror_mode": {
    "name": "ipython",
    "version": 3
   },
   "file_extension": ".py",
   "mimetype": "text/x-python",
   "name": "python",
   "nbconvert_exporter": "python",
   "pygments_lexer": "ipython3",
   "version": "3.8.5"
  }
 },
 "nbformat": 4,
 "nbformat_minor": 4
}
