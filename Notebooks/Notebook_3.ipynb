{
 "cells": [
  {
   "cell_type": "code",
   "execution_count": 1,
   "metadata": {},
   "outputs": [],
   "source": [
    "import requests\n",
    "import pandas as pd\n",
    "from secret import keys"
   ]
  },
  {
   "cell_type": "code",
   "execution_count": 2,
   "metadata": {},
   "outputs": [],
   "source": [
    "api_key = keys.API_KEY"
   ]
  },
  {
   "cell_type": "code",
   "execution_count": 3,
   "metadata": {},
   "outputs": [],
   "source": [
    "base_url = 'https://api.eia.gov/v2/electricity/rto/fuel-type-data/data'"
   ]
  },
  {
   "cell_type": "markdown",
   "metadata": {},
   "source": [
    "## Sun, Natural Gas, Coal"
   ]
  },
  {
   "cell_type": "code",
   "execution_count": 4,
   "metadata": {},
   "outputs": [],
   "source": [
    "params = {\n",
    "    'api_key': api_key,\n",
    "    \"frequency\": \"hourly\", # pulling data in hourly.\n",
    "    \"data[]\": \"value\", # amount of energy produced or consumed?\n",
    "    \"facets[fueltype][]\":[\"SUN\", \"NG\", \"COL\"], # energy source (solar)\n",
    "    \"facets[respondent][]\": \"SOCO\", # recording location of data (Southern Company)\n",
    "    \"start\": \"2021-07-01\", # Time frame to pull data (start and end date)\n",
    "    \"end\": \"2022-07-29\",\n",
    "    \"offset\": 0\n",
    "}"
   ]
  },
  {
   "cell_type": "code",
   "execution_count": 5,
   "metadata": {},
   "outputs": [],
   "source": [
    "dfs = []\n",
    "for off in range(0, 30000, 5000):\n",
    "    \n",
    "    params[\"offset\"] = off\n",
    "    \n",
    "    resp = requests.get(base_url, params=params)\n",
    "    \n",
    "    data = resp.json()\n",
    "    \n",
    "    df = pd.DataFrame(data['response']['data'])\n",
    "    \n",
    "    dfs.append(df)"
   ]
  },
  {
   "cell_type": "code",
   "execution_count": 7,
   "metadata": {
    "scrolled": false
   },
   "outputs": [
    {
     "data": {
      "text/html": [
       "<div>\n",
       "<style scoped>\n",
       "    .dataframe tbody tr th:only-of-type {\n",
       "        vertical-align: middle;\n",
       "    }\n",
       "\n",
       "    .dataframe tbody tr th {\n",
       "        vertical-align: top;\n",
       "    }\n",
       "\n",
       "    .dataframe thead th {\n",
       "        text-align: right;\n",
       "    }\n",
       "</style>\n",
       "<table border=\"1\" class=\"dataframe\">\n",
       "  <thead>\n",
       "    <tr style=\"text-align: right;\">\n",
       "      <th>fueltype</th>\n",
       "      <th>COL</th>\n",
       "      <th>NG</th>\n",
       "      <th>SUN</th>\n",
       "    </tr>\n",
       "    <tr>\n",
       "      <th>period</th>\n",
       "      <th></th>\n",
       "      <th></th>\n",
       "      <th></th>\n",
       "    </tr>\n",
       "  </thead>\n",
       "  <tbody>\n",
       "    <tr>\n",
       "      <th>2021-07-01T00</th>\n",
       "      <td>9464</td>\n",
       "      <td>20540</td>\n",
       "      <td>177</td>\n",
       "    </tr>\n",
       "    <tr>\n",
       "      <th>2021-07-01T01</th>\n",
       "      <td>9382</td>\n",
       "      <td>19923</td>\n",
       "      <td>32</td>\n",
       "    </tr>\n",
       "    <tr>\n",
       "      <th>2021-07-01T02</th>\n",
       "      <td>9286</td>\n",
       "      <td>18983</td>\n",
       "      <td>0</td>\n",
       "    </tr>\n",
       "    <tr>\n",
       "      <th>2021-07-01T03</th>\n",
       "      <td>9163</td>\n",
       "      <td>17476</td>\n",
       "      <td>0</td>\n",
       "    </tr>\n",
       "    <tr>\n",
       "      <th>2021-07-01T04</th>\n",
       "      <td>8195</td>\n",
       "      <td>15457</td>\n",
       "      <td>0</td>\n",
       "    </tr>\n",
       "    <tr>\n",
       "      <th>...</th>\n",
       "      <td>...</td>\n",
       "      <td>...</td>\n",
       "      <td>...</td>\n",
       "    </tr>\n",
       "    <tr>\n",
       "      <th>2022-07-28T19</th>\n",
       "      <td>7925</td>\n",
       "      <td>22715</td>\n",
       "      <td>1099</td>\n",
       "    </tr>\n",
       "    <tr>\n",
       "      <th>2022-07-28T20</th>\n",
       "      <td>7932</td>\n",
       "      <td>23071</td>\n",
       "      <td>1006</td>\n",
       "    </tr>\n",
       "    <tr>\n",
       "      <th>2022-07-28T21</th>\n",
       "      <td>7993</td>\n",
       "      <td>23724</td>\n",
       "      <td>798</td>\n",
       "    </tr>\n",
       "    <tr>\n",
       "      <th>2022-07-28T22</th>\n",
       "      <td>7913</td>\n",
       "      <td>23025</td>\n",
       "      <td>765</td>\n",
       "    </tr>\n",
       "    <tr>\n",
       "      <th>2022-07-28T23</th>\n",
       "      <td>7840</td>\n",
       "      <td>23101</td>\n",
       "      <td>484</td>\n",
       "    </tr>\n",
       "  </tbody>\n",
       "</table>\n",
       "<p>9432 rows × 3 columns</p>\n",
       "</div>"
      ],
      "text/plain": [
       "fueltype        COL     NG   SUN\n",
       "period                          \n",
       "2021-07-01T00  9464  20540   177\n",
       "2021-07-01T01  9382  19923    32\n",
       "2021-07-01T02  9286  18983     0\n",
       "2021-07-01T03  9163  17476     0\n",
       "2021-07-01T04  8195  15457     0\n",
       "...             ...    ...   ...\n",
       "2022-07-28T19  7925  22715  1099\n",
       "2022-07-28T20  7932  23071  1006\n",
       "2022-07-28T21  7993  23724   798\n",
       "2022-07-28T22  7913  23025   765\n",
       "2022-07-28T23  7840  23101   484\n",
       "\n",
       "[9432 rows x 3 columns]"
      ]
     },
     "execution_count": 7,
     "metadata": {},
     "output_type": "execute_result"
    }
   ],
   "source": [
    "df2 = pd.pivot(data=pd.concat(dfs), index='period', columns='fueltype', values='value')\n",
    "df2"
   ]
  },
  {
   "cell_type": "code",
   "execution_count": 8,
   "metadata": {},
   "outputs": [],
   "source": [
    "df2.index = pd.to_datetime(df2.index)"
   ]
  },
  {
   "cell_type": "code",
   "execution_count": null,
   "metadata": {},
   "outputs": [],
   "source": [
    "# saved the dataframe to my desktop\n",
    "df2.to_csv('../data/df2.csv')"
   ]
  },
  {
   "cell_type": "markdown",
   "metadata": {},
   "source": [
    "## Nuclear"
   ]
  },
  {
   "cell_type": "code",
   "execution_count": 14,
   "metadata": {},
   "outputs": [],
   "source": [
    "params_nuc = {\n",
    "    'api_key': api_key,\n",
    "    \"frequency\": \"hourly\", # pulling data in hourly.\n",
    "    \"data[]\": \"value\", # amount of energy produced or consumed?\n",
    "    \"facets[fueltype][]\":\"NUC\", # energy source (solar)\n",
    "    \"facets[respondent][]\": \"SOCO\", # recording location of data (Southern Company)\n",
    "    \"start\": \"2021-07-01\", # Time frame to pull data (start and end date)\n",
    "    \"end\": \"2022-07-29\",\n",
    "    \"offset\": 0\n",
    "}"
   ]
  },
  {
   "cell_type": "code",
   "execution_count": 15,
   "metadata": {},
   "outputs": [],
   "source": [
    "resp_nuc = requests.get(base_url, params=params_nuc)"
   ]
  },
  {
   "cell_type": "code",
   "execution_count": 16,
   "metadata": {},
   "outputs": [
    {
     "data": {
      "text/plain": [
       "200"
      ]
     },
     "execution_count": 16,
     "metadata": {},
     "output_type": "execute_result"
    }
   ],
   "source": [
    "resp_nuc.status_code"
   ]
  },
  {
   "cell_type": "code",
   "execution_count": 18,
   "metadata": {},
   "outputs": [],
   "source": [
    "dfs_nuc = []\n",
    "for off in range(0, 30000, 5000):\n",
    "    \n",
    "    params_nuc[\"offset\"] = off\n",
    "    \n",
    "    resp_nuc = requests.get(base_url, params=params_nuc)\n",
    "    \n",
    "    data_nuc = resp_nuc.json()\n",
    "    \n",
    "    df_nuc = pd.DataFrame(data_nuc['response']['data'])\n",
    "    \n",
    "    dfs_nuc.append(df_nuc)"
   ]
  },
  {
   "cell_type": "code",
   "execution_count": 41,
   "metadata": {},
   "outputs": [
    {
     "data": {
      "text/html": [
       "<div>\n",
       "<style scoped>\n",
       "    .dataframe tbody tr th:only-of-type {\n",
       "        vertical-align: middle;\n",
       "    }\n",
       "\n",
       "    .dataframe tbody tr th {\n",
       "        vertical-align: top;\n",
       "    }\n",
       "\n",
       "    .dataframe thead th {\n",
       "        text-align: right;\n",
       "    }\n",
       "</style>\n",
       "<table border=\"1\" class=\"dataframe\">\n",
       "  <thead>\n",
       "    <tr style=\"text-align: right;\">\n",
       "      <th></th>\n",
       "      <th>period</th>\n",
       "      <th>respondent</th>\n",
       "      <th>respondent-name</th>\n",
       "      <th>fueltype</th>\n",
       "      <th>type-name</th>\n",
       "      <th>value</th>\n",
       "      <th>value-units</th>\n",
       "    </tr>\n",
       "  </thead>\n",
       "  <tbody>\n",
       "    <tr>\n",
       "      <th>0</th>\n",
       "      <td>2021-07-01T00</td>\n",
       "      <td>SOCO</td>\n",
       "      <td>Southern Company Services, Inc. - Trans</td>\n",
       "      <td>NUC</td>\n",
       "      <td>Nuclear</td>\n",
       "      <td>5376</td>\n",
       "      <td>megawatthours</td>\n",
       "    </tr>\n",
       "    <tr>\n",
       "      <th>1</th>\n",
       "      <td>2021-07-01T01</td>\n",
       "      <td>SOCO</td>\n",
       "      <td>Southern Company Services, Inc. - Trans</td>\n",
       "      <td>NUC</td>\n",
       "      <td>Nuclear</td>\n",
       "      <td>5372</td>\n",
       "      <td>megawatthours</td>\n",
       "    </tr>\n",
       "    <tr>\n",
       "      <th>2</th>\n",
       "      <td>2021-07-01T02</td>\n",
       "      <td>SOCO</td>\n",
       "      <td>Southern Company Services, Inc. - Trans</td>\n",
       "      <td>NUC</td>\n",
       "      <td>Nuclear</td>\n",
       "      <td>5373</td>\n",
       "      <td>megawatthours</td>\n",
       "    </tr>\n",
       "  </tbody>\n",
       "</table>\n",
       "</div>"
      ],
      "text/plain": [
       "          period respondent                          respondent-name fueltype  \\\n",
       "0  2021-07-01T00       SOCO  Southern Company Services, Inc. - Trans      NUC   \n",
       "1  2021-07-01T01       SOCO  Southern Company Services, Inc. - Trans      NUC   \n",
       "2  2021-07-01T02       SOCO  Southern Company Services, Inc. - Trans      NUC   \n",
       "\n",
       "  type-name  value    value-units  \n",
       "0   Nuclear   5376  megawatthours  \n",
       "1   Nuclear   5372  megawatthours  \n",
       "2   Nuclear   5373  megawatthours  "
      ]
     },
     "execution_count": 41,
     "metadata": {},
     "output_type": "execute_result"
    }
   ],
   "source": [
    "df_nuc = pd.concat(dfs_nuc)\n",
    "df_nuc.head(3)"
   ]
  },
  {
   "cell_type": "code",
   "execution_count": 70,
   "metadata": {},
   "outputs": [
    {
     "data": {
      "text/html": [
       "<div>\n",
       "<style scoped>\n",
       "    .dataframe tbody tr th:only-of-type {\n",
       "        vertical-align: middle;\n",
       "    }\n",
       "\n",
       "    .dataframe tbody tr th {\n",
       "        vertical-align: top;\n",
       "    }\n",
       "\n",
       "    .dataframe thead th {\n",
       "        text-align: right;\n",
       "    }\n",
       "</style>\n",
       "<table border=\"1\" class=\"dataframe\">\n",
       "  <thead>\n",
       "    <tr style=\"text-align: right;\">\n",
       "      <th></th>\n",
       "      <th>period</th>\n",
       "      <th>value</th>\n",
       "    </tr>\n",
       "  </thead>\n",
       "  <tbody>\n",
       "    <tr>\n",
       "      <th>0</th>\n",
       "      <td>2021-07-01T00</td>\n",
       "      <td>5376</td>\n",
       "    </tr>\n",
       "    <tr>\n",
       "      <th>1</th>\n",
       "      <td>2021-07-01T01</td>\n",
       "      <td>5372</td>\n",
       "    </tr>\n",
       "    <tr>\n",
       "      <th>2</th>\n",
       "      <td>2021-07-01T02</td>\n",
       "      <td>5373</td>\n",
       "    </tr>\n",
       "  </tbody>\n",
       "</table>\n",
       "</div>"
      ],
      "text/plain": [
       "          period  value\n",
       "0  2021-07-01T00   5376\n",
       "1  2021-07-01T01   5372\n",
       "2  2021-07-01T02   5373"
      ]
     },
     "execution_count": 70,
     "metadata": {},
     "output_type": "execute_result"
    }
   ],
   "source": [
    "df_nuc = df_nuc[['period', 'value']]\n",
    "df_nuc.head(3)"
   ]
  },
  {
   "cell_type": "code",
   "execution_count": null,
   "metadata": {},
   "outputs": [],
   "source": [
    "# df_nuc.index = pd.to_datetime(df_nuc.index)\n",
    "# df_nuc.head(3)"
   ]
  },
  {
   "cell_type": "code",
   "execution_count": 71,
   "metadata": {},
   "outputs": [],
   "source": [
    "df_nuc.to_csv('../data/df_nuc.csv')"
   ]
  },
  {
   "cell_type": "markdown",
   "metadata": {},
   "source": [
    "## Oil"
   ]
  },
  {
   "cell_type": "code",
   "execution_count": 22,
   "metadata": {},
   "outputs": [],
   "source": [
    "params_oil = {\n",
    "    'api_key': api_key,\n",
    "    \"frequency\": \"hourly\", # pulling data in hourly.\n",
    "    \"data[]\": \"value\", # amount of energy produced or consumed?\n",
    "    \"facets[fueltype][]\":\"OIL\", # energy source (solar)\n",
    "    \"facets[respondent][]\": \"SOCO\", # recording location of data (Southern Company)\n",
    "    \"start\": \"2021-07-01\", # Time frame to pull data (start and end date)\n",
    "    \"end\": \"2022-07-29\",\n",
    "    \"offset\": 0\n",
    "}"
   ]
  },
  {
   "cell_type": "code",
   "execution_count": 23,
   "metadata": {},
   "outputs": [],
   "source": [
    "dfs_oil = []\n",
    "for off in range(0, 30000, 5000):\n",
    "    \n",
    "    params_oil[\"offset\"] = off\n",
    "    \n",
    "    resp_oil = requests.get(base_url, params=params_oil)\n",
    "    \n",
    "    data_oil = resp_oil.json()\n",
    "    \n",
    "    df_oil = pd.DataFrame(data_oil['response']['data'])\n",
    "    \n",
    "    dfs_oil.append(df_oil)"
   ]
  },
  {
   "cell_type": "code",
   "execution_count": 40,
   "metadata": {},
   "outputs": [
    {
     "data": {
      "text/html": [
       "<div>\n",
       "<style scoped>\n",
       "    .dataframe tbody tr th:only-of-type {\n",
       "        vertical-align: middle;\n",
       "    }\n",
       "\n",
       "    .dataframe tbody tr th {\n",
       "        vertical-align: top;\n",
       "    }\n",
       "\n",
       "    .dataframe thead th {\n",
       "        text-align: right;\n",
       "    }\n",
       "</style>\n",
       "<table border=\"1\" class=\"dataframe\">\n",
       "  <thead>\n",
       "    <tr style=\"text-align: right;\">\n",
       "      <th></th>\n",
       "      <th>period</th>\n",
       "      <th>respondent</th>\n",
       "      <th>respondent-name</th>\n",
       "      <th>fueltype</th>\n",
       "      <th>type-name</th>\n",
       "      <th>value</th>\n",
       "      <th>value-units</th>\n",
       "    </tr>\n",
       "  </thead>\n",
       "  <tbody>\n",
       "    <tr>\n",
       "      <th>0</th>\n",
       "      <td>2021-07-01T00</td>\n",
       "      <td>SOCO</td>\n",
       "      <td>Southern Company Services, Inc. - Trans</td>\n",
       "      <td>OIL</td>\n",
       "      <td>Petroleum</td>\n",
       "      <td>-1</td>\n",
       "      <td>megawatthours</td>\n",
       "    </tr>\n",
       "    <tr>\n",
       "      <th>1</th>\n",
       "      <td>2021-07-01T01</td>\n",
       "      <td>SOCO</td>\n",
       "      <td>Southern Company Services, Inc. - Trans</td>\n",
       "      <td>OIL</td>\n",
       "      <td>Petroleum</td>\n",
       "      <td>0</td>\n",
       "      <td>megawatthours</td>\n",
       "    </tr>\n",
       "    <tr>\n",
       "      <th>2</th>\n",
       "      <td>2021-07-01T02</td>\n",
       "      <td>SOCO</td>\n",
       "      <td>Southern Company Services, Inc. - Trans</td>\n",
       "      <td>OIL</td>\n",
       "      <td>Petroleum</td>\n",
       "      <td>0</td>\n",
       "      <td>megawatthours</td>\n",
       "    </tr>\n",
       "  </tbody>\n",
       "</table>\n",
       "</div>"
      ],
      "text/plain": [
       "          period respondent                          respondent-name fueltype  \\\n",
       "0  2021-07-01T00       SOCO  Southern Company Services, Inc. - Trans      OIL   \n",
       "1  2021-07-01T01       SOCO  Southern Company Services, Inc. - Trans      OIL   \n",
       "2  2021-07-01T02       SOCO  Southern Company Services, Inc. - Trans      OIL   \n",
       "\n",
       "   type-name  value    value-units  \n",
       "0  Petroleum     -1  megawatthours  \n",
       "1  Petroleum      0  megawatthours  \n",
       "2  Petroleum      0  megawatthours  "
      ]
     },
     "execution_count": 40,
     "metadata": {},
     "output_type": "execute_result"
    }
   ],
   "source": [
    "df_oil = pd.concat(dfs_oil)\n",
    "df_oil.head(3)"
   ]
  },
  {
   "cell_type": "code",
   "execution_count": 73,
   "metadata": {},
   "outputs": [
    {
     "data": {
      "text/html": [
       "<div>\n",
       "<style scoped>\n",
       "    .dataframe tbody tr th:only-of-type {\n",
       "        vertical-align: middle;\n",
       "    }\n",
       "\n",
       "    .dataframe tbody tr th {\n",
       "        vertical-align: top;\n",
       "    }\n",
       "\n",
       "    .dataframe thead th {\n",
       "        text-align: right;\n",
       "    }\n",
       "</style>\n",
       "<table border=\"1\" class=\"dataframe\">\n",
       "  <thead>\n",
       "    <tr style=\"text-align: right;\">\n",
       "      <th></th>\n",
       "      <th>period</th>\n",
       "      <th>value</th>\n",
       "    </tr>\n",
       "  </thead>\n",
       "  <tbody>\n",
       "    <tr>\n",
       "      <th>0</th>\n",
       "      <td>2021-07-01T00</td>\n",
       "      <td>-1</td>\n",
       "    </tr>\n",
       "    <tr>\n",
       "      <th>1</th>\n",
       "      <td>2021-07-01T01</td>\n",
       "      <td>0</td>\n",
       "    </tr>\n",
       "    <tr>\n",
       "      <th>2</th>\n",
       "      <td>2021-07-01T02</td>\n",
       "      <td>0</td>\n",
       "    </tr>\n",
       "  </tbody>\n",
       "</table>\n",
       "</div>"
      ],
      "text/plain": [
       "          period  value\n",
       "0  2021-07-01T00     -1\n",
       "1  2021-07-01T01      0\n",
       "2  2021-07-01T02      0"
      ]
     },
     "execution_count": 73,
     "metadata": {},
     "output_type": "execute_result"
    }
   ],
   "source": [
    "df_oil = df_oil[['period', 'value']]\n",
    "df_oil.head(3)"
   ]
  },
  {
   "cell_type": "code",
   "execution_count": 74,
   "metadata": {},
   "outputs": [],
   "source": [
    "df_oil.to_csv('../data/df_oil.csv')"
   ]
  },
  {
   "cell_type": "markdown",
   "metadata": {},
   "source": [
    "## Hydro"
   ]
  },
  {
   "cell_type": "code",
   "execution_count": 34,
   "metadata": {},
   "outputs": [],
   "source": [
    "params_hydro = {\n",
    "    'api_key': api_key,\n",
    "    \"frequency\": \"hourly\", # pulling data in hourly.\n",
    "    \"data[]\": \"value\", # amount of energy produced or consumed?\n",
    "    \"facets[fueltype][]\":\"WAT\", # energy source (solar)\n",
    "    \"facets[respondent][]\": \"SOCO\", # recording location of data (Southern Company)\n",
    "    \"start\": \"2021-07-01\", # Time frame to pull data (start and end date)\n",
    "    \"end\": \"2022-07-29\",\n",
    "    \"offset\": 0\n",
    "}"
   ]
  },
  {
   "cell_type": "code",
   "execution_count": 35,
   "metadata": {},
   "outputs": [],
   "source": [
    "dfs_hydro = []\n",
    "for off in range(0, 30000, 5000):\n",
    "    \n",
    "    params_hydro[\"offset\"] = off\n",
    "    \n",
    "    resp_hydro = requests.get(base_url, params=params_hydro)\n",
    "    \n",
    "    data_hydro = resp_hydro.json()\n",
    "    \n",
    "    df_hydro = pd.DataFrame(data_hydro['response']['data'])\n",
    "    \n",
    "    dfs_hydro.append(df_hydro)"
   ]
  },
  {
   "cell_type": "code",
   "execution_count": 39,
   "metadata": {
    "scrolled": true
   },
   "outputs": [
    {
     "data": {
      "text/html": [
       "<div>\n",
       "<style scoped>\n",
       "    .dataframe tbody tr th:only-of-type {\n",
       "        vertical-align: middle;\n",
       "    }\n",
       "\n",
       "    .dataframe tbody tr th {\n",
       "        vertical-align: top;\n",
       "    }\n",
       "\n",
       "    .dataframe thead th {\n",
       "        text-align: right;\n",
       "    }\n",
       "</style>\n",
       "<table border=\"1\" class=\"dataframe\">\n",
       "  <thead>\n",
       "    <tr style=\"text-align: right;\">\n",
       "      <th></th>\n",
       "      <th>period</th>\n",
       "      <th>respondent</th>\n",
       "      <th>respondent-name</th>\n",
       "      <th>fueltype</th>\n",
       "      <th>type-name</th>\n",
       "      <th>value</th>\n",
       "      <th>value-units</th>\n",
       "    </tr>\n",
       "  </thead>\n",
       "  <tbody>\n",
       "    <tr>\n",
       "      <th>0</th>\n",
       "      <td>2021-07-01T00</td>\n",
       "      <td>SOCO</td>\n",
       "      <td>Southern Company Services, Inc. - Trans</td>\n",
       "      <td>WAT</td>\n",
       "      <td>Hydro</td>\n",
       "      <td>1900</td>\n",
       "      <td>megawatthours</td>\n",
       "    </tr>\n",
       "    <tr>\n",
       "      <th>1</th>\n",
       "      <td>2021-07-01T01</td>\n",
       "      <td>SOCO</td>\n",
       "      <td>Southern Company Services, Inc. - Trans</td>\n",
       "      <td>WAT</td>\n",
       "      <td>Hydro</td>\n",
       "      <td>1202</td>\n",
       "      <td>megawatthours</td>\n",
       "    </tr>\n",
       "    <tr>\n",
       "      <th>2</th>\n",
       "      <td>2021-07-01T02</td>\n",
       "      <td>SOCO</td>\n",
       "      <td>Southern Company Services, Inc. - Trans</td>\n",
       "      <td>WAT</td>\n",
       "      <td>Hydro</td>\n",
       "      <td>1056</td>\n",
       "      <td>megawatthours</td>\n",
       "    </tr>\n",
       "  </tbody>\n",
       "</table>\n",
       "</div>"
      ],
      "text/plain": [
       "          period respondent                          respondent-name fueltype  \\\n",
       "0  2021-07-01T00       SOCO  Southern Company Services, Inc. - Trans      WAT   \n",
       "1  2021-07-01T01       SOCO  Southern Company Services, Inc. - Trans      WAT   \n",
       "2  2021-07-01T02       SOCO  Southern Company Services, Inc. - Trans      WAT   \n",
       "\n",
       "  type-name  value    value-units  \n",
       "0     Hydro   1900  megawatthours  \n",
       "1     Hydro   1202  megawatthours  \n",
       "2     Hydro   1056  megawatthours  "
      ]
     },
     "execution_count": 39,
     "metadata": {},
     "output_type": "execute_result"
    }
   ],
   "source": [
    "df_hydro = pd.concat(dfs_hydro)\n",
    "df_hydro.head(3)"
   ]
  },
  {
   "cell_type": "code",
   "execution_count": 75,
   "metadata": {},
   "outputs": [
    {
     "data": {
      "text/html": [
       "<div>\n",
       "<style scoped>\n",
       "    .dataframe tbody tr th:only-of-type {\n",
       "        vertical-align: middle;\n",
       "    }\n",
       "\n",
       "    .dataframe tbody tr th {\n",
       "        vertical-align: top;\n",
       "    }\n",
       "\n",
       "    .dataframe thead th {\n",
       "        text-align: right;\n",
       "    }\n",
       "</style>\n",
       "<table border=\"1\" class=\"dataframe\">\n",
       "  <thead>\n",
       "    <tr style=\"text-align: right;\">\n",
       "      <th></th>\n",
       "      <th>period</th>\n",
       "      <th>value</th>\n",
       "    </tr>\n",
       "  </thead>\n",
       "  <tbody>\n",
       "    <tr>\n",
       "      <th>0</th>\n",
       "      <td>2021-07-01T00</td>\n",
       "      <td>1900</td>\n",
       "    </tr>\n",
       "    <tr>\n",
       "      <th>1</th>\n",
       "      <td>2021-07-01T01</td>\n",
       "      <td>1202</td>\n",
       "    </tr>\n",
       "    <tr>\n",
       "      <th>2</th>\n",
       "      <td>2021-07-01T02</td>\n",
       "      <td>1056</td>\n",
       "    </tr>\n",
       "  </tbody>\n",
       "</table>\n",
       "</div>"
      ],
      "text/plain": [
       "          period  value\n",
       "0  2021-07-01T00   1900\n",
       "1  2021-07-01T01   1202\n",
       "2  2021-07-01T02   1056"
      ]
     },
     "execution_count": 75,
     "metadata": {},
     "output_type": "execute_result"
    }
   ],
   "source": [
    "df_hydro = df_hydro[['period', 'value']]\n",
    "df_hydro.head(3)"
   ]
  },
  {
   "cell_type": "code",
   "execution_count": 76,
   "metadata": {},
   "outputs": [],
   "source": [
    "df_hydro.to_csv('../data/df_hydro.csv')"
   ]
  },
  {
   "cell_type": "markdown",
   "metadata": {},
   "source": [
    "## Wind"
   ]
  },
  {
   "cell_type": "code",
   "execution_count": 54,
   "metadata": {},
   "outputs": [],
   "source": [
    "params_wind = {\n",
    "    'api_key': api_key,\n",
    "    \"frequency\": \"hourly\", # pulling data in hourly.\n",
    "    \"data[]\": \"value\", # amount of energy produced or consumed?\n",
    "    \"facets[fueltype][]\":\"WND\", # energy source (solar)\n",
    "    \"facets[respondent][]\": \"SOCO\", # recording location of data (Southern Company)\n",
    "    \"start\": \"2021-07-01\", # Time frame to pull data (start and end date)\n",
    "    \"end\": \"2022-07-29\",\n",
    "    \"offset\": 0\n",
    "}"
   ]
  },
  {
   "cell_type": "code",
   "execution_count": 55,
   "metadata": {},
   "outputs": [],
   "source": [
    "dfs_wind = []\n",
    "for off in range(0, 30000, 5000):\n",
    "    \n",
    "    params_wind[\"offset\"] = off\n",
    "    \n",
    "    resp_wind = requests.get(base_url, params=params_wind)\n",
    "    \n",
    "    data_wind = resp_wind.json()\n",
    "    \n",
    "    df_wind = pd.DataFrame(data_wind['response']['data'])\n",
    "    \n",
    "    dfs_wind.append(df_wind)"
   ]
  },
  {
   "cell_type": "code",
   "execution_count": 58,
   "metadata": {
    "scrolled": false
   },
   "outputs": [
    {
     "data": {
      "text/html": [
       "<div>\n",
       "<style scoped>\n",
       "    .dataframe tbody tr th:only-of-type {\n",
       "        vertical-align: middle;\n",
       "    }\n",
       "\n",
       "    .dataframe tbody tr th {\n",
       "        vertical-align: top;\n",
       "    }\n",
       "\n",
       "    .dataframe thead th {\n",
       "        text-align: right;\n",
       "    }\n",
       "</style>\n",
       "<table border=\"1\" class=\"dataframe\">\n",
       "  <thead>\n",
       "    <tr style=\"text-align: right;\">\n",
       "      <th></th>\n",
       "      <th>period</th>\n",
       "      <th>respondent</th>\n",
       "      <th>respondent-name</th>\n",
       "      <th>fueltype</th>\n",
       "      <th>type-name</th>\n",
       "      <th>value</th>\n",
       "      <th>value-units</th>\n",
       "    </tr>\n",
       "  </thead>\n",
       "  <tbody>\n",
       "    <tr>\n",
       "      <th>0</th>\n",
       "      <td>2021-07-01T00</td>\n",
       "      <td>SOCO</td>\n",
       "      <td>Southern Company Services, Inc. - Trans</td>\n",
       "      <td>WND</td>\n",
       "      <td>Wind</td>\n",
       "      <td>0</td>\n",
       "      <td>megawatthours</td>\n",
       "    </tr>\n",
       "    <tr>\n",
       "      <th>1</th>\n",
       "      <td>2021-07-01T01</td>\n",
       "      <td>SOCO</td>\n",
       "      <td>Southern Company Services, Inc. - Trans</td>\n",
       "      <td>WND</td>\n",
       "      <td>Wind</td>\n",
       "      <td>0</td>\n",
       "      <td>megawatthours</td>\n",
       "    </tr>\n",
       "    <tr>\n",
       "      <th>2</th>\n",
       "      <td>2021-07-01T02</td>\n",
       "      <td>SOCO</td>\n",
       "      <td>Southern Company Services, Inc. - Trans</td>\n",
       "      <td>WND</td>\n",
       "      <td>Wind</td>\n",
       "      <td>0</td>\n",
       "      <td>megawatthours</td>\n",
       "    </tr>\n",
       "  </tbody>\n",
       "</table>\n",
       "</div>"
      ],
      "text/plain": [
       "          period respondent                          respondent-name fueltype  \\\n",
       "0  2021-07-01T00       SOCO  Southern Company Services, Inc. - Trans      WND   \n",
       "1  2021-07-01T01       SOCO  Southern Company Services, Inc. - Trans      WND   \n",
       "2  2021-07-01T02       SOCO  Southern Company Services, Inc. - Trans      WND   \n",
       "\n",
       "  type-name  value    value-units  \n",
       "0      Wind      0  megawatthours  \n",
       "1      Wind      0  megawatthours  \n",
       "2      Wind      0  megawatthours  "
      ]
     },
     "execution_count": 58,
     "metadata": {},
     "output_type": "execute_result"
    }
   ],
   "source": [
    "df_wind = pd.concat(dfs_wind)\n",
    "df_wind.head(3)"
   ]
  },
  {
   "cell_type": "code",
   "execution_count": 77,
   "metadata": {},
   "outputs": [
    {
     "data": {
      "text/html": [
       "<div>\n",
       "<style scoped>\n",
       "    .dataframe tbody tr th:only-of-type {\n",
       "        vertical-align: middle;\n",
       "    }\n",
       "\n",
       "    .dataframe tbody tr th {\n",
       "        vertical-align: top;\n",
       "    }\n",
       "\n",
       "    .dataframe thead th {\n",
       "        text-align: right;\n",
       "    }\n",
       "</style>\n",
       "<table border=\"1\" class=\"dataframe\">\n",
       "  <thead>\n",
       "    <tr style=\"text-align: right;\">\n",
       "      <th></th>\n",
       "      <th>period</th>\n",
       "      <th>value</th>\n",
       "    </tr>\n",
       "  </thead>\n",
       "  <tbody>\n",
       "    <tr>\n",
       "      <th>0</th>\n",
       "      <td>2021-07-01T00</td>\n",
       "      <td>0</td>\n",
       "    </tr>\n",
       "    <tr>\n",
       "      <th>1</th>\n",
       "      <td>2021-07-01T01</td>\n",
       "      <td>0</td>\n",
       "    </tr>\n",
       "    <tr>\n",
       "      <th>2</th>\n",
       "      <td>2021-07-01T02</td>\n",
       "      <td>0</td>\n",
       "    </tr>\n",
       "  </tbody>\n",
       "</table>\n",
       "</div>"
      ],
      "text/plain": [
       "          period  value\n",
       "0  2021-07-01T00      0\n",
       "1  2021-07-01T01      0\n",
       "2  2021-07-01T02      0"
      ]
     },
     "execution_count": 77,
     "metadata": {},
     "output_type": "execute_result"
    }
   ],
   "source": [
    "df_wind = df_wind[['period', 'value']]\n",
    "df_wind.head(3)"
   ]
  },
  {
   "cell_type": "code",
   "execution_count": 78,
   "metadata": {},
   "outputs": [],
   "source": [
    "df_wind.to_csv('../data/df_wind.csv')"
   ]
  },
  {
   "cell_type": "markdown",
   "metadata": {},
   "source": [
    "## Other"
   ]
  },
  {
   "cell_type": "code",
   "execution_count": 59,
   "metadata": {},
   "outputs": [],
   "source": [
    "params_oth = {\n",
    "    'api_key': api_key,\n",
    "    \"frequency\": \"hourly\", # pulling data in hourly.\n",
    "    \"data[]\": \"value\", # amount of energy produced or consumed?\n",
    "    \"facets[fueltype][]\":\"OTH\", # energy source (solar)\n",
    "    \"facets[respondent][]\": \"SOCO\", # recording location of data (Southern Company)\n",
    "    \"start\": \"2021-07-01\", # Time frame to pull data (start and end date)\n",
    "    \"end\": \"2022-07-29\",\n",
    "    \"offset\": 0\n",
    "}"
   ]
  },
  {
   "cell_type": "code",
   "execution_count": 60,
   "metadata": {},
   "outputs": [],
   "source": [
    "dfs_oth = []\n",
    "for off in range(0, 30000, 5000):\n",
    "    \n",
    "    params_oth[\"offset\"] = off\n",
    "    \n",
    "    resp_oth = requests.get(base_url, params=params_oth)\n",
    "    \n",
    "    data_oth = resp_oth.json()\n",
    "    \n",
    "    df_oth = pd.DataFrame(data_oth['response']['data'])\n",
    "    \n",
    "    dfs_oth.append(df_oth)"
   ]
  },
  {
   "cell_type": "code",
   "execution_count": 61,
   "metadata": {
    "scrolled": true
   },
   "outputs": [],
   "source": [
    "df_oth = pd.concat(dfs_oth)"
   ]
  },
  {
   "cell_type": "code",
   "execution_count": 63,
   "metadata": {},
   "outputs": [
    {
     "data": {
      "text/html": [
       "<div>\n",
       "<style scoped>\n",
       "    .dataframe tbody tr th:only-of-type {\n",
       "        vertical-align: middle;\n",
       "    }\n",
       "\n",
       "    .dataframe tbody tr th {\n",
       "        vertical-align: top;\n",
       "    }\n",
       "\n",
       "    .dataframe thead th {\n",
       "        text-align: right;\n",
       "    }\n",
       "</style>\n",
       "<table border=\"1\" class=\"dataframe\">\n",
       "  <thead>\n",
       "    <tr style=\"text-align: right;\">\n",
       "      <th></th>\n",
       "      <th>period</th>\n",
       "      <th>respondent</th>\n",
       "      <th>respondent-name</th>\n",
       "      <th>fueltype</th>\n",
       "      <th>type-name</th>\n",
       "      <th>value</th>\n",
       "      <th>value-units</th>\n",
       "    </tr>\n",
       "  </thead>\n",
       "  <tbody>\n",
       "    <tr>\n",
       "      <th>0</th>\n",
       "      <td>2021-07-01T00</td>\n",
       "      <td>SOCO</td>\n",
       "      <td>Southern Company Services, Inc. - Trans</td>\n",
       "      <td>OTH</td>\n",
       "      <td>Other</td>\n",
       "      <td>366</td>\n",
       "      <td>megawatthours</td>\n",
       "    </tr>\n",
       "    <tr>\n",
       "      <th>1</th>\n",
       "      <td>2021-07-01T01</td>\n",
       "      <td>SOCO</td>\n",
       "      <td>Southern Company Services, Inc. - Trans</td>\n",
       "      <td>OTH</td>\n",
       "      <td>Other</td>\n",
       "      <td>373</td>\n",
       "      <td>megawatthours</td>\n",
       "    </tr>\n",
       "    <tr>\n",
       "      <th>2</th>\n",
       "      <td>2021-07-01T02</td>\n",
       "      <td>SOCO</td>\n",
       "      <td>Southern Company Services, Inc. - Trans</td>\n",
       "      <td>OTH</td>\n",
       "      <td>Other</td>\n",
       "      <td>370</td>\n",
       "      <td>megawatthours</td>\n",
       "    </tr>\n",
       "  </tbody>\n",
       "</table>\n",
       "</div>"
      ],
      "text/plain": [
       "          period respondent                          respondent-name fueltype  \\\n",
       "0  2021-07-01T00       SOCO  Southern Company Services, Inc. - Trans      OTH   \n",
       "1  2021-07-01T01       SOCO  Southern Company Services, Inc. - Trans      OTH   \n",
       "2  2021-07-01T02       SOCO  Southern Company Services, Inc. - Trans      OTH   \n",
       "\n",
       "  type-name  value    value-units  \n",
       "0     Other    366  megawatthours  \n",
       "1     Other    373  megawatthours  \n",
       "2     Other    370  megawatthours  "
      ]
     },
     "execution_count": 63,
     "metadata": {},
     "output_type": "execute_result"
    }
   ],
   "source": [
    "df_oth.head(3)"
   ]
  },
  {
   "cell_type": "code",
   "execution_count": 79,
   "metadata": {},
   "outputs": [
    {
     "data": {
      "text/html": [
       "<div>\n",
       "<style scoped>\n",
       "    .dataframe tbody tr th:only-of-type {\n",
       "        vertical-align: middle;\n",
       "    }\n",
       "\n",
       "    .dataframe tbody tr th {\n",
       "        vertical-align: top;\n",
       "    }\n",
       "\n",
       "    .dataframe thead th {\n",
       "        text-align: right;\n",
       "    }\n",
       "</style>\n",
       "<table border=\"1\" class=\"dataframe\">\n",
       "  <thead>\n",
       "    <tr style=\"text-align: right;\">\n",
       "      <th></th>\n",
       "      <th>period</th>\n",
       "      <th>value</th>\n",
       "    </tr>\n",
       "  </thead>\n",
       "  <tbody>\n",
       "    <tr>\n",
       "      <th>0</th>\n",
       "      <td>2021-07-01T00</td>\n",
       "      <td>366</td>\n",
       "    </tr>\n",
       "    <tr>\n",
       "      <th>1</th>\n",
       "      <td>2021-07-01T01</td>\n",
       "      <td>373</td>\n",
       "    </tr>\n",
       "    <tr>\n",
       "      <th>2</th>\n",
       "      <td>2021-07-01T02</td>\n",
       "      <td>370</td>\n",
       "    </tr>\n",
       "  </tbody>\n",
       "</table>\n",
       "</div>"
      ],
      "text/plain": [
       "          period  value\n",
       "0  2021-07-01T00    366\n",
       "1  2021-07-01T01    373\n",
       "2  2021-07-01T02    370"
      ]
     },
     "execution_count": 79,
     "metadata": {},
     "output_type": "execute_result"
    }
   ],
   "source": [
    "df_oth = df_oth[['period', 'value']]\n",
    "df_oth.head(3)"
   ]
  },
  {
   "cell_type": "code",
   "execution_count": 80,
   "metadata": {},
   "outputs": [],
   "source": [
    "df_oth.to_csv('../data/df_oth.csv')"
   ]
  },
  {
   "cell_type": "markdown",
   "metadata": {},
   "source": [
    "## Demand"
   ]
  },
  {
   "cell_type": "code",
   "execution_count": 38,
   "metadata": {},
   "outputs": [],
   "source": [
    "params_dem = {\n",
    "    'api_key': api_key,\n",
    "    \"frequency\": \"hourly\", # pulling data in hourly.\n",
    "    \"data[]\": \"value\", # amount of energy produced or consumed?\n",
    "    \"facets[type][]\":\"D\", # energy source (solar)\n",
    "    \"facets[respondent][]\": \"SOCO\", # recording location of data (Southern Company)\n",
    "    \"start\": \"2021-07-01\", # Time frame to pull data (start and end date)\n",
    "    \"end\": \"2022-07-29\",\n",
    "    \"offset\": 0\n",
    "}"
   ]
  },
  {
   "cell_type": "code",
   "execution_count": 65,
   "metadata": {},
   "outputs": [],
   "source": [
    "dfs_dem = []\n",
    "for off in range(0, 15000, 5000):\n",
    "    \n",
    "    params_dem[\"offset\"] = off\n",
    "    \n",
    "    resp_dem = requests.get(\"https://api.eia.gov/v2/electricity/rto/region-data/data/\", params=params_dem)\n",
    "    \n",
    "    data_dem = resp_dem.json()\n",
    "    \n",
    "    df_dem = pd.DataFrame(data_dem['response']['data'])\n",
    "    \n",
    "    dfs_dem.append(df_dem)"
   ]
  },
  {
   "cell_type": "code",
   "execution_count": 81,
   "metadata": {},
   "outputs": [
    {
     "data": {
      "text/html": [
       "<div>\n",
       "<style scoped>\n",
       "    .dataframe tbody tr th:only-of-type {\n",
       "        vertical-align: middle;\n",
       "    }\n",
       "\n",
       "    .dataframe tbody tr th {\n",
       "        vertical-align: top;\n",
       "    }\n",
       "\n",
       "    .dataframe thead th {\n",
       "        text-align: right;\n",
       "    }\n",
       "</style>\n",
       "<table border=\"1\" class=\"dataframe\">\n",
       "  <thead>\n",
       "    <tr style=\"text-align: right;\">\n",
       "      <th></th>\n",
       "      <th>period</th>\n",
       "      <th>respondent</th>\n",
       "      <th>respondent-name</th>\n",
       "      <th>type</th>\n",
       "      <th>type-name</th>\n",
       "      <th>value</th>\n",
       "      <th>value-units</th>\n",
       "    </tr>\n",
       "  </thead>\n",
       "  <tbody>\n",
       "    <tr>\n",
       "      <th>0</th>\n",
       "      <td>2021-07-01T00</td>\n",
       "      <td>SOCO</td>\n",
       "      <td>Southern Company Services, Inc. - Trans</td>\n",
       "      <td>D</td>\n",
       "      <td>Demand</td>\n",
       "      <td>36125</td>\n",
       "      <td>megawatthours</td>\n",
       "    </tr>\n",
       "    <tr>\n",
       "      <th>1</th>\n",
       "      <td>2021-07-01T01</td>\n",
       "      <td>SOCO</td>\n",
       "      <td>Southern Company Services, Inc. - Trans</td>\n",
       "      <td>D</td>\n",
       "      <td>Demand</td>\n",
       "      <td>34645</td>\n",
       "      <td>megawatthours</td>\n",
       "    </tr>\n",
       "    <tr>\n",
       "      <th>2</th>\n",
       "      <td>2021-07-01T02</td>\n",
       "      <td>SOCO</td>\n",
       "      <td>Southern Company Services, Inc. - Trans</td>\n",
       "      <td>D</td>\n",
       "      <td>Demand</td>\n",
       "      <td>33434</td>\n",
       "      <td>megawatthours</td>\n",
       "    </tr>\n",
       "    <tr>\n",
       "      <th>3</th>\n",
       "      <td>2021-07-01T03</td>\n",
       "      <td>SOCO</td>\n",
       "      <td>Southern Company Services, Inc. - Trans</td>\n",
       "      <td>D</td>\n",
       "      <td>Demand</td>\n",
       "      <td>31369</td>\n",
       "      <td>megawatthours</td>\n",
       "    </tr>\n",
       "    <tr>\n",
       "      <th>4</th>\n",
       "      <td>2021-07-01T04</td>\n",
       "      <td>SOCO</td>\n",
       "      <td>Southern Company Services, Inc. - Trans</td>\n",
       "      <td>D</td>\n",
       "      <td>Demand</td>\n",
       "      <td>29049</td>\n",
       "      <td>megawatthours</td>\n",
       "    </tr>\n",
       "  </tbody>\n",
       "</table>\n",
       "</div>"
      ],
      "text/plain": [
       "          period respondent                          respondent-name type  \\\n",
       "0  2021-07-01T00       SOCO  Southern Company Services, Inc. - Trans    D   \n",
       "1  2021-07-01T01       SOCO  Southern Company Services, Inc. - Trans    D   \n",
       "2  2021-07-01T02       SOCO  Southern Company Services, Inc. - Trans    D   \n",
       "3  2021-07-01T03       SOCO  Southern Company Services, Inc. - Trans    D   \n",
       "4  2021-07-01T04       SOCO  Southern Company Services, Inc. - Trans    D   \n",
       "\n",
       "  type-name  value    value-units  \n",
       "0    Demand  36125  megawatthours  \n",
       "1    Demand  34645  megawatthours  \n",
       "2    Demand  33434  megawatthours  \n",
       "3    Demand  31369  megawatthours  \n",
       "4    Demand  29049  megawatthours  "
      ]
     },
     "execution_count": 81,
     "metadata": {},
     "output_type": "execute_result"
    }
   ],
   "source": [
    "df_dem = pd.concat(dfs_dem)\n",
    "df_dem.head()"
   ]
  },
  {
   "cell_type": "code",
   "execution_count": 82,
   "metadata": {},
   "outputs": [
    {
     "data": {
      "text/html": [
       "<div>\n",
       "<style scoped>\n",
       "    .dataframe tbody tr th:only-of-type {\n",
       "        vertical-align: middle;\n",
       "    }\n",
       "\n",
       "    .dataframe tbody tr th {\n",
       "        vertical-align: top;\n",
       "    }\n",
       "\n",
       "    .dataframe thead th {\n",
       "        text-align: right;\n",
       "    }\n",
       "</style>\n",
       "<table border=\"1\" class=\"dataframe\">\n",
       "  <thead>\n",
       "    <tr style=\"text-align: right;\">\n",
       "      <th></th>\n",
       "      <th>period</th>\n",
       "      <th>value</th>\n",
       "    </tr>\n",
       "  </thead>\n",
       "  <tbody>\n",
       "    <tr>\n",
       "      <th>0</th>\n",
       "      <td>2021-07-01T00</td>\n",
       "      <td>36125</td>\n",
       "    </tr>\n",
       "    <tr>\n",
       "      <th>1</th>\n",
       "      <td>2021-07-01T01</td>\n",
       "      <td>34645</td>\n",
       "    </tr>\n",
       "    <tr>\n",
       "      <th>2</th>\n",
       "      <td>2021-07-01T02</td>\n",
       "      <td>33434</td>\n",
       "    </tr>\n",
       "  </tbody>\n",
       "</table>\n",
       "</div>"
      ],
      "text/plain": [
       "          period  value\n",
       "0  2021-07-01T00  36125\n",
       "1  2021-07-01T01  34645\n",
       "2  2021-07-01T02  33434"
      ]
     },
     "execution_count": 82,
     "metadata": {},
     "output_type": "execute_result"
    }
   ],
   "source": [
    "df_dem = df_dem[['period', 'value']]\n",
    "df_dem.head(3)"
   ]
  },
  {
   "cell_type": "code",
   "execution_count": 83,
   "metadata": {},
   "outputs": [],
   "source": [
    "df_dem.to_csv('../data/df_dem.csv')"
   ]
  }
 ],
 "metadata": {
  "kernelspec": {
   "display_name": "Python (time)",
   "language": "python",
   "name": "time"
  },
  "language_info": {
   "codemirror_mode": {
    "name": "ipython",
    "version": 3
   },
   "file_extension": ".py",
   "mimetype": "text/x-python",
   "name": "python",
   "nbconvert_exporter": "python",
   "pygments_lexer": "ipython3",
   "version": "3.8.13"
  }
 },
 "nbformat": 4,
 "nbformat_minor": 4
}
