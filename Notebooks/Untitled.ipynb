{
 "cells": [
  {
   "cell_type": "markdown",
   "metadata": {},
   "source": [
    "# Solar Power"
   ]
  },
  {
   "cell_type": "markdown",
   "metadata": {},
   "source": [
    "## Business Understanding"
   ]
  },
  {
   "cell_type": "markdown",
   "metadata": {},
   "source": [
    "### Stakeholder:\n",
    "- \n",
    "-\n",
    "-"
   ]
  },
  {
   "cell_type": "markdown",
   "metadata": {},
   "source": [
    "### True Business Problem:\n",
    "With a recent push for cleaner renewable energy (company name) is seeing an increase in solar panel request. (company name) is looking the potential of solar power and how it can meet the demands of the current power consumption. "
   ]
  },
  {
   "cell_type": "markdown",
   "metadata": {},
   "source": [
    "# Data Understanding"
   ]
  },
  {
   "cell_type": "code",
   "execution_count": 1,
   "metadata": {},
   "outputs": [],
   "source": [
    "# imports\n",
    "import pandas as pd\n",
    "import numpy as np\n",
    "\n",
    "from datetime import datetime as dt\n",
    "import requests \n",
    "from secret import keys\n",
    "\n",
    "import matplotlib\n",
    "import matplotlib.pyplot as plt\n",
    "import seaborn as sns"
   ]
  },
  {
   "cell_type": "code",
   "execution_count": 2,
   "metadata": {},
   "outputs": [],
   "source": [
    "api_key = keys.API_KEY\n",
    "# pulling in the API key from the website"
   ]
  },
  {
   "cell_type": "markdown",
   "metadata": {},
   "source": [
    "### Params \n",
    "- Below I will set the parameters and pull in data from three different time frames until I get a reasonable amount of data"
   ]
  },
  {
   "cell_type": "code",
   "execution_count": 3,
   "metadata": {},
   "outputs": [],
   "source": [
    "base_url = 'https://api.eia.gov/v2/electricity/rto/fuel-type-data/data'"
   ]
  },
  {
   "cell_type": "code",
   "execution_count": 43,
   "metadata": {},
   "outputs": [],
   "source": [
    "params = {\n",
    "    'api_key': api_key,\n",
    "    \"frequency\": \"hourly\", # pulling data in hourly.\n",
    "    \"data[]\": \"value\", # amount of energy produced or consumed?\n",
    "    \"facets[fueltype][]\":[\"SUN\", \"WND\", \"NG\", \"OIL\"], # energy source (solar)\n",
    "    \"facets[respondent][]\": \"SOCO\", # recording location of data (Southern Company)\n",
    "    \"start\": \"2022-07-01\", # Time frame to pull data (start and end date)\n",
    "    \"end\": \"2022-07-29\"\n",
    "}\n",
    "\n",
    "# the exact same parameters will be used for future data acquisitions. \n",
    "            ## The time frame will be the only change within the code. "
   ]
  },
  {
   "cell_type": "code",
   "execution_count": 44,
   "metadata": {},
   "outputs": [],
   "source": [
    "resp = requests.get(base_url, params = params)"
   ]
  },
  {
   "cell_type": "code",
   "execution_count": 45,
   "metadata": {},
   "outputs": [
    {
     "data": {
      "text/plain": [
       "200"
      ]
     },
     "execution_count": 45,
     "metadata": {},
     "output_type": "execute_result"
    }
   ],
   "source": [
    "resp.status_code\n",
    "# receiving a 200 means a successful response from the `base_url`"
   ]
  },
  {
   "cell_type": "code",
   "execution_count": 46,
   "metadata": {
    "scrolled": false
   },
   "outputs": [],
   "source": [
    "data = resp.json()\n"
   ]
  },
  {
   "cell_type": "code",
   "execution_count": 47,
   "metadata": {},
   "outputs": [
    {
     "data": {
      "text/plain": [
       "dict_keys(['query execution', 'count query execution', 'total', 'dateFormat', 'frequency', 'data', 'description'])"
      ]
     },
     "execution_count": 47,
     "metadata": {},
     "output_type": "execute_result"
    }
   ],
   "source": [
    "data['response'].keys()"
   ]
  },
  {
   "cell_type": "code",
   "execution_count": 48,
   "metadata": {
    "scrolled": false
   },
   "outputs": [
    {
     "data": {
      "text/html": [
       "<div>\n",
       "<style scoped>\n",
       "    .dataframe tbody tr th:only-of-type {\n",
       "        vertical-align: middle;\n",
       "    }\n",
       "\n",
       "    .dataframe tbody tr th {\n",
       "        vertical-align: top;\n",
       "    }\n",
       "\n",
       "    .dataframe thead th {\n",
       "        text-align: right;\n",
       "    }\n",
       "</style>\n",
       "<table border=\"1\" class=\"dataframe\">\n",
       "  <thead>\n",
       "    <tr style=\"text-align: right;\">\n",
       "      <th></th>\n",
       "      <th>period</th>\n",
       "      <th>respondent</th>\n",
       "      <th>respondent-name</th>\n",
       "      <th>fueltype</th>\n",
       "      <th>type-name</th>\n",
       "      <th>value</th>\n",
       "      <th>value-units</th>\n",
       "    </tr>\n",
       "  </thead>\n",
       "  <tbody>\n",
       "    <tr>\n",
       "      <th>0</th>\n",
       "      <td>2022-07-01T00</td>\n",
       "      <td>SOCO</td>\n",
       "      <td>Southern Company Services, Inc. - Trans</td>\n",
       "      <td>WND</td>\n",
       "      <td>Wind</td>\n",
       "      <td>0</td>\n",
       "      <td>megawatthours</td>\n",
       "    </tr>\n",
       "    <tr>\n",
       "      <th>1</th>\n",
       "      <td>2022-07-01T01</td>\n",
       "      <td>SOCO</td>\n",
       "      <td>Southern Company Services, Inc. - Trans</td>\n",
       "      <td>WND</td>\n",
       "      <td>Wind</td>\n",
       "      <td>0</td>\n",
       "      <td>megawatthours</td>\n",
       "    </tr>\n",
       "    <tr>\n",
       "      <th>2</th>\n",
       "      <td>2022-07-01T02</td>\n",
       "      <td>SOCO</td>\n",
       "      <td>Southern Company Services, Inc. - Trans</td>\n",
       "      <td>WND</td>\n",
       "      <td>Wind</td>\n",
       "      <td>0</td>\n",
       "      <td>megawatthours</td>\n",
       "    </tr>\n",
       "    <tr>\n",
       "      <th>3</th>\n",
       "      <td>2022-07-01T03</td>\n",
       "      <td>SOCO</td>\n",
       "      <td>Southern Company Services, Inc. - Trans</td>\n",
       "      <td>WND</td>\n",
       "      <td>Wind</td>\n",
       "      <td>0</td>\n",
       "      <td>megawatthours</td>\n",
       "    </tr>\n",
       "    <tr>\n",
       "      <th>4</th>\n",
       "      <td>2022-07-01T04</td>\n",
       "      <td>SOCO</td>\n",
       "      <td>Southern Company Services, Inc. - Trans</td>\n",
       "      <td>WND</td>\n",
       "      <td>Wind</td>\n",
       "      <td>0</td>\n",
       "      <td>megawatthours</td>\n",
       "    </tr>\n",
       "    <tr>\n",
       "      <th>...</th>\n",
       "      <td>...</td>\n",
       "      <td>...</td>\n",
       "      <td>...</td>\n",
       "      <td>...</td>\n",
       "      <td>...</td>\n",
       "      <td>...</td>\n",
       "      <td>...</td>\n",
       "    </tr>\n",
       "    <tr>\n",
       "      <th>2683</th>\n",
       "      <td>2022-07-28T19</td>\n",
       "      <td>SOCO</td>\n",
       "      <td>Southern Company Services, Inc. - Trans</td>\n",
       "      <td>SUN</td>\n",
       "      <td>Solar</td>\n",
       "      <td>1099</td>\n",
       "      <td>megawatthours</td>\n",
       "    </tr>\n",
       "    <tr>\n",
       "      <th>2684</th>\n",
       "      <td>2022-07-28T20</td>\n",
       "      <td>SOCO</td>\n",
       "      <td>Southern Company Services, Inc. - Trans</td>\n",
       "      <td>SUN</td>\n",
       "      <td>Solar</td>\n",
       "      <td>1006</td>\n",
       "      <td>megawatthours</td>\n",
       "    </tr>\n",
       "    <tr>\n",
       "      <th>2685</th>\n",
       "      <td>2022-07-28T21</td>\n",
       "      <td>SOCO</td>\n",
       "      <td>Southern Company Services, Inc. - Trans</td>\n",
       "      <td>SUN</td>\n",
       "      <td>Solar</td>\n",
       "      <td>798</td>\n",
       "      <td>megawatthours</td>\n",
       "    </tr>\n",
       "    <tr>\n",
       "      <th>2686</th>\n",
       "      <td>2022-07-28T22</td>\n",
       "      <td>SOCO</td>\n",
       "      <td>Southern Company Services, Inc. - Trans</td>\n",
       "      <td>SUN</td>\n",
       "      <td>Solar</td>\n",
       "      <td>765</td>\n",
       "      <td>megawatthours</td>\n",
       "    </tr>\n",
       "    <tr>\n",
       "      <th>2687</th>\n",
       "      <td>2022-07-28T23</td>\n",
       "      <td>SOCO</td>\n",
       "      <td>Southern Company Services, Inc. - Trans</td>\n",
       "      <td>SUN</td>\n",
       "      <td>Solar</td>\n",
       "      <td>484</td>\n",
       "      <td>megawatthours</td>\n",
       "    </tr>\n",
       "  </tbody>\n",
       "</table>\n",
       "<p>2688 rows × 7 columns</p>\n",
       "</div>"
      ],
      "text/plain": [
       "             period respondent                          respondent-name  \\\n",
       "0     2022-07-01T00       SOCO  Southern Company Services, Inc. - Trans   \n",
       "1     2022-07-01T01       SOCO  Southern Company Services, Inc. - Trans   \n",
       "2     2022-07-01T02       SOCO  Southern Company Services, Inc. - Trans   \n",
       "3     2022-07-01T03       SOCO  Southern Company Services, Inc. - Trans   \n",
       "4     2022-07-01T04       SOCO  Southern Company Services, Inc. - Trans   \n",
       "...             ...        ...                                      ...   \n",
       "2683  2022-07-28T19       SOCO  Southern Company Services, Inc. - Trans   \n",
       "2684  2022-07-28T20       SOCO  Southern Company Services, Inc. - Trans   \n",
       "2685  2022-07-28T21       SOCO  Southern Company Services, Inc. - Trans   \n",
       "2686  2022-07-28T22       SOCO  Southern Company Services, Inc. - Trans   \n",
       "2687  2022-07-28T23       SOCO  Southern Company Services, Inc. - Trans   \n",
       "\n",
       "     fueltype type-name  value    value-units  \n",
       "0         WND      Wind      0  megawatthours  \n",
       "1         WND      Wind      0  megawatthours  \n",
       "2         WND      Wind      0  megawatthours  \n",
       "3         WND      Wind      0  megawatthours  \n",
       "4         WND      Wind      0  megawatthours  \n",
       "...       ...       ...    ...            ...  \n",
       "2683      SUN     Solar   1099  megawatthours  \n",
       "2684      SUN     Solar   1006  megawatthours  \n",
       "2685      SUN     Solar    798  megawatthours  \n",
       "2686      SUN     Solar    765  megawatthours  \n",
       "2687      SUN     Solar    484  megawatthours  \n",
       "\n",
       "[2688 rows x 7 columns]"
      ]
     },
     "execution_count": 48,
     "metadata": {},
     "output_type": "execute_result"
    }
   ],
   "source": [
    "df_1 = pd.DataFrame(data['response']['data'])\n",
    "df_1"
   ]
  },
  {
   "cell_type": "code",
   "execution_count": 66,
   "metadata": {},
   "outputs": [],
   "source": [
    "params_2 = {\n",
    "    'api_key': api_key,\n",
    "    \"frequency\": \"hourly\",\n",
    "    \"data[]\": \"value\",\n",
    "    \"facets[fueltype][]\": [\"SUN\", \"WND\", \"NG\", \"OIL\"],\n",
    "    \"facets[respondent][]\": \"SOCO\",\n",
    "    \"start\": \"2021-07-01\",\n",
    "    \"end\": \"2021-12-31\"\n",
    "}"
   ]
  },
  {
   "cell_type": "code",
   "execution_count": 67,
   "metadata": {},
   "outputs": [],
   "source": [
    "resp_2 = requests.get(base_url, params = params_2)"
   ]
  },
  {
   "cell_type": "code",
   "execution_count": 68,
   "metadata": {},
   "outputs": [
    {
     "data": {
      "text/plain": [
       "200"
      ]
     },
     "execution_count": 68,
     "metadata": {},
     "output_type": "execute_result"
    }
   ],
   "source": [
    "resp_2.status_code"
   ]
  },
  {
   "cell_type": "code",
   "execution_count": 69,
   "metadata": {},
   "outputs": [],
   "source": [
    "data_2 = resp_2.json()"
   ]
  },
  {
   "cell_type": "code",
   "execution_count": 70,
   "metadata": {},
   "outputs": [
    {
     "data": {
      "text/html": [
       "<div>\n",
       "<style scoped>\n",
       "    .dataframe tbody tr th:only-of-type {\n",
       "        vertical-align: middle;\n",
       "    }\n",
       "\n",
       "    .dataframe tbody tr th {\n",
       "        vertical-align: top;\n",
       "    }\n",
       "\n",
       "    .dataframe thead th {\n",
       "        text-align: right;\n",
       "    }\n",
       "</style>\n",
       "<table border=\"1\" class=\"dataframe\">\n",
       "  <thead>\n",
       "    <tr style=\"text-align: right;\">\n",
       "      <th></th>\n",
       "      <th>period</th>\n",
       "      <th>respondent</th>\n",
       "      <th>respondent-name</th>\n",
       "      <th>fueltype</th>\n",
       "      <th>type-name</th>\n",
       "      <th>value</th>\n",
       "      <th>value-units</th>\n",
       "    </tr>\n",
       "  </thead>\n",
       "  <tbody>\n",
       "    <tr>\n",
       "      <th>0</th>\n",
       "      <td>2021-07-01T00</td>\n",
       "      <td>SOCO</td>\n",
       "      <td>Southern Company Services, Inc. - Trans</td>\n",
       "      <td>WND</td>\n",
       "      <td>Wind</td>\n",
       "      <td>0</td>\n",
       "      <td>megawatthours</td>\n",
       "    </tr>\n",
       "    <tr>\n",
       "      <th>1</th>\n",
       "      <td>2021-07-01T01</td>\n",
       "      <td>SOCO</td>\n",
       "      <td>Southern Company Services, Inc. - Trans</td>\n",
       "      <td>WND</td>\n",
       "      <td>Wind</td>\n",
       "      <td>0</td>\n",
       "      <td>megawatthours</td>\n",
       "    </tr>\n",
       "    <tr>\n",
       "      <th>2</th>\n",
       "      <td>2021-07-01T02</td>\n",
       "      <td>SOCO</td>\n",
       "      <td>Southern Company Services, Inc. - Trans</td>\n",
       "      <td>WND</td>\n",
       "      <td>Wind</td>\n",
       "      <td>0</td>\n",
       "      <td>megawatthours</td>\n",
       "    </tr>\n",
       "    <tr>\n",
       "      <th>3</th>\n",
       "      <td>2021-07-01T03</td>\n",
       "      <td>SOCO</td>\n",
       "      <td>Southern Company Services, Inc. - Trans</td>\n",
       "      <td>WND</td>\n",
       "      <td>Wind</td>\n",
       "      <td>0</td>\n",
       "      <td>megawatthours</td>\n",
       "    </tr>\n",
       "    <tr>\n",
       "      <th>4</th>\n",
       "      <td>2021-07-01T04</td>\n",
       "      <td>SOCO</td>\n",
       "      <td>Southern Company Services, Inc. - Trans</td>\n",
       "      <td>WND</td>\n",
       "      <td>Wind</td>\n",
       "      <td>0</td>\n",
       "      <td>megawatthours</td>\n",
       "    </tr>\n",
       "    <tr>\n",
       "      <th>...</th>\n",
       "      <td>...</td>\n",
       "      <td>...</td>\n",
       "      <td>...</td>\n",
       "      <td>...</td>\n",
       "      <td>...</td>\n",
       "      <td>...</td>\n",
       "      <td>...</td>\n",
       "    </tr>\n",
       "    <tr>\n",
       "      <th>4995</th>\n",
       "      <td>2021-07-26T03</td>\n",
       "      <td>SOCO</td>\n",
       "      <td>Southern Company Services, Inc. - Trans</td>\n",
       "      <td>NG</td>\n",
       "      <td>Natural gas</td>\n",
       "      <td>17422</td>\n",
       "      <td>megawatthours</td>\n",
       "    </tr>\n",
       "    <tr>\n",
       "      <th>4996</th>\n",
       "      <td>2021-07-26T04</td>\n",
       "      <td>SOCO</td>\n",
       "      <td>Southern Company Services, Inc. - Trans</td>\n",
       "      <td>NG</td>\n",
       "      <td>Natural gas</td>\n",
       "      <td>15280</td>\n",
       "      <td>megawatthours</td>\n",
       "    </tr>\n",
       "    <tr>\n",
       "      <th>4997</th>\n",
       "      <td>2021-07-26T05</td>\n",
       "      <td>SOCO</td>\n",
       "      <td>Southern Company Services, Inc. - Trans</td>\n",
       "      <td>NG</td>\n",
       "      <td>Natural gas</td>\n",
       "      <td>13216</td>\n",
       "      <td>megawatthours</td>\n",
       "    </tr>\n",
       "    <tr>\n",
       "      <th>4998</th>\n",
       "      <td>2021-07-26T06</td>\n",
       "      <td>SOCO</td>\n",
       "      <td>Southern Company Services, Inc. - Trans</td>\n",
       "      <td>NG</td>\n",
       "      <td>Natural gas</td>\n",
       "      <td>12665</td>\n",
       "      <td>megawatthours</td>\n",
       "    </tr>\n",
       "    <tr>\n",
       "      <th>4999</th>\n",
       "      <td>2021-07-26T07</td>\n",
       "      <td>SOCO</td>\n",
       "      <td>Southern Company Services, Inc. - Trans</td>\n",
       "      <td>NG</td>\n",
       "      <td>Natural gas</td>\n",
       "      <td>12613</td>\n",
       "      <td>megawatthours</td>\n",
       "    </tr>\n",
       "  </tbody>\n",
       "</table>\n",
       "<p>5000 rows × 7 columns</p>\n",
       "</div>"
      ],
      "text/plain": [
       "             period respondent                          respondent-name  \\\n",
       "0     2021-07-01T00       SOCO  Southern Company Services, Inc. - Trans   \n",
       "1     2021-07-01T01       SOCO  Southern Company Services, Inc. - Trans   \n",
       "2     2021-07-01T02       SOCO  Southern Company Services, Inc. - Trans   \n",
       "3     2021-07-01T03       SOCO  Southern Company Services, Inc. - Trans   \n",
       "4     2021-07-01T04       SOCO  Southern Company Services, Inc. - Trans   \n",
       "...             ...        ...                                      ...   \n",
       "4995  2021-07-26T03       SOCO  Southern Company Services, Inc. - Trans   \n",
       "4996  2021-07-26T04       SOCO  Southern Company Services, Inc. - Trans   \n",
       "4997  2021-07-26T05       SOCO  Southern Company Services, Inc. - Trans   \n",
       "4998  2021-07-26T06       SOCO  Southern Company Services, Inc. - Trans   \n",
       "4999  2021-07-26T07       SOCO  Southern Company Services, Inc. - Trans   \n",
       "\n",
       "     fueltype    type-name  value    value-units  \n",
       "0         WND         Wind      0  megawatthours  \n",
       "1         WND         Wind      0  megawatthours  \n",
       "2         WND         Wind      0  megawatthours  \n",
       "3         WND         Wind      0  megawatthours  \n",
       "4         WND         Wind      0  megawatthours  \n",
       "...       ...          ...    ...            ...  \n",
       "4995       NG  Natural gas  17422  megawatthours  \n",
       "4996       NG  Natural gas  15280  megawatthours  \n",
       "4997       NG  Natural gas  13216  megawatthours  \n",
       "4998       NG  Natural gas  12665  megawatthours  \n",
       "4999       NG  Natural gas  12613  megawatthours  \n",
       "\n",
       "[5000 rows x 7 columns]"
      ]
     },
     "execution_count": 70,
     "metadata": {},
     "output_type": "execute_result"
    }
   ],
   "source": [
    "df_2 = pd.DataFrame(data_2['response']['data'])\n",
    "df_2"
   ]
  },
  {
   "cell_type": "code",
   "execution_count": 55,
   "metadata": {},
   "outputs": [],
   "source": [
    "params_3 = {\n",
    "    'api_key': api_key,\n",
    "    \"frequency\": \"hourly\",\n",
    "    \"data[]\": \"value\",\n",
    "    \"facets[fueltype][]\": [\"SUN\", \"WND\", \"NG\", \"OIL\"],\n",
    "    \"facets[respondent][]\": \"SOCO\",\n",
    "    \"start\": \"2022-01-01\",\n",
    "    \"end\": \"2022-06-30\"\n",
    "}"
   ]
  },
  {
   "cell_type": "code",
   "execution_count": 56,
   "metadata": {},
   "outputs": [],
   "source": [
    "resp_3 = requests.get(base_url, params = params_3)"
   ]
  },
  {
   "cell_type": "code",
   "execution_count": 57,
   "metadata": {},
   "outputs": [
    {
     "data": {
      "text/plain": [
       "200"
      ]
     },
     "execution_count": 57,
     "metadata": {},
     "output_type": "execute_result"
    }
   ],
   "source": [
    "resp_3.status_code"
   ]
  },
  {
   "cell_type": "code",
   "execution_count": 58,
   "metadata": {},
   "outputs": [],
   "source": [
    "data_3 = resp_3.json()"
   ]
  },
  {
   "cell_type": "code",
   "execution_count": 59,
   "metadata": {},
   "outputs": [
    {
     "data": {
      "text/html": [
       "<div>\n",
       "<style scoped>\n",
       "    .dataframe tbody tr th:only-of-type {\n",
       "        vertical-align: middle;\n",
       "    }\n",
       "\n",
       "    .dataframe tbody tr th {\n",
       "        vertical-align: top;\n",
       "    }\n",
       "\n",
       "    .dataframe thead th {\n",
       "        text-align: right;\n",
       "    }\n",
       "</style>\n",
       "<table border=\"1\" class=\"dataframe\">\n",
       "  <thead>\n",
       "    <tr style=\"text-align: right;\">\n",
       "      <th></th>\n",
       "      <th>period</th>\n",
       "      <th>respondent</th>\n",
       "      <th>respondent-name</th>\n",
       "      <th>fueltype</th>\n",
       "      <th>type-name</th>\n",
       "      <th>value</th>\n",
       "      <th>value-units</th>\n",
       "    </tr>\n",
       "  </thead>\n",
       "  <tbody>\n",
       "    <tr>\n",
       "      <th>0</th>\n",
       "      <td>2022-01-01T00</td>\n",
       "      <td>SOCO</td>\n",
       "      <td>Southern Company Services, Inc. - Trans</td>\n",
       "      <td>WND</td>\n",
       "      <td>Wind</td>\n",
       "      <td>0</td>\n",
       "      <td>megawatthours</td>\n",
       "    </tr>\n",
       "    <tr>\n",
       "      <th>1</th>\n",
       "      <td>2022-01-01T01</td>\n",
       "      <td>SOCO</td>\n",
       "      <td>Southern Company Services, Inc. - Trans</td>\n",
       "      <td>WND</td>\n",
       "      <td>Wind</td>\n",
       "      <td>0</td>\n",
       "      <td>megawatthours</td>\n",
       "    </tr>\n",
       "    <tr>\n",
       "      <th>2</th>\n",
       "      <td>2022-01-01T02</td>\n",
       "      <td>SOCO</td>\n",
       "      <td>Southern Company Services, Inc. - Trans</td>\n",
       "      <td>WND</td>\n",
       "      <td>Wind</td>\n",
       "      <td>0</td>\n",
       "      <td>megawatthours</td>\n",
       "    </tr>\n",
       "    <tr>\n",
       "      <th>3</th>\n",
       "      <td>2022-01-01T03</td>\n",
       "      <td>SOCO</td>\n",
       "      <td>Southern Company Services, Inc. - Trans</td>\n",
       "      <td>WND</td>\n",
       "      <td>Wind</td>\n",
       "      <td>0</td>\n",
       "      <td>megawatthours</td>\n",
       "    </tr>\n",
       "    <tr>\n",
       "      <th>4</th>\n",
       "      <td>2022-01-01T04</td>\n",
       "      <td>SOCO</td>\n",
       "      <td>Southern Company Services, Inc. - Trans</td>\n",
       "      <td>WND</td>\n",
       "      <td>Wind</td>\n",
       "      <td>0</td>\n",
       "      <td>megawatthours</td>\n",
       "    </tr>\n",
       "    <tr>\n",
       "      <th>...</th>\n",
       "      <td>...</td>\n",
       "      <td>...</td>\n",
       "      <td>...</td>\n",
       "      <td>...</td>\n",
       "      <td>...</td>\n",
       "      <td>...</td>\n",
       "      <td>...</td>\n",
       "    </tr>\n",
       "    <tr>\n",
       "      <th>4995</th>\n",
       "      <td>2022-01-29T03</td>\n",
       "      <td>SOCO</td>\n",
       "      <td>Southern Company Services, Inc. - Trans</td>\n",
       "      <td>NG</td>\n",
       "      <td>Natural gas</td>\n",
       "      <td>17075</td>\n",
       "      <td>megawatthours</td>\n",
       "    </tr>\n",
       "    <tr>\n",
       "      <th>4996</th>\n",
       "      <td>2022-01-29T04</td>\n",
       "      <td>SOCO</td>\n",
       "      <td>Southern Company Services, Inc. - Trans</td>\n",
       "      <td>NG</td>\n",
       "      <td>Natural gas</td>\n",
       "      <td>17120</td>\n",
       "      <td>megawatthours</td>\n",
       "    </tr>\n",
       "    <tr>\n",
       "      <th>4997</th>\n",
       "      <td>2022-01-29T05</td>\n",
       "      <td>SOCO</td>\n",
       "      <td>Southern Company Services, Inc. - Trans</td>\n",
       "      <td>NG</td>\n",
       "      <td>Natural gas</td>\n",
       "      <td>16740</td>\n",
       "      <td>megawatthours</td>\n",
       "    </tr>\n",
       "    <tr>\n",
       "      <th>4998</th>\n",
       "      <td>2022-01-29T06</td>\n",
       "      <td>SOCO</td>\n",
       "      <td>Southern Company Services, Inc. - Trans</td>\n",
       "      <td>NG</td>\n",
       "      <td>Natural gas</td>\n",
       "      <td>16093</td>\n",
       "      <td>megawatthours</td>\n",
       "    </tr>\n",
       "    <tr>\n",
       "      <th>4999</th>\n",
       "      <td>2022-01-29T07</td>\n",
       "      <td>SOCO</td>\n",
       "      <td>Southern Company Services, Inc. - Trans</td>\n",
       "      <td>NG</td>\n",
       "      <td>Natural gas</td>\n",
       "      <td>16345</td>\n",
       "      <td>megawatthours</td>\n",
       "    </tr>\n",
       "  </tbody>\n",
       "</table>\n",
       "<p>5000 rows × 7 columns</p>\n",
       "</div>"
      ],
      "text/plain": [
       "             period respondent                          respondent-name  \\\n",
       "0     2022-01-01T00       SOCO  Southern Company Services, Inc. - Trans   \n",
       "1     2022-01-01T01       SOCO  Southern Company Services, Inc. - Trans   \n",
       "2     2022-01-01T02       SOCO  Southern Company Services, Inc. - Trans   \n",
       "3     2022-01-01T03       SOCO  Southern Company Services, Inc. - Trans   \n",
       "4     2022-01-01T04       SOCO  Southern Company Services, Inc. - Trans   \n",
       "...             ...        ...                                      ...   \n",
       "4995  2022-01-29T03       SOCO  Southern Company Services, Inc. - Trans   \n",
       "4996  2022-01-29T04       SOCO  Southern Company Services, Inc. - Trans   \n",
       "4997  2022-01-29T05       SOCO  Southern Company Services, Inc. - Trans   \n",
       "4998  2022-01-29T06       SOCO  Southern Company Services, Inc. - Trans   \n",
       "4999  2022-01-29T07       SOCO  Southern Company Services, Inc. - Trans   \n",
       "\n",
       "     fueltype    type-name  value    value-units  \n",
       "0         WND         Wind      0  megawatthours  \n",
       "1         WND         Wind      0  megawatthours  \n",
       "2         WND         Wind      0  megawatthours  \n",
       "3         WND         Wind      0  megawatthours  \n",
       "4         WND         Wind      0  megawatthours  \n",
       "...       ...          ...    ...            ...  \n",
       "4995       NG  Natural gas  17075  megawatthours  \n",
       "4996       NG  Natural gas  17120  megawatthours  \n",
       "4997       NG  Natural gas  16740  megawatthours  \n",
       "4998       NG  Natural gas  16093  megawatthours  \n",
       "4999       NG  Natural gas  16345  megawatthours  \n",
       "\n",
       "[5000 rows x 7 columns]"
      ]
     },
     "execution_count": 59,
     "metadata": {},
     "output_type": "execute_result"
    }
   ],
   "source": [
    "df_3 = pd.DataFrame(data_3['response']['data'])\n",
    "df_3"
   ]
  },
  {
   "cell_type": "markdown",
   "metadata": {},
   "source": [
    "### Creating the dataframe\n",
    "- I will take the three groups of data from of above and pull them into one dataframe using the `concatenate` method."
   ]
  },
  {
   "cell_type": "code",
   "execution_count": 71,
   "metadata": {},
   "outputs": [],
   "source": [
    "frames = [df_1, df_2, df_3]"
   ]
  },
  {
   "cell_type": "code",
   "execution_count": 72,
   "metadata": {},
   "outputs": [],
   "source": [
    "result = pd.concat(frames)"
   ]
  },
  {
   "cell_type": "code",
   "execution_count": 73,
   "metadata": {},
   "outputs": [
    {
     "data": {
      "text/html": [
       "<div>\n",
       "<style scoped>\n",
       "    .dataframe tbody tr th:only-of-type {\n",
       "        vertical-align: middle;\n",
       "    }\n",
       "\n",
       "    .dataframe tbody tr th {\n",
       "        vertical-align: top;\n",
       "    }\n",
       "\n",
       "    .dataframe thead th {\n",
       "        text-align: right;\n",
       "    }\n",
       "</style>\n",
       "<table border=\"1\" class=\"dataframe\">\n",
       "  <thead>\n",
       "    <tr style=\"text-align: right;\">\n",
       "      <th></th>\n",
       "      <th>period</th>\n",
       "      <th>respondent</th>\n",
       "      <th>respondent-name</th>\n",
       "      <th>fueltype</th>\n",
       "      <th>type-name</th>\n",
       "      <th>value</th>\n",
       "      <th>value-units</th>\n",
       "    </tr>\n",
       "  </thead>\n",
       "  <tbody>\n",
       "    <tr>\n",
       "      <th>0</th>\n",
       "      <td>2022-07-01T00</td>\n",
       "      <td>SOCO</td>\n",
       "      <td>Southern Company Services, Inc. - Trans</td>\n",
       "      <td>WND</td>\n",
       "      <td>Wind</td>\n",
       "      <td>0</td>\n",
       "      <td>megawatthours</td>\n",
       "    </tr>\n",
       "    <tr>\n",
       "      <th>1</th>\n",
       "      <td>2022-07-01T01</td>\n",
       "      <td>SOCO</td>\n",
       "      <td>Southern Company Services, Inc. - Trans</td>\n",
       "      <td>WND</td>\n",
       "      <td>Wind</td>\n",
       "      <td>0</td>\n",
       "      <td>megawatthours</td>\n",
       "    </tr>\n",
       "    <tr>\n",
       "      <th>2</th>\n",
       "      <td>2022-07-01T02</td>\n",
       "      <td>SOCO</td>\n",
       "      <td>Southern Company Services, Inc. - Trans</td>\n",
       "      <td>WND</td>\n",
       "      <td>Wind</td>\n",
       "      <td>0</td>\n",
       "      <td>megawatthours</td>\n",
       "    </tr>\n",
       "    <tr>\n",
       "      <th>3</th>\n",
       "      <td>2022-07-01T03</td>\n",
       "      <td>SOCO</td>\n",
       "      <td>Southern Company Services, Inc. - Trans</td>\n",
       "      <td>WND</td>\n",
       "      <td>Wind</td>\n",
       "      <td>0</td>\n",
       "      <td>megawatthours</td>\n",
       "    </tr>\n",
       "    <tr>\n",
       "      <th>4</th>\n",
       "      <td>2022-07-01T04</td>\n",
       "      <td>SOCO</td>\n",
       "      <td>Southern Company Services, Inc. - Trans</td>\n",
       "      <td>WND</td>\n",
       "      <td>Wind</td>\n",
       "      <td>0</td>\n",
       "      <td>megawatthours</td>\n",
       "    </tr>\n",
       "    <tr>\n",
       "      <th>...</th>\n",
       "      <td>...</td>\n",
       "      <td>...</td>\n",
       "      <td>...</td>\n",
       "      <td>...</td>\n",
       "      <td>...</td>\n",
       "      <td>...</td>\n",
       "      <td>...</td>\n",
       "    </tr>\n",
       "    <tr>\n",
       "      <th>4995</th>\n",
       "      <td>2022-01-29T03</td>\n",
       "      <td>SOCO</td>\n",
       "      <td>Southern Company Services, Inc. - Trans</td>\n",
       "      <td>NG</td>\n",
       "      <td>Natural gas</td>\n",
       "      <td>17075</td>\n",
       "      <td>megawatthours</td>\n",
       "    </tr>\n",
       "    <tr>\n",
       "      <th>4996</th>\n",
       "      <td>2022-01-29T04</td>\n",
       "      <td>SOCO</td>\n",
       "      <td>Southern Company Services, Inc. - Trans</td>\n",
       "      <td>NG</td>\n",
       "      <td>Natural gas</td>\n",
       "      <td>17120</td>\n",
       "      <td>megawatthours</td>\n",
       "    </tr>\n",
       "    <tr>\n",
       "      <th>4997</th>\n",
       "      <td>2022-01-29T05</td>\n",
       "      <td>SOCO</td>\n",
       "      <td>Southern Company Services, Inc. - Trans</td>\n",
       "      <td>NG</td>\n",
       "      <td>Natural gas</td>\n",
       "      <td>16740</td>\n",
       "      <td>megawatthours</td>\n",
       "    </tr>\n",
       "    <tr>\n",
       "      <th>4998</th>\n",
       "      <td>2022-01-29T06</td>\n",
       "      <td>SOCO</td>\n",
       "      <td>Southern Company Services, Inc. - Trans</td>\n",
       "      <td>NG</td>\n",
       "      <td>Natural gas</td>\n",
       "      <td>16093</td>\n",
       "      <td>megawatthours</td>\n",
       "    </tr>\n",
       "    <tr>\n",
       "      <th>4999</th>\n",
       "      <td>2022-01-29T07</td>\n",
       "      <td>SOCO</td>\n",
       "      <td>Southern Company Services, Inc. - Trans</td>\n",
       "      <td>NG</td>\n",
       "      <td>Natural gas</td>\n",
       "      <td>16345</td>\n",
       "      <td>megawatthours</td>\n",
       "    </tr>\n",
       "  </tbody>\n",
       "</table>\n",
       "<p>12688 rows × 7 columns</p>\n",
       "</div>"
      ],
      "text/plain": [
       "             period respondent                          respondent-name  \\\n",
       "0     2022-07-01T00       SOCO  Southern Company Services, Inc. - Trans   \n",
       "1     2022-07-01T01       SOCO  Southern Company Services, Inc. - Trans   \n",
       "2     2022-07-01T02       SOCO  Southern Company Services, Inc. - Trans   \n",
       "3     2022-07-01T03       SOCO  Southern Company Services, Inc. - Trans   \n",
       "4     2022-07-01T04       SOCO  Southern Company Services, Inc. - Trans   \n",
       "...             ...        ...                                      ...   \n",
       "4995  2022-01-29T03       SOCO  Southern Company Services, Inc. - Trans   \n",
       "4996  2022-01-29T04       SOCO  Southern Company Services, Inc. - Trans   \n",
       "4997  2022-01-29T05       SOCO  Southern Company Services, Inc. - Trans   \n",
       "4998  2022-01-29T06       SOCO  Southern Company Services, Inc. - Trans   \n",
       "4999  2022-01-29T07       SOCO  Southern Company Services, Inc. - Trans   \n",
       "\n",
       "     fueltype    type-name  value    value-units  \n",
       "0         WND         Wind      0  megawatthours  \n",
       "1         WND         Wind      0  megawatthours  \n",
       "2         WND         Wind      0  megawatthours  \n",
       "3         WND         Wind      0  megawatthours  \n",
       "4         WND         Wind      0  megawatthours  \n",
       "...       ...          ...    ...            ...  \n",
       "4995       NG  Natural gas  17075  megawatthours  \n",
       "4996       NG  Natural gas  17120  megawatthours  \n",
       "4997       NG  Natural gas  16740  megawatthours  \n",
       "4998       NG  Natural gas  16093  megawatthours  \n",
       "4999       NG  Natural gas  16345  megawatthours  \n",
       "\n",
       "[12688 rows x 7 columns]"
      ]
     },
     "execution_count": 73,
     "metadata": {},
     "output_type": "execute_result"
    }
   ],
   "source": [
    "df = pd.concat(frames)\n",
    "df"
   ]
  },
  {
   "cell_type": "markdown",
   "metadata": {},
   "source": [
    "## Data Exploring and Cleaning"
   ]
  },
  {
   "cell_type": "code",
   "execution_count": 74,
   "metadata": {},
   "outputs": [
    {
     "name": "stdout",
     "output_type": "stream",
     "text": [
      "<class 'pandas.core.frame.DataFrame'>\n",
      "Int64Index: 12688 entries, 0 to 4999\n",
      "Data columns (total 7 columns):\n",
      " #   Column           Non-Null Count  Dtype \n",
      "---  ------           --------------  ----- \n",
      " 0   period           12688 non-null  object\n",
      " 1   respondent       12688 non-null  object\n",
      " 2   respondent-name  12688 non-null  object\n",
      " 3   fueltype         12688 non-null  object\n",
      " 4   type-name        12688 non-null  object\n",
      " 5   value            12688 non-null  int64 \n",
      " 6   value-units      12688 non-null  object\n",
      "dtypes: int64(1), object(6)\n",
      "memory usage: 793.0+ KB\n"
     ]
    }
   ],
   "source": [
    "df.info()"
   ]
  },
  {
   "cell_type": "code",
   "execution_count": 65,
   "metadata": {},
   "outputs": [
    {
     "data": {
      "text/plain": [
       "<bound method IndexOpsMixin.value_counts of 0       WND\n",
       "1       WND\n",
       "2       WND\n",
       "3       WND\n",
       "4       WND\n",
       "       ... \n",
       "4995     NG\n",
       "4996     NG\n",
       "4997     NG\n",
       "4998     NG\n",
       "4999     NG\n",
       "Name: fueltype, Length: 12688, dtype: object>"
      ]
     },
     "execution_count": 65,
     "metadata": {},
     "output_type": "execute_result"
    }
   ],
   "source": [
    "df['fueltype'].value_counts"
   ]
  },
  {
   "cell_type": "code",
   "execution_count": 75,
   "metadata": {},
   "outputs": [
    {
     "data": {
      "text/plain": [
       "'2022-07-28T23'"
      ]
     },
     "execution_count": 75,
     "metadata": {},
     "output_type": "execute_result"
    }
   ],
   "source": [
    "df['period'].max()"
   ]
  },
  {
   "cell_type": "code",
   "execution_count": 76,
   "metadata": {},
   "outputs": [
    {
     "data": {
      "text/plain": [
       "'2021-07-01T00'"
      ]
     },
     "execution_count": 76,
     "metadata": {},
     "output_type": "execute_result"
    }
   ],
   "source": [
    "df['period'].min()"
   ]
  },
  {
   "cell_type": "code",
   "execution_count": 78,
   "metadata": {},
   "outputs": [
    {
     "data": {
      "text/plain": [
       "array(['WND', 'NG', 'OIL', 'SUN'], dtype=object)"
      ]
     },
     "execution_count": 78,
     "metadata": {},
     "output_type": "execute_result"
    }
   ],
   "source": [
    "df['fueltype'].unique()"
   ]
  },
  {
   "cell_type": "code",
   "execution_count": 79,
   "metadata": {},
   "outputs": [
    {
     "data": {
      "text/plain": [
       "array(['Wind', 'Natural gas', 'Petroleum', 'Solar'], dtype=object)"
      ]
     },
     "execution_count": 79,
     "metadata": {},
     "output_type": "execute_result"
    }
   ],
   "source": [
    "df['type-name'].unique()"
   ]
  },
  {
   "cell_type": "code",
   "execution_count": 80,
   "metadata": {},
   "outputs": [
    {
     "data": {
      "text/plain": [
       "period             0\n",
       "respondent         0\n",
       "respondent-name    0\n",
       "fueltype           0\n",
       "type-name          0\n",
       "value              0\n",
       "value-units        0\n",
       "dtype: int64"
      ]
     },
     "execution_count": 80,
     "metadata": {},
     "output_type": "execute_result"
    }
   ],
   "source": [
    "df.isna().sum()"
   ]
  },
  {
   "cell_type": "code",
   "execution_count": 81,
   "metadata": {},
   "outputs": [],
   "source": [
    "df['period'] = pd.to_datetime(df['period'])\n",
    "# used the pandas to_datetime funtion switch the Dtype of the period column"
   ]
  },
  {
   "cell_type": "code",
   "execution_count": 82,
   "metadata": {},
   "outputs": [
    {
     "name": "stdout",
     "output_type": "stream",
     "text": [
      "<class 'pandas.core.frame.DataFrame'>\n",
      "Int64Index: 12688 entries, 0 to 4999\n",
      "Data columns (total 7 columns):\n",
      " #   Column           Non-Null Count  Dtype         \n",
      "---  ------           --------------  -----         \n",
      " 0   period           12688 non-null  datetime64[ns]\n",
      " 1   respondent       12688 non-null  object        \n",
      " 2   respondent-name  12688 non-null  object        \n",
      " 3   fueltype         12688 non-null  object        \n",
      " 4   type-name        12688 non-null  object        \n",
      " 5   value            12688 non-null  int64         \n",
      " 6   value-units      12688 non-null  object        \n",
      "dtypes: datetime64[ns](1), int64(1), object(5)\n",
      "memory usage: 793.0+ KB\n"
     ]
    }
   ],
   "source": [
    "df.info()"
   ]
  },
  {
   "cell_type": "code",
   "execution_count": 83,
   "metadata": {},
   "outputs": [
    {
     "data": {
      "text/html": [
       "<div>\n",
       "<style scoped>\n",
       "    .dataframe tbody tr th:only-of-type {\n",
       "        vertical-align: middle;\n",
       "    }\n",
       "\n",
       "    .dataframe tbody tr th {\n",
       "        vertical-align: top;\n",
       "    }\n",
       "\n",
       "    .dataframe thead th {\n",
       "        text-align: right;\n",
       "    }\n",
       "</style>\n",
       "<table border=\"1\" class=\"dataframe\">\n",
       "  <thead>\n",
       "    <tr style=\"text-align: right;\">\n",
       "      <th></th>\n",
       "      <th>respondent</th>\n",
       "      <th>respondent-name</th>\n",
       "      <th>fueltype</th>\n",
       "      <th>type-name</th>\n",
       "      <th>value</th>\n",
       "      <th>value-units</th>\n",
       "    </tr>\n",
       "    <tr>\n",
       "      <th>period</th>\n",
       "      <th></th>\n",
       "      <th></th>\n",
       "      <th></th>\n",
       "      <th></th>\n",
       "      <th></th>\n",
       "      <th></th>\n",
       "    </tr>\n",
       "  </thead>\n",
       "  <tbody>\n",
       "    <tr>\n",
       "      <th>2022-07-01 00:00:00</th>\n",
       "      <td>SOCO</td>\n",
       "      <td>Southern Company Services, Inc. - Trans</td>\n",
       "      <td>WND</td>\n",
       "      <td>Wind</td>\n",
       "      <td>0</td>\n",
       "      <td>megawatthours</td>\n",
       "    </tr>\n",
       "    <tr>\n",
       "      <th>2022-07-01 01:00:00</th>\n",
       "      <td>SOCO</td>\n",
       "      <td>Southern Company Services, Inc. - Trans</td>\n",
       "      <td>WND</td>\n",
       "      <td>Wind</td>\n",
       "      <td>0</td>\n",
       "      <td>megawatthours</td>\n",
       "    </tr>\n",
       "    <tr>\n",
       "      <th>2022-07-01 02:00:00</th>\n",
       "      <td>SOCO</td>\n",
       "      <td>Southern Company Services, Inc. - Trans</td>\n",
       "      <td>WND</td>\n",
       "      <td>Wind</td>\n",
       "      <td>0</td>\n",
       "      <td>megawatthours</td>\n",
       "    </tr>\n",
       "    <tr>\n",
       "      <th>2022-07-01 03:00:00</th>\n",
       "      <td>SOCO</td>\n",
       "      <td>Southern Company Services, Inc. - Trans</td>\n",
       "      <td>WND</td>\n",
       "      <td>Wind</td>\n",
       "      <td>0</td>\n",
       "      <td>megawatthours</td>\n",
       "    </tr>\n",
       "    <tr>\n",
       "      <th>2022-07-01 04:00:00</th>\n",
       "      <td>SOCO</td>\n",
       "      <td>Southern Company Services, Inc. - Trans</td>\n",
       "      <td>WND</td>\n",
       "      <td>Wind</td>\n",
       "      <td>0</td>\n",
       "      <td>megawatthours</td>\n",
       "    </tr>\n",
       "  </tbody>\n",
       "</table>\n",
       "</div>"
      ],
      "text/plain": [
       "                    respondent                          respondent-name  \\\n",
       "period                                                                    \n",
       "2022-07-01 00:00:00       SOCO  Southern Company Services, Inc. - Trans   \n",
       "2022-07-01 01:00:00       SOCO  Southern Company Services, Inc. - Trans   \n",
       "2022-07-01 02:00:00       SOCO  Southern Company Services, Inc. - Trans   \n",
       "2022-07-01 03:00:00       SOCO  Southern Company Services, Inc. - Trans   \n",
       "2022-07-01 04:00:00       SOCO  Southern Company Services, Inc. - Trans   \n",
       "\n",
       "                    fueltype type-name  value    value-units  \n",
       "period                                                        \n",
       "2022-07-01 00:00:00      WND      Wind      0  megawatthours  \n",
       "2022-07-01 01:00:00      WND      Wind      0  megawatthours  \n",
       "2022-07-01 02:00:00      WND      Wind      0  megawatthours  \n",
       "2022-07-01 03:00:00      WND      Wind      0  megawatthours  \n",
       "2022-07-01 04:00:00      WND      Wind      0  megawatthours  "
      ]
     },
     "execution_count": 83,
     "metadata": {},
     "output_type": "execute_result"
    }
   ],
   "source": [
    "df = df.set_index('period')\n",
    "df.head()"
   ]
  },
  {
   "cell_type": "markdown",
   "metadata": {},
   "source": [
    "Now I want to explore and see if the Datetime index worked."
   ]
  },
  {
   "cell_type": "code",
   "execution_count": 84,
   "metadata": {},
   "outputs": [
    {
     "data": {
      "text/plain": [
       "Southern Company Services, Inc. - Trans    12688\n",
       "Name: respondent-name, dtype: int64"
      ]
     },
     "execution_count": 84,
     "metadata": {},
     "output_type": "execute_result"
    }
   ],
   "source": [
    "df['respondent-name'].value_counts()"
   ]
  },
  {
   "cell_type": "code",
   "execution_count": 85,
   "metadata": {},
   "outputs": [
    {
     "data": {
      "text/plain": [
       "Timestamp('2022-07-01 00:00:00')"
      ]
     },
     "execution_count": 85,
     "metadata": {},
     "output_type": "execute_result"
    }
   ],
   "source": [
    "df.index[0]"
   ]
  },
  {
   "cell_type": "code",
   "execution_count": 86,
   "metadata": {},
   "outputs": [
    {
     "data": {
      "text/plain": [
       "7"
      ]
     },
     "execution_count": 86,
     "metadata": {},
     "output_type": "execute_result"
    }
   ],
   "source": [
    "df.index[0].month"
   ]
  },
  {
   "cell_type": "code",
   "execution_count": 87,
   "metadata": {},
   "outputs": [
    {
     "data": {
      "text/plain": [
       "2022"
      ]
     },
     "execution_count": 87,
     "metadata": {},
     "output_type": "execute_result"
    }
   ],
   "source": [
    "df.index[0].year"
   ]
  },
  {
   "cell_type": "code",
   "execution_count": 88,
   "metadata": {},
   "outputs": [
    {
     "data": {
      "text/plain": [
       "1"
      ]
     },
     "execution_count": 88,
     "metadata": {},
     "output_type": "execute_result"
    }
   ],
   "source": [
    "df.index[0].day"
   ]
  },
  {
   "cell_type": "code",
   "execution_count": 89,
   "metadata": {},
   "outputs": [],
   "source": [
    "df = df.sort_index()\n",
    "# sorting the data by date using sort_index"
   ]
  },
  {
   "cell_type": "code",
   "execution_count": 90,
   "metadata": {},
   "outputs": [],
   "source": [
    "df_resampled = df.resample('D').sum()"
   ]
  },
  {
   "cell_type": "code",
   "execution_count": 92,
   "metadata": {},
   "outputs": [
    {
     "data": {
      "text/html": [
       "<div>\n",
       "<style scoped>\n",
       "    .dataframe tbody tr th:only-of-type {\n",
       "        vertical-align: middle;\n",
       "    }\n",
       "\n",
       "    .dataframe tbody tr th {\n",
       "        vertical-align: top;\n",
       "    }\n",
       "\n",
       "    .dataframe thead th {\n",
       "        text-align: right;\n",
       "    }\n",
       "</style>\n",
       "<table border=\"1\" class=\"dataframe\">\n",
       "  <thead>\n",
       "    <tr style=\"text-align: right;\">\n",
       "      <th></th>\n",
       "      <th>value</th>\n",
       "    </tr>\n",
       "    <tr>\n",
       "      <th>period</th>\n",
       "      <th></th>\n",
       "    </tr>\n",
       "  </thead>\n",
       "  <tbody>\n",
       "    <tr>\n",
       "      <th>2021-07-01</th>\n",
       "      <td>393574</td>\n",
       "    </tr>\n",
       "    <tr>\n",
       "      <th>2021-07-02</th>\n",
       "      <td>370842</td>\n",
       "    </tr>\n",
       "    <tr>\n",
       "      <th>2021-07-03</th>\n",
       "      <td>331165</td>\n",
       "    </tr>\n",
       "    <tr>\n",
       "      <th>2021-07-04</th>\n",
       "      <td>312014</td>\n",
       "    </tr>\n",
       "    <tr>\n",
       "      <th>2021-07-05</th>\n",
       "      <td>350574</td>\n",
       "    </tr>\n",
       "    <tr>\n",
       "      <th>...</th>\n",
       "      <td>...</td>\n",
       "    </tr>\n",
       "    <tr>\n",
       "      <th>2022-07-24</th>\n",
       "      <td>460483</td>\n",
       "    </tr>\n",
       "    <tr>\n",
       "      <th>2022-07-25</th>\n",
       "      <td>443328</td>\n",
       "    </tr>\n",
       "    <tr>\n",
       "      <th>2022-07-26</th>\n",
       "      <td>501879</td>\n",
       "    </tr>\n",
       "    <tr>\n",
       "      <th>2022-07-27</th>\n",
       "      <td>453442</td>\n",
       "    </tr>\n",
       "    <tr>\n",
       "      <th>2022-07-28</th>\n",
       "      <td>461233</td>\n",
       "    </tr>\n",
       "  </tbody>\n",
       "</table>\n",
       "<p>393 rows × 1 columns</p>\n",
       "</div>"
      ],
      "text/plain": [
       "             value\n",
       "period            \n",
       "2021-07-01  393574\n",
       "2021-07-02  370842\n",
       "2021-07-03  331165\n",
       "2021-07-04  312014\n",
       "2021-07-05  350574\n",
       "...            ...\n",
       "2022-07-24  460483\n",
       "2022-07-25  443328\n",
       "2022-07-26  501879\n",
       "2022-07-27  453442\n",
       "2022-07-28  461233\n",
       "\n",
       "[393 rows x 1 columns]"
      ]
     },
     "execution_count": 92,
     "metadata": {},
     "output_type": "execute_result"
    }
   ],
   "source": [
    "df_resampled"
   ]
  },
  {
   "cell_type": "code",
   "execution_count": 91,
   "metadata": {},
   "outputs": [
    {
     "data": {
      "image/png": "[encoded data removed]",
      "text/plain": [
       "<Figure size 720x360 with 1 Axes>"
      ]
     },
     "metadata": {
      "needs_background": "light"
     },
     "output_type": "display_data"
    }
   ],
   "source": [
    "# Plot our new df_resampled\n",
    "fig, ax = plt.subplots(figsize=(10, 5))\n",
    "ax.plot(df_resampled)\n",
    "ax.set_title('Daily consumption')\n",
    "ax.set_ylabel('value');"
   ]
  },
  {
   "cell_type": "code",
   "execution_count": null,
   "metadata": {},
   "outputs": [],
   "source": []
  },
  {
   "cell_type": "code",
   "execution_count": null,
   "metadata": {},
   "outputs": [],
   "source": []
  }
 ],
 "metadata": {
  "kernelspec": {
   "display_name": "Python (learn-env)",
   "language": "python",
   "name": "learn-env"
  },
  "language_info": {
   "codemirror_mode": {
    "name": "ipython",
    "version": 3
   },
   "file_extension": ".py",
   "mimetype": "text/x-python",
   "name": "python",
   "nbconvert_exporter": "python",
   "pygments_lexer": "ipython3",
   "version": "3.8.5"
  }
 },
 "nbformat": 4,
 "nbformat_minor": 4
}
