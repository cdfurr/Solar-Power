{
 "cells": [
  {
   "cell_type": "code",
   "execution_count": null,
   "id": "0dfc40b3",
   "metadata": {},
   "outputs": [],
   "source": [
    "## Future Dates Gas\n",
    "- Above we looked at how the models predicted existing data and learned from the past. \n",
    "- Below we will take the same process and apply it to future data to predict data we do not have. "
   ]
  },
  {
   "cell_type": "code",
   "execution_count": null,
   "id": "3a40f0a7",
   "metadata": {},
   "outputs": [],
   "source": [
    "df_gas_pr = df_gas.reset_index()\n",
    "df_gas_pr.head(2)\n",
    "# resetting the index for the df_gas dataframe and turning it back into a column for the labeling of ds and y."
   ]
  },
  {
   "cell_type": "code",
   "execution_count": null,
   "id": "da642650",
   "metadata": {},
   "outputs": [],
   "source": [
    "df_gas_pr = df_gas_pr.rename(columns = {'period': 'ds', 'value': 'y'})\n",
    "df_gas_pr.head(2)\n",
    "# rename the columns to 'ds'(time column) and 'y'(metric column), \n",
    "# this will the dataframe to fall within the conditions the fbprophet imposes"
   ]
  },
  {
   "cell_type": "code",
   "execution_count": null,
   "id": "c23a5c31",
   "metadata": {},
   "outputs": [],
   "source": [
    "# Prophet default uncertainty interval is 80%, below we adjusting it to 95%.\n",
    "Model_df_gas = Prophet(interval_width = 0.95)\n",
    "\n",
    "Model_df_gas.fit(df_gas_pr)"
   ]
  },
  {
   "cell_type": "code",
   "execution_count": null,
   "id": "dcbc0970",
   "metadata": {},
   "outputs": [],
   "source": [
    "# Use a weekly freqency and periods of 8 weeks or two months or 56 day\n",
    "future_df_gas = Model_df_gas.make_future_dataframe(periods = 56, freq = 'D')"
   ]
  },
  {
   "cell_type": "code",
   "execution_count": null,
   "id": "48861281",
   "metadata": {},
   "outputs": [],
   "source": [
    "#Predict the future dates and values\n",
    "results_df_gas = Model_df_gas.predict(df = future_df_gas)\n",
    "\n",
    "results_df_gas.tail(2)"
   ]
  },
  {
   "cell_type": "code",
   "execution_count": null,
   "id": "fff25c4d",
   "metadata": {},
   "outputs": [],
   "source": [
    "results_df_gas[['ds', 'yhat', 'yhat_lower', 'yhat_upper']].head(3)"
   ]
  },
  {
   "cell_type": "code",
   "execution_count": null,
   "id": "1f4f5fc6",
   "metadata": {},
   "outputs": [],
   "source": [
    "# plot the predictions\n",
    "Model_df_gas.plot(results_df_gas);"
   ]
  },
  {
   "cell_type": "code",
   "execution_count": null,
   "id": "80a051ad",
   "metadata": {},
   "outputs": [],
   "source": [
    "Prophet plotted the observered values (black dots) from the time series, the forecasted value (blue line), and the uncertainty interval (blue shade)."
   ]
  },
  {
   "cell_type": "code",
   "execution_count": null,
   "id": "7d062b65",
   "metadata": {},
   "outputs": [],
   "source": [
    "# Plot model components\n",
    "Model_df_gas.plot_components(results_df_gas);"
   ]
  },
  {
   "cell_type": "code",
   "execution_count": null,
   "id": "44f964ca",
   "metadata": {},
   "outputs": [],
   "source": [
    "### Conclusion:\n",
    "- The Prediction Plot follows a clear prediciton and can be used to better predict future gas production.\n",
    "- Majority of the observed values fall within the uncertainty interval or follows the trend."
   ]
  },
  {
   "cell_type": "code",
   "execution_count": null,
   "id": "627f74da",
   "metadata": {},
   "outputs": [],
   "source": []
  },
  {
   "cell_type": "code",
   "execution_count": null,
   "id": "73f29db9",
   "metadata": {},
   "outputs": [],
   "source": []
  },
  {
   "cell_type": "code",
   "execution_count": null,
   "id": "dc189e81",
   "metadata": {},
   "outputs": [],
   "source": []
  },
  {
   "cell_type": "code",
   "execution_count": null,
   "id": "5ba25798",
   "metadata": {},
   "outputs": [],
   "source": []
  },
  {
   "cell_type": "code",
   "execution_count": null,
   "id": "780ea1e2",
   "metadata": {},
   "outputs": [],
   "source": []
  }
 ],
 "metadata": {
  "kernelspec": {
   "display_name": "Python (learn-env)",
   "language": "python",
   "name": "learn-env"
  }
 },
 "nbformat": 4,
 "nbformat_minor": 5
}
